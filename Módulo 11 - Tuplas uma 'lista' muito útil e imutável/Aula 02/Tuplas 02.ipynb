{
 "cells": [
  {
   "cell_type": "markdown",
   "metadata": {},
   "source": [
    "# Tuplas\n",
    "\n",
    "### Estrutura:\n",
    "\n",
    "tupla = (valor, valor, valor, ...)\n",
    "\n",
    "### Diferença\n",
    "\n",
    "Parece uma lista, mas é imutável.\n",
    "\n",
    "### Vantagens:\n",
    "\n",
    "- Mais eficiente (em termos de performance)\n",
    "- Protege a base de dados (por ser imutável)\n",
    "- Muito usado para dados heterogêneos\n",
    "\n",
    "### Criando tuplas"
   ]
  },
  {
   "cell_type": "code",
   "execution_count": 1,
   "metadata": {},
   "outputs": [
    {
     "name": "stdout",
     "output_type": "stream",
     "text": [
      "('Lira', '25/08/2020', '15/02/1994', 2000, 'Estagiário')\n"
     ]
    }
   ],
   "source": [
    "vendas = ('Lira', '25/08/2020', '15/02/1994', 2000, 'Estagiário')\n",
    "print(vendas)"
   ]
  },
  {
   "cell_type": "markdown",
   "metadata": {},
   "source": [
    "### Acessando o valor de uma tupla"
   ]
  },
  {
   "cell_type": "code",
   "execution_count": 2,
   "metadata": {},
   "outputs": [
    {
     "name": "stdout",
     "output_type": "stream",
     "text": [
      "Lira\n"
     ]
    }
   ],
   "source": [
    "nome, data_contratacao, data_nascimento, salario, cargo = vendas\n",
    "print(nome)"
   ]
  },
  {
   "cell_type": "markdown",
   "metadata": {},
   "source": [
    "- o enumerate que vínhamos usando até agora, na verdade, cria uma tupla para a gente. Vamos ver na prática:"
   ]
  },
  {
   "cell_type": "code",
   "execution_count": 13,
   "metadata": {},
   "outputs": [
    {
     "name": "stdout",
     "output_type": "stream",
     "text": [
      "0\n",
      "1000\n",
      "(0, 1000)\n",
      "1\n",
      "2000\n",
      "(1, 2000)\n",
      "2\n",
      "300\n",
      "(2, 300)\n",
      "3\n",
      "300\n",
      "(3, 300)\n",
      "4\n",
      "150\n",
      "(4, 150)\n"
     ]
    }
   ],
   "source": [
    "vendas = [1000, 2000, 300, 300, 150]\n",
    "funcionarios = ['João', 'Lira', 'Ana', 'Maria', 'Paula']\n",
    "\n",
    "for item in enumerate(vendas):\n",
    "        i, venda = item\n",
    "        print(i) #printa o indice\n",
    "        print(venda) #printa o valor\n",
    "        print(item) #printa ambos pois fizemos o unpacking\n",
    "        #print('{} vendeu {} unidades'.format(funcionarios[i], venda))"
   ]
  }
 ],
 "metadata": {
  "kernelspec": {
   "display_name": "Python 3",
   "language": "python",
   "name": "python3"
  },
  "language_info": {
   "codemirror_mode": {
    "name": "ipython",
    "version": 3
   },
   "file_extension": ".py",
   "mimetype": "text/x-python",
   "name": "python",
   "nbconvert_exporter": "python",
   "pygments_lexer": "ipython3",
   "version": "3.12.3"
  }
 },
 "nbformat": 4,
 "nbformat_minor": 4
}
