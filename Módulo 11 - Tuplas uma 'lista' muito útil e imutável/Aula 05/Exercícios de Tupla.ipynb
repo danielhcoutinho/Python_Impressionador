{
 "cells": [
  {
   "cell_type": "markdown",
   "metadata": {},
   "source": [
    "# Exercícios\n",
    "\n",
    "São exercícios bem parecidos com os que fizemos com listas. Mas na tupla, podemos não só trabalhar com índices, mas fazer o \"unpacking\" das tuplas, o que pode facilitar nossos códigos.\n",
    "\n",
    "## 1. Análise de Vendas\n",
    "\n",
    "Nesse exercício vamos fazer uma \"análise simples\" de atingimento de Meta.\n",
    "\n",
    "Temos uma lista com os vendedores e os valores de vendas e queremos identificar (printar) quais os vendedores que bateram a meta e qual foi o valor que eles venderam."
   ]
  },
  {
   "cell_type": "code",
   "execution_count": 1,
   "metadata": {},
   "outputs": [],
   "source": [
    "meta = 10000\n",
    "vendas = [\n",
    "    ('João', 15000),\n",
    "    ('Julia', 27000),\n",
    "    ('Marcus', 9900),\n",
    "    ('Maria', 3750),\n",
    "    ('Ana', 10300),\n",
    "    ('Alon', 7870),\n",
    "]"
   ]
  },
  {
   "cell_type": "code",
   "execution_count": 14,
   "metadata": {},
   "outputs": [
    {
     "name": "stdout",
     "output_type": "stream",
     "text": [
      "Os vendedores que bateram a meta foi: João com 15000 unidades vendidas\n",
      "Os vendedores que bateram a meta foi: Julia com 27000 unidades vendidas\n",
      "Os vendedores que bateram a meta foi: Ana com 10300 unidades vendidas\n"
     ]
    }
   ],
   "source": [
    "for item in vendas:\n",
    "    nome, venda = item\n",
    "    if venda > meta:\n",
    "        print('Os vendedores que bateram a meta foi: {} com {} unidades vendidas'.format(nome, venda))"
   ]
  },
  {
   "cell_type": "markdown",
   "metadata": {},
   "source": [
    "## 2. Comparação com Ano Anterior\n",
    "\n",
    "Digamos que você está analisando as vendas de produtos de um ecommerce e quer identificar quais produtos tiveram no ano de 2020 mais vendas do que no ano de 2019, para reportar isso para a diretoria.\n",
    "\n",
    "Sua resposta pode ser um print de cada produto, qual foi a venda de 2019, a venda de 2020 e o % de crescimento de 2020 para 2019.\n",
    "\n",
    "Lembrando, para calcular o % de crescimento de um produto de um ano para o outro, podemos fazer: (vendas_produto2020/vendas_produto2019 - 1)\n",
    "\n",
    "A lógica da tupla é: (produto, vendas2019, vendas2020)"
   ]
  },
  {
   "cell_type": "code",
   "execution_count": 15,
   "metadata": {},
   "outputs": [
    {
     "name": "stdout",
     "output_type": "stream",
     "text": [
      "O iphone teve 558147 de vendas em 2019 e 951642 vendas em 2020, um crescimento de 70.50%\n",
      "O tv teve 405252 de vendas em 2019 e 787604 vendas em 2020, um crescimento de 94.35%\n",
      "O máquina de café teve 718654 de vendas em 2019 e 867660 vendas em 2020, um crescimento de 20.73%\n",
      "O notebook dell teve 422760 de vendas em 2019 e 694913 vendas em 2020, um crescimento de 64.38%\n",
      "O notebook hp teve 154753 de vendas em 2019 e 539704 vendas em 2020, um crescimento de 248.75%\n",
      "O microsoft surface teve 438508 de vendas em 2019 e 667179 vendas em 2020, um crescimento de 52.15%\n",
      "O webcam teve 237467 de vendas em 2019 e 295633 vendas em 2020, um crescimento de 24.49%\n",
      "O caixa de som teve 489705 de vendas em 2019 e 725316 vendas em 2020, um crescimento de 48.11%\n",
      "O microfone teve 328311 de vendas em 2019 e 644622 vendas em 2020, um crescimento de 96.34%\n",
      "O câmera canon teve 591120 de vendas em 2019 e 994303 vendas em 2020, um crescimento de 68.21%\n"
     ]
    }
   ],
   "source": [
    "vendas_produtos = [('iphone', 558147, 951642), ('galaxy', 712350, 244295), ('ipad', 573823, 26964), ('tv', 405252, 787604), ('máquina de café', 718654, 867660), ('kindle', 531580, 78830), ('geladeira', 973139, 710331), ('adega', 892292, 646016), ('notebook dell', 422760, 694913), ('notebook hp', 154753, 539704), ('notebook asus', 887061, 324831), ('microsoft surface', 438508, 667179), ('webcam', 237467, 295633), ('caixa de som', 489705, 725316), ('microfone', 328311, 644622), ('câmera canon', 591120, 994303)]\n",
    "\n",
    "#seu código aqui\n",
    "\n",
    "for item in vendas_produtos:\n",
    "    produto, vendas2019, vendas2020 = item\n",
    "    if vendas2020 > vendas2019:\n",
    "        crescimento = vendas2020 / vendas2019 - 1\n",
    "        print('O {} teve {} de vendas em 2019 e {} vendas em 2020, um crescimento de {:.2%}'.format(produto, vendas2019, vendas2020, crescimento))"
   ]
  }
 ],
 "metadata": {
  "kernelspec": {
   "display_name": "Python 3",
   "language": "python",
   "name": "python3"
  },
  "language_info": {
   "codemirror_mode": {
    "name": "ipython",
    "version": 3
   },
   "file_extension": ".py",
   "mimetype": "text/x-python",
   "name": "python",
   "nbconvert_exporter": "python",
   "pygments_lexer": "ipython3",
   "version": "3.12.3"
  }
 },
 "nbformat": 4,
 "nbformat_minor": 4
}
