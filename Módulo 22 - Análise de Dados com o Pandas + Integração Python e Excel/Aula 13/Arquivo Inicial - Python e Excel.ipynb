{
 "cells": [
  {
   "cell_type": "markdown",
   "id": "9acbc885",
   "metadata": {},
   "source": [
    "# Integração Python + Excel\n",
    "\n",
    "### 2 formas:\n",
    "\n",
    "1. Pandas\n",
    "    - Mais usada no geral\n",
    "    - Trata o Excel como uma base de dados\n",
    "    - Faz o que quiser com o arquivo\n",
    "    - Pode desfazer a estrutura original do arquivo, caso queira editar\n",
    "    \n",
    "2. Openpyxl\n",
    "    - Trata o Excel como uma planilha mesmo que pode ter várias coisas\n",
    "    - Edita \"como se fosse um VBA\"\n",
    "    - Menos eficiente\n",
    "    - Mantém mais a estrutura original do arquivo, mas cuidado porque não necessariamente tudo, então tem que testar"
   ]
  },
  {
   "cell_type": "markdown",
   "id": "1da7f8d8",
   "metadata": {},
   "source": [
    "### Desafio\n",
    "\n",
    "- Temos uma planilha de produtos e serviços. Com o aumento de imposto sobre os serviços, temos que atualizar o preço dos produtos impactados pela mudança.\n",
    "\n",
    "Novo Multiplicador Imposto: 1.5"
   ]
  },
  {
   "cell_type": "code",
   "execution_count": 7,
   "id": "39fc3bbd",
   "metadata": {},
   "outputs": [
    {
     "name": "stdout",
     "output_type": "stream",
     "text": [
      "Collecting openpyxl\n",
      "  Downloading openpyxl-3.1.5-py2.py3-none-any.whl.metadata (2.5 kB)\n",
      "Collecting et-xmlfile (from openpyxl)\n",
      "  Downloading et_xmlfile-2.0.0-py3-none-any.whl.metadata (2.7 kB)\n",
      "Downloading openpyxl-3.1.5-py2.py3-none-any.whl (250 kB)\n",
      "   ---------------------------------------- 0.0/250.9 kB ? eta -:--:--\n",
      "   ---------------------------------------- 0.0/250.9 kB ? eta -:--:--\n",
      "   ---- ---------------------------------- 30.7/250.9 kB 660.6 kB/s eta 0:00:01\n",
      "   ---------------------------------------  245.8/250.9 kB 3.0 MB/s eta 0:00:01\n",
      "   ---------------------------------------- 250.9/250.9 kB 2.6 MB/s eta 0:00:00\n",
      "Downloading et_xmlfile-2.0.0-py3-none-any.whl (18 kB)\n",
      "Installing collected packages: et-xmlfile, openpyxl\n",
      "Successfully installed et-xmlfile-2.0.0 openpyxl-3.1.5\n"
     ]
    },
    {
     "name": "stderr",
     "output_type": "stream",
     "text": [
      "\n",
      "[notice] A new release of pip is available: 24.0 -> 25.0.1\n",
      "[notice] To update, run: python.exe -m pip install --upgrade pip\n"
     ]
    }
   ],
   "source": [
    "\n",
    "!pip install openpyxl"
   ]
  },
  {
   "cell_type": "code",
   "execution_count": null,
   "id": "79673b94",
   "metadata": {
    "scrolled": true
   },
   "outputs": [
    {
     "data": {
      "text/html": [
       "<div>\n",
       "<style scoped>\n",
       "    .dataframe tbody tr th:only-of-type {\n",
       "        vertical-align: middle;\n",
       "    }\n",
       "\n",
       "    .dataframe tbody tr th {\n",
       "        vertical-align: top;\n",
       "    }\n",
       "\n",
       "    .dataframe thead th {\n",
       "        text-align: right;\n",
       "    }\n",
       "</style>\n",
       "<table border=\"1\" class=\"dataframe\">\n",
       "  <thead>\n",
       "    <tr style=\"text-align: right;\">\n",
       "      <th></th>\n",
       "      <th>Produtos</th>\n",
       "      <th>Preço Base Original</th>\n",
       "      <th>Tipo</th>\n",
       "      <th>Multiplicador Imposto</th>\n",
       "      <th>Preço Base Reais</th>\n",
       "    </tr>\n",
       "  </thead>\n",
       "  <tbody>\n",
       "    <tr>\n",
       "      <th>0</th>\n",
       "      <td>Tablet</td>\n",
       "      <td>999.99</td>\n",
       "      <td>Produto</td>\n",
       "      <td>1.1</td>\n",
       "      <td>1099.989</td>\n",
       "    </tr>\n",
       "    <tr>\n",
       "      <th>1</th>\n",
       "      <td>Pós Graduação</td>\n",
       "      <td>4500.00</td>\n",
       "      <td>Serviço</td>\n",
       "      <td>1.3</td>\n",
       "      <td>5850.000</td>\n",
       "    </tr>\n",
       "    <tr>\n",
       "      <th>2</th>\n",
       "      <td>Celular</td>\n",
       "      <td>899.99</td>\n",
       "      <td>Produto</td>\n",
       "      <td>1.1</td>\n",
       "      <td>989.989</td>\n",
       "    </tr>\n",
       "    <tr>\n",
       "      <th>3</th>\n",
       "      <td>Passagem Aérea</td>\n",
       "      <td>799.00</td>\n",
       "      <td>Serviço</td>\n",
       "      <td>1.3</td>\n",
       "      <td>1038.700</td>\n",
       "    </tr>\n",
       "    <tr>\n",
       "      <th>4</th>\n",
       "      <td>Computador</td>\n",
       "      <td>3000.00</td>\n",
       "      <td>Produto</td>\n",
       "      <td>1.1</td>\n",
       "      <td>3300.000</td>\n",
       "    </tr>\n",
       "    <tr>\n",
       "      <th>5</th>\n",
       "      <td>SPA</td>\n",
       "      <td>480.48</td>\n",
       "      <td>Serviço</td>\n",
       "      <td>1.3</td>\n",
       "      <td>624.624</td>\n",
       "    </tr>\n",
       "    <tr>\n",
       "      <th>6</th>\n",
       "      <td>Corte Cabelo</td>\n",
       "      <td>50.00</td>\n",
       "      <td>Serviço</td>\n",
       "      <td>1.3</td>\n",
       "      <td>65.000</td>\n",
       "    </tr>\n",
       "  </tbody>\n",
       "</table>\n",
       "</div>"
      ],
      "text/plain": [
       "         Produtos  Preço Base Original     Tipo  Multiplicador Imposto  \\\n",
       "0          Tablet               999.99  Produto                    1.1   \n",
       "1   Pós Graduação              4500.00  Serviço                    1.3   \n",
       "2         Celular               899.99  Produto                    1.1   \n",
       "3  Passagem Aérea               799.00  Serviço                    1.3   \n",
       "4      Computador              3000.00  Produto                    1.1   \n",
       "5             SPA               480.48  Serviço                    1.3   \n",
       "6    Corte Cabelo                50.00  Serviço                    1.3   \n",
       "\n",
       "   Preço Base Reais  \n",
       "0          1099.989  \n",
       "1          5850.000  \n",
       "2           989.989  \n",
       "3          1038.700  \n",
       "4          3300.000  \n",
       "5           624.624  \n",
       "6            65.000  "
      ]
     },
     "metadata": {},
     "output_type": "display_data"
    }
   ],
   "source": [
    "# pandas\n",
    "import pandas as pd\n",
    "\n",
    "tabela = pd.read_excel(\"Produtos.xlsx\")\n",
    "display(tabela)\n",
    "\n",
    "#atualizar multiplicador \n",
    "tabela.loc[tabela[\"Tipo\"]==\"Serviço\", \"Multiplicador Imposto\"] = 1.5 #toda linha que tiver o tipo serviço mudar o multiplicador para 1.5\n",
    "\n",
    "#fazer a conta do preço base reais\n",
    "tabela[\"Preço Base Reais\"] = tabela[\"Multiplicador Imposto\"] * tabela[\"Preço Base Original\"] #apos atualizar o  multiplicador fazemos a conta da coluna do multiplicador x o preço base original\n",
    "\n",
    "tabela.to_excel(\"Produtospandas.xlsx\")"
   ]
  },
  {
   "cell_type": "code",
   "execution_count": null,
   "id": "03b62e36",
   "metadata": {},
   "outputs": [],
   "source": [
    "# atualizando a cotação e as colunas seguintes"
   ]
  },
  {
   "cell_type": "code",
   "execution_count": 12,
   "id": "72efa318",
   "metadata": {},
   "outputs": [],
   "source": [
    "# openpyxl\n",
    "from openpyxl import Workbook, load_workbook\n",
    "\n",
    "planilha = load_workbook(\"Produtos.xlsx\") #abrindo o arquivo\n",
    "\n",
    "aba_ativa = planilha.active #seleciona a aba que queremos\n",
    "\n",
    "for celula in aba_ativa[\"C\"]:#para cada celula na minha coluna C, isso que quis dizer esse for\n",
    "     if celula.value == \"Serviço\": #se o valor da celula for igual a serviço\n",
    "         linha = celula.row\n",
    "         aba_ativa[f\"D{linha}\"] = 1.5 #faz com que a celula correspondente a mesma linha que tem \"serviço\", altera o valor na coluna D\n",
    "\n",
    "planilha.save(\"PlanilhaOpenPyxl.xlsx\")"
   ]
  }
 ],
 "metadata": {
  "kernelspec": {
   "display_name": "Python 3",
   "language": "python",
   "name": "python3"
  },
  "language_info": {
   "codemirror_mode": {
    "name": "ipython",
    "version": 3
   },
   "file_extension": ".py",
   "mimetype": "text/x-python",
   "name": "python",
   "nbconvert_exporter": "python",
   "pygments_lexer": "ipython3",
   "version": "3.12.3"
  }
 },
 "nbformat": 4,
 "nbformat_minor": 5
}
