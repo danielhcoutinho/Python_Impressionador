{
 "cells": [
  {
   "cell_type": "markdown",
   "id": "f3dcc64b-7d08-4c0e-ac5a-0d38face6fa4",
   "metadata": {},
   "source": [
    "# Criando um aplicativo de compras"
   ]
  },
  {
   "cell_type": "markdown",
   "id": "2c893b47-7ad6-4f49-8441-ca1b3c3d61cc",
   "metadata": {},
   "source": [
    "Desenvolva um programa que gerencie uma lista de compras. O programa deve permitir que o usuário adicione e remova itens da lista, além de visualizar a lista. O programa deve ser capaz de:\n",
    "\n",
    "- salvar a lista em um arquivo \n",
    "- carregar uma lista existente \n",
    "- gerenciar múltiplas listas de compras, cada uma em um arquivo diferente \n",
    "- salvar a lista atual em um arquivo ou sair sem salvar\n",
    "\n",
    "Organize o programa em funções. Cada função deve ter uma única responsabilidade. O programa deve ter:\n",
    "\n",
    "- função `main` que chama as outras funções \n",
    "- um menu que permite ao usuário escolher uma opção \n",
    "- uma função para cada opção do menu \n",
    "- uma função para cada operação que pode ser realizada na lista de compras\n",
    "\n",
    "**Dica**: não confunda o nome \"lista\" com a estrutura de dados lista. Uma lista de compras contém os itens e suas quantidades. A estrutura de dados utilizada deve ser, portanto, um dicionário, onde a chave é o nome\n",
    "do item e o valor é a quantidade.\n"
   ]
  },
  {
   "cell_type": "code",
   "execution_count": null,
   "id": "a3ab0bf7-0d93-4616-9e11-6ecc20a85d66",
   "metadata": {},
   "outputs": [
    {
     "name": "stdout",
     "output_type": "stream",
     "text": [
      "{}\n"
     ]
    }
   ],
   "source": [
    "import json\n",
    "compras = {}\n",
    "\n",
    "def adicionar_item(compras, item, quantidade):\n",
    "        compras[item] = quantidade #add no dic compras a chave (item) e o valor (quantidade)\n",
    "\n",
    "def remover_item(compras, item):\n",
    "    if item in compras: #se tiver o item em compras\n",
    "        del compras[item] #deleta o item do dic compras\n",
    "\n",
    "def visualizar_compras(compras):\n",
    "    for item, quantidade in compras.items(): #para cada item/quantidade nos itens do dic compras\n",
    "         print(f'{item}: {quantidade}') #printar o item e a quantidade dele\n",
    "    print()\n",
    "    print('Pressione enter para continuar')\n",
    "    input()\n",
    "\n",
    "def salvar_compras(compras, nome_arquivo):\n",
    "    with open(nome_arquivo, 'w') as arquivo: #abre um arquivo para escrita para outro novo arquivo\n",
    "    json.dump(compras, arquivo) #passamos o dic para o arquivo\n",
    "\n",
    "def carregar_compras(nome_arquivo):\n",
    "    with open(nome_arquivo, 'r') as arquivo: #abre um arquivo para leitura para o outro novo arquivo\n",
    "    return json.load(arquivo) #carrega o arquivo passado\n",
    "\n",
    "def gerenciar_compras(compras):\n",
    "    pass\n",
    "\n",
    "def main():\n",
    "    pass\n",
    "\n",
    "print(compras)"
   ]
  },
  {
   "cell_type": "code",
   "execution_count": 4,
   "id": "c8354507",
   "metadata": {},
   "outputs": [
    {
     "name": "stdout",
     "output_type": "stream",
     "text": [
      "arroz: 2\n",
      "feijao: 3\n",
      "\n",
      "Pressione enter para continuar\n"
     ]
    },
    {
     "data": {
      "text/plain": [
       "'55'"
      ]
     },
     "execution_count": 4,
     "metadata": {},
     "output_type": "execute_result"
    }
   ],
   "source": [
    "dic_teste = {}\n",
    "\n",
    "dic_teste['arroz'] = 2\n",
    "dic_teste['feijao'] = 3\n",
    "\n",
    "for item, qtd in dic_teste.items():\n",
    "    print(f'{item}: {qtd}') #printar o item e a quantidade dele\n",
    "print()\n",
    "print('Pressione enter para continuar')\n",
    "input()"
   ]
  },
  {
   "cell_type": "code",
   "execution_count": 7,
   "id": "40d1a969",
   "metadata": {},
   "outputs": [],
   "source": [
    "import json\n",
    "\n",
    "with open('dic_teste.json', 'w') as arquivo: #abre um arquivo json para escrita para o arquivo\n",
    "    json.dump(dic_teste, arquivo) #passamos o dic para o arquivo"
   ]
  },
  {
   "cell_type": "code",
   "execution_count": null,
   "id": "eae0a333",
   "metadata": {},
   "outputs": [],
   "source": [
    "with open('dic_teste.json', 'r') as arquivo: #abre um arquivo para leitura para o outro novo arquivo\n",
    "    dic_leitura = json.load(arquivo) #carrega o arquivo passado"
   ]
  },
  {
   "cell_type": "code",
   "execution_count": 9,
   "id": "403b09a5",
   "metadata": {},
   "outputs": [
    {
     "name": "stdout",
     "output_type": "stream",
     "text": [
      "{'arroz': 2, 'feijao': 3}\n"
     ]
    }
   ],
   "source": [
    "print(dic_leitura)"
   ]
  }
 ],
 "metadata": {
  "kernelspec": {
   "display_name": "Python 3",
   "language": "python",
   "name": "python3"
  },
  "language_info": {
   "codemirror_mode": {
    "name": "ipython",
    "version": 3
   },
   "file_extension": ".py",
   "mimetype": "text/x-python",
   "name": "python",
   "nbconvert_exporter": "python",
   "pygments_lexer": "ipython3",
   "version": "3.12.3"
  }
 },
 "nbformat": 4,
 "nbformat_minor": 5
}
