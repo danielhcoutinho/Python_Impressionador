{
 "cells": [
  {
   "cell_type": "code",
   "execution_count": 1,
   "metadata": {},
   "outputs": [
    {
     "name": "stdout",
     "output_type": "stream",
     "text": [
      "Collecting pypdf2\n",
      "  Downloading pypdf2-3.0.1-py3-none-any.whl.metadata (6.8 kB)\n",
      "Downloading pypdf2-3.0.1-py3-none-any.whl (232 kB)\n",
      "   ---------------------------------------- 0.0/232.6 kB ? eta -:--:--\n",
      "   ---------------------------------------- 0.0/232.6 kB ? eta -:--:--\n",
      "   --- ----------------------------------- 20.5/232.6 kB 217.9 kB/s eta 0:00:01\n",
      "   ------ -------------------------------- 41.0/232.6 kB 393.8 kB/s eta 0:00:01\n",
      "   -------------------------------------- - 225.3/232.6 kB 1.5 MB/s eta 0:00:01\n",
      "   ---------------------------------------- 232.6/232.6 kB 1.4 MB/s eta 0:00:00\n",
      "Installing collected packages: pypdf2\n",
      "Successfully installed pypdf2-3.0.1\n"
     ]
    },
    {
     "name": "stderr",
     "output_type": "stream",
     "text": [
      "\n",
      "[notice] A new release of pip is available: 24.0 -> 25.1.1\n",
      "[notice] To update, run: python.exe -m pip install --upgrade pip\n"
     ]
    },
    {
     "name": "stdout",
     "output_type": "stream",
     "text": [
      "Collecting tabula-py\n",
      "  Downloading tabula_py-2.10.0-py3-none-any.whl.metadata (7.6 kB)\n",
      "Requirement already satisfied: pandas>=0.25.3 in c:\\users\\danih\\appdata\\local\\programs\\python\\python312\\lib\\site-packages (from tabula-py) (2.2.3)\n",
      "Requirement already satisfied: numpy>1.24.4 in c:\\users\\danih\\appdata\\local\\programs\\python\\python312\\lib\\site-packages (from tabula-py) (2.2.0)\n",
      "Collecting distro (from tabula-py)\n",
      "  Downloading distro-1.9.0-py3-none-any.whl.metadata (6.8 kB)\n",
      "Requirement already satisfied: python-dateutil>=2.8.2 in c:\\users\\danih\\appdata\\roaming\\python\\python312\\site-packages (from pandas>=0.25.3->tabula-py) (2.9.0.post0)\n",
      "Requirement already satisfied: pytz>=2020.1 in c:\\users\\danih\\appdata\\local\\programs\\python\\python312\\lib\\site-packages (from pandas>=0.25.3->tabula-py) (2024.2)\n",
      "Requirement already satisfied: tzdata>=2022.7 in c:\\users\\danih\\appdata\\local\\programs\\python\\python312\\lib\\site-packages (from pandas>=0.25.3->tabula-py) (2025.1)\n",
      "Requirement already satisfied: six>=1.5 in c:\\users\\danih\\appdata\\roaming\\python\\python312\\site-packages (from python-dateutil>=2.8.2->pandas>=0.25.3->tabula-py) (1.16.0)\n",
      "Downloading tabula_py-2.10.0-py3-none-any.whl (12.0 MB)\n",
      "   ---------------------------------------- 0.0/12.0 MB ? eta -:--:--\n",
      "   ---------------------------------------- 0.0/12.0 MB ? eta -:--:--\n",
      "   ---------------------------------------- 0.0/12.0 MB 653.6 kB/s eta 0:00:19\n",
      "   - -------------------------------------- 0.3/12.0 MB 3.2 MB/s eta 0:00:04\n",
      "   --- ------------------------------------ 0.9/12.0 MB 6.4 MB/s eta 0:00:02\n",
      "   ------ --------------------------------- 1.8/12.0 MB 9.7 MB/s eta 0:00:02\n",
      "   ---------- ----------------------------- 3.2/12.0 MB 13.7 MB/s eta 0:00:01\n",
      "   ----------------- ---------------------- 5.2/12.0 MB 18.4 MB/s eta 0:00:01\n",
      "   ------------------------ --------------- 7.3/12.0 MB 22.1 MB/s eta 0:00:01\n",
      "   --------------------------------- ------ 10.1/12.0 MB 27.0 MB/s eta 0:00:01\n",
      "   ---------------------------------------  12.0/12.0 MB 46.7 MB/s eta 0:00:01\n",
      "   ---------------------------------------  12.0/12.0 MB 46.7 MB/s eta 0:00:01\n",
      "   ---------------------------------------  12.0/12.0 MB 46.7 MB/s eta 0:00:01\n",
      "   ---------------------------------------- 12.0/12.0 MB 29.7 MB/s eta 0:00:00\n",
      "Downloading distro-1.9.0-py3-none-any.whl (20 kB)\n",
      "Installing collected packages: distro, tabula-py\n",
      "Successfully installed distro-1.9.0 tabula-py-2.10.0\n"
     ]
    },
    {
     "name": "stderr",
     "output_type": "stream",
     "text": [
      "\n",
      "[notice] A new release of pip is available: 24.0 -> 25.1.1\n",
      "[notice] To update, run: python.exe -m pip install --upgrade pip\n"
     ]
    }
   ],
   "source": [
    "!pip install pypdf2\n",
    "!pip install  tabula-py"
   ]
  },
  {
   "cell_type": "markdown",
   "metadata": {},
   "source": [
    "# Vamos aprender a trabalhar com PDF usando o Python\n",
    "\n",
    "- Regra geral: PDF foi feito justamente para bloquear muita coisa, então não é fácil \"brincar\" com um pdf\n",
    "- Mesmo assim, Python tem várias bibliotecas que vão nos ajudar, vamos focar em 2:\n",
    "    - PyPDF2\n",
    "    - Tabula\n",
    "- Ler e extrair informações de um PDF a gente consegue fazer.\n",
    "- Escrever e Editar, aí já é outra história\n",
    "\n",
    "### Para os nossos exemplos, vamos avaliar o Release de Resultados do 3º e 4º Trimestre de 2020 da Magazine Luiza"
   ]
  },
  {
   "cell_type": "markdown",
   "metadata": {},
   "source": [
    "#### 1º Objetivo: Queremos conseguir separar apenas o DRE do Release de Resultados (Página 14) para enviar para a Diretoria, como fazemos?\n",
    "    - Separar as páginas de um pdf"
   ]
  },
  {
   "cell_type": "code",
   "execution_count": null,
   "metadata": {},
   "outputs": [],
   "source": [
    "import PyPDF2 as pyf\n",
    "\n",
    "from pathlib import Path\n",
    "\n",
    "nome = \"MGLU_ER_3T20_POR.pdf\"\n",
    "arquivo_pdf = pyf.PdfReader(nome) #vai abrir e ler o arquivo PDF\n",
    "\n",
    "for i, pagina in enumerate(arquivo_pdf.pages): #para cada indice e pagina no PDF\n",
    "    num_pagina = i + 1 #pega o nmr da pag/indice do PDF e soma mais um ao percorrer\n",
    "    novo_pdf = pyf.PdfWriter() #cria um PDF e que pode ser escrito com esse metodo\n",
    "    novo_pdf.add_page(pagina) #add a pagina do PDF que percorrerá no for\n",
    "\n",
    "    with Path(f'paginas/Arquivo Pag {num_pagina}.pdf').open(mode='wb') as arquivo: #salva os arquivos na pasta \"paginas\" e abre o arquivo em modo de escrita\n",
    "        novo_pdf.write(arquivo) #roda um novo PDF que é o que criamos\n",
    "\n",
    "\n"
   ]
  },
  {
   "cell_type": "markdown",
   "metadata": {},
   "source": [
    "#### 2º Objetivo: Com o Release de Resultados já separado página por página, queremos incluir apenas as Páginas de Destaque (Página 1), DRE (Página 14) e Balanço (Página 16).\n",
    "    - Juntar vários pdfs em 1"
   ]
  },
  {
   "cell_type": "code",
   "execution_count": null,
   "metadata": {},
   "outputs": [],
   "source": [
    "import PyPDF2 as pyf  # Importa a biblioteca PyPDF2 e dá o apelido \"pyf\" para facilitar o uso\n",
    "\n",
    "from pathlib import Path  # Importa o Path, que serve para trabalhar com arquivos e caminhos de forma moderna\n",
    "\n",
    "num_paginas = [1, 14, 16]  # Lista com os números das páginas/arquivos PDF que queremos juntar\n",
    "\n",
    "novo_arquivo = pyf.PdfWriter()  # Cria um novo PDF vazio, pronto para receber páginas\n",
    "\n",
    "for num in num_paginas:  # Para cada número na lista de páginas\n",
    "    pagina_pdf = pyf.PdfReader(f'paginas/Arquivo Pag {num}.pdf')  # Abre e lê o PDF da pasta 'paginas' com o número atual\n",
    "    novo_arquivo.add_page(pagina_pdf.pages[0])  # Adiciona a primeira (e única) página do PDF lido ao novo PDF\n",
    "\n",
    "with Path(f'Consolidado.pdf').open(mode='wb') as arquivo:  # Abre (ou cria) o arquivo Consolidado.pdf para escrita binária\n",
    "    novo_arquivo.write(arquivo)  # Escreve o conteúdo do novo PDF (com as páginas adicionadas) dentro do arquivo\n"
   ]
  },
  {
   "cell_type": "markdown",
   "metadata": {},
   "source": [
    "### Extra: Para adicionar todas as páginas de 2 pdfs"
   ]
  },
  {
   "cell_type": "code",
   "execution_count": null,
   "metadata": {},
   "outputs": [],
   "source": [
    "pdf_mesclado = pyf.PdfMerger()\n",
    "\n",
    "pdf_mesclado.append('MGLU_ER_3T20_POR.pdf')\n",
    "pdf_mesclado.append('MGLU_ER_4T20_POR.pdf')\n",
    "\n",
    "with Path(f'Mesclado.pdf').open(mode='wb') as arquivo:\n",
    "    pdf_mesclado.write(arquivo)"
   ]
  },
  {
   "cell_type": "markdown",
   "metadata": {},
   "source": [
    "# Funcionalidades que podem ser úteis:\n",
    "\n",
    "- Inserir arquivo no meio do outro\n",
    "- Quero colocar dentro do Resultado do 4T20 os destaques do 3T20 para poder comparar os 2 dentro do mesmo relatório"
   ]
  },
  {
   "cell_type": "code",
   "execution_count": null,
   "metadata": {},
   "outputs": [],
   "source": []
  },
  {
   "cell_type": "markdown",
   "metadata": {},
   "source": [
    "- Rodar Página"
   ]
  },
  {
   "cell_type": "code",
   "execution_count": null,
   "metadata": {},
   "outputs": [],
   "source": []
  },
  {
   "cell_type": "markdown",
   "metadata": {},
   "source": [
    "# Trabalhando com Textos e Informações Dentro do PDF\n",
    "\n",
    "#### 1º Objetivo: Quero identificar como foram as Despesas com Vendas da MGLU\n",
    "    - Pegar texto da página e identificar onde está essa informação"
   ]
  },
  {
   "cell_type": "code",
   "execution_count": null,
   "metadata": {},
   "outputs": [],
   "source": []
  },
  {
   "cell_type": "markdown",
   "metadata": {},
   "source": [
    "#### 2º Objetivo: Quero analisar o DRE (sem ajuste - Página 5)\n",
    "    - Para ler tabelas em pdf, use o tabula (é ninja)\n",
    "    \n",
    "    - Cuidado 1: Instale o tabula-py (não instale o tabula). Se instalar o tabula errado, desinstale ele, instale o tabula-py, desinstale o tabula-py e instale novamente o tabula-py. Reinicie o kernel do Jupyter após isso\n",
    "    \n",
    "    - Cuidado 2: Tem que ter o java instalado no seu computador (depois de instalar, reinicie o computador)"
   ]
  },
  {
   "cell_type": "code",
   "execution_count": null,
   "metadata": {},
   "outputs": [],
   "source": []
  },
  {
   "cell_type": "markdown",
   "metadata": {},
   "source": [
    "#### 3º Objetivo: Quero analisar o Capital de Giro e os Investimentos (ambas as tabelas na página 12)\n",
    "    - Páginas com mais de 1 tabela"
   ]
  },
  {
   "cell_type": "code",
   "execution_count": null,
   "metadata": {},
   "outputs": [],
   "source": []
  },
  {
   "cell_type": "markdown",
   "metadata": {},
   "source": [
    "#### O que fazer quando o tabula não consegue ler alguma linha da tabela? Como o cabeçalho, no nosso caso?"
   ]
  },
  {
   "cell_type": "code",
   "execution_count": null,
   "metadata": {},
   "outputs": [],
   "source": []
  },
  {
   "cell_type": "markdown",
   "metadata": {},
   "source": [
    "# Outro método que pode ser útil algum dia: Captar Imagem em um pdf\n",
    "    - biblioteca pikepdf"
   ]
  },
  {
   "cell_type": "code",
   "execution_count": null,
   "metadata": {},
   "outputs": [],
   "source": []
  },
  {
   "cell_type": "markdown",
   "metadata": {},
   "source": [
    "# Substituir texto no pdf tipo contrato\n",
    "\n",
    "- Não recomendo fazer diretamente pelo Python. Realmente do que vi a melhor opção me parece o Word fazer isso\n",
    "- Caso precise automatizar, automatize o processo fazendo ele pelo Word\n",
    "- Quem quiser MUITO fazer isso pelo Python, tem um link aqui que vai te ajudar de uma solução que achei que funciona. Tem seus bugs/cuidados especiais, mas funciona: https://pdf.co/samples/pdf-co-web-api-replace-text-from-pdf-python-replace-text-from-url"
   ]
  }
 ],
 "metadata": {
  "kernelspec": {
   "display_name": "Python 3",
   "language": "python",
   "name": "python3"
  },
  "language_info": {
   "codemirror_mode": {
    "name": "ipython",
    "version": 3
   },
   "file_extension": ".py",
   "mimetype": "text/x-python",
   "name": "python",
   "nbconvert_exporter": "python",
   "pygments_lexer": "ipython3",
   "version": "3.12.3"
  }
 },
 "nbformat": 4,
 "nbformat_minor": 4
}
