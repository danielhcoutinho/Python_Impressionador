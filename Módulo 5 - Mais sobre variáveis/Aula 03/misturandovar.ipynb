{
 "cells": [
  {
   "cell_type": "code",
   "execution_count": 6,
   "metadata": {},
   "outputs": [
    {
     "name": "stdout",
     "output_type": "stream",
     "text": [
      "o faturamento da loja foi 1000\n"
     ]
    }
   ],
   "source": [
    "faturamento = 1000\n",
    "\n",
    "print('o faturamento da loja foi' +' ' + str(faturamento))"
   ]
  },
  {
   "cell_type": "code",
   "execution_count": 7,
   "metadata": {},
   "outputs": [
    {
     "name": "stdout",
     "output_type": "stream",
     "text": [
      "o faturamento da loja foi 1000 reais\n",
      "o custo da loja foi 200 reais\n",
      "Assim o lucro da loja foi de 800 reais\n",
      "o faturamento da loja foi 1000 reais. O custo da loja foi 200 reais. Assim o lucro da loja foi de 800 reais\n"
     ]
    }
   ],
   "source": [
    "faturamento = 1000\n",
    "custo = 200\n",
    "lucro = faturamento - custo\n",
    "\n",
    "print('o faturamento da loja foi' + ' ' + str(faturamento) + ' reais')\n",
    "print('o custo da loja foi ' + str(custo) + ' reais')\n",
    "print('Assim o lucro da loja foi de ' + str(lucro) + ' reais')\n",
    "\n",
    "print ('o faturamento da loja foi' + ' ' + str (faturamento) + ' reais' + '.' + ' O custo da loja foi ' + str(custo) + ' reais' + '.' + ' Assim o lucro da loja foi de ' + str(lucro) + ' reais')"
   ]
  }
 ],
 "metadata": {
  "kernelspec": {
   "display_name": "Python 3",
   "language": "python",
   "name": "python3"
  },
  "language_info": {
   "codemirror_mode": {
    "name": "ipython",
    "version": 3
   },
   "file_extension": ".py",
   "mimetype": "text/x-python",
   "name": "python",
   "nbconvert_exporter": "python",
   "pygments_lexer": "ipython3",
   "version": "3.12.3"
  }
 },
 "nbformat": 4,
 "nbformat_minor": 2
}
