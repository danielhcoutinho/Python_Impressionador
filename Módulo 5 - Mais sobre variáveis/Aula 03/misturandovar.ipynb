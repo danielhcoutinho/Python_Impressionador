{
 "cells": [
  {
   "cell_type": "code",
   "execution_count": 1,
   "metadata": {},
   "outputs": [
    {
     "ename": "TypeError",
     "evalue": "can only concatenate str (not \"int\") to str",
     "output_type": "error",
     "traceback": [
      "\u001b[1;31m---------------------------------------------------------------------------\u001b[0m",
      "\u001b[1;31mTypeError\u001b[0m                                 Traceback (most recent call last)",
      "Cell \u001b[1;32mIn[1], line 3\u001b[0m\n\u001b[0;32m      1\u001b[0m faturamento \u001b[38;5;241m=\u001b[39m \u001b[38;5;241m1000\u001b[39m\n\u001b[1;32m----> 3\u001b[0m \u001b[38;5;28mprint\u001b[39m(\u001b[38;5;124;43m'\u001b[39;49m\u001b[38;5;124;43mo faturamento da loja foi\u001b[39;49m\u001b[38;5;124;43m'\u001b[39;49m\u001b[43m \u001b[49m\u001b[38;5;241;43m+\u001b[39;49m\u001b[43m \u001b[49m\u001b[43mfaturamento\u001b[49m)\n",
      "\u001b[1;31mTypeError\u001b[0m: can only concatenate str (not \"int\") to str"
     ]
    }
   ],
   "source": [
    "faturamento = 1000\n",
    "\n",
    "print('o faturamento da loja foi' + faturamento)"
   ]
  },
  {
   "cell_type": "code",
   "execution_count": 2,
   "metadata": {},
   "outputs": [
    {
     "name": "stdout",
     "output_type": "stream",
     "text": [
      "o faturamento da loja foi 1000 reais\n",
      "o custo da loja foi 200 reais\n",
      "Assim o lucro da loja foi de 800 reais\n",
      "o faturamento da loja foi 1000 reais. O custo da loja foi 200 reais. Assim o lucro da loja foi de 800 reais\n"
     ]
    }
   ],
   "source": [
    "faturamento = 1000\n",
    "custo = 200\n",
    "lucro = faturamento - custo\n",
    "\n",
    "print('o faturamento da loja foi' + ' ' + str(faturamento) + ' reais')\n",
    "print('o custo da loja foi ' + str(custo) + ' reais')\n",
    "print('Assim o lucro da loja foi de ' + str(lucro) + ' reais')\n",
    "\n",
    "print ('o faturamento da loja foi' + ' ' + str (faturamento) + ' reais' + '.' + ' O custo da loja foi ' + str(custo) + ' reais' + '.' + ' Assim o lucro da loja foi de ' + str(lucro) + ' reais')"
   ]
  }
 ],
 "metadata": {
  "kernelspec": {
   "display_name": "Python 3",
   "language": "python",
   "name": "python3"
  },
  "language_info": {
   "codemirror_mode": {
    "name": "ipython",
    "version": 3
   },
   "file_extension": ".py",
   "mimetype": "text/x-python",
   "name": "python",
   "nbconvert_exporter": "python",
   "pygments_lexer": "ipython3",
   "version": "3.12.3"
  }
 },
 "nbformat": 4,
 "nbformat_minor": 2
}
