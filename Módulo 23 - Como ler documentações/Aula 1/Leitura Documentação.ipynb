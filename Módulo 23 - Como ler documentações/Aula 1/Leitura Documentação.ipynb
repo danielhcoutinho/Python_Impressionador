{
 "cells": [
  {
   "cell_type": "markdown",
   "id": "de58cd45",
   "metadata": {},
   "source": [
    "#### Bibliotecas"
   ]
  },
  {
   "cell_type": "code",
   "execution_count": 1,
   "id": "2d75a849",
   "metadata": {},
   "outputs": [
    {
     "data": {
      "text/html": [
       "<div>\n",
       "<style scoped>\n",
       "    .dataframe tbody tr th:only-of-type {\n",
       "        vertical-align: middle;\n",
       "    }\n",
       "\n",
       "    .dataframe tbody tr th {\n",
       "        vertical-align: top;\n",
       "    }\n",
       "\n",
       "    .dataframe thead th {\n",
       "        text-align: right;\n",
       "    }\n",
       "</style>\n",
       "<table border=\"1\" class=\"dataframe\">\n",
       "  <thead>\n",
       "    <tr style=\"text-align: right;\">\n",
       "      <th></th>\n",
       "      <th>Name</th>\n",
       "      <th>Age</th>\n",
       "      <th>Sex</th>\n",
       "    </tr>\n",
       "  </thead>\n",
       "  <tbody>\n",
       "    <tr>\n",
       "      <th>0</th>\n",
       "      <td>Braund, Mr. Owen Harris</td>\n",
       "      <td>22</td>\n",
       "      <td>male</td>\n",
       "    </tr>\n",
       "    <tr>\n",
       "      <th>1</th>\n",
       "      <td>Allen, Mr. William Henry</td>\n",
       "      <td>35</td>\n",
       "      <td>male</td>\n",
       "    </tr>\n",
       "    <tr>\n",
       "      <th>2</th>\n",
       "      <td>Bonnell, Miss. Elizabeth</td>\n",
       "      <td>58</td>\n",
       "      <td>female</td>\n",
       "    </tr>\n",
       "  </tbody>\n",
       "</table>\n",
       "</div>"
      ],
      "text/plain": [
       "                       Name  Age     Sex\n",
       "0   Braund, Mr. Owen Harris   22    male\n",
       "1  Allen, Mr. William Henry   35    male\n",
       "2  Bonnell, Miss. Elizabeth   58  female"
      ]
     },
     "metadata": {},
     "output_type": "display_data"
    },
    {
     "name": "stdout",
     "output_type": "stream",
     "text": [
      "--------------------------------------------------\n"
     ]
    },
    {
     "data": {
      "text/plain": [
       "0    22\n",
       "1    35\n",
       "2    58\n",
       "Name: Age, dtype: int64"
      ]
     },
     "metadata": {},
     "output_type": "display_data"
    },
    {
     "name": "stdout",
     "output_type": "stream",
     "text": [
      "--------------------------------------------------\n",
      "58\n"
     ]
    }
   ],
   "source": [
    "# pandas -> analise de dados\n",
    "\n",
    "#https://pandas.pydata.org/\n",
    "\n",
    "import pandas as pd\n",
    "\n",
    "df = pd.DataFrame(\n",
    "    {\n",
    "        \"Name\": [\n",
    "            \"Braund, Mr. Owen Harris\",\n",
    "            \"Allen, Mr. William Henry\",\n",
    "            \"Bonnell, Miss. Elizabeth\",\n",
    "        ],\n",
    "        \"Age\": [22, 35, 58],\n",
    "        \"Sex\": [\"male\", \"male\", \"female\"],\n",
    "    }\n",
    ")\n",
    "\n",
    "display(df)\n",
    "print(\"-\" * 50)\n",
    "\n",
    "display(df[\"Age\"])\n",
    "print(\"-\" * 50)\n",
    "\n",
    "print(df[\"Age\"].max())\n",
    "\n",
    "#pd.DataFrame -> recebe um dic como parametro e cria uma tabela\n",
    "#pd.DataFrame -> cada chave do dicionario é uma coluna e cada valor do dicionario é uma linha"
   ]
  },
  {
   "cell_type": "code",
   "execution_count": 2,
   "id": "febcf2cd",
   "metadata": {},
   "outputs": [
    {
     "data": {
      "text/plain": [
       "0    22\n",
       "1    35\n",
       "2    58\n",
       "Name: Age, dtype: int64"
      ]
     },
     "metadata": {},
     "output_type": "display_data"
    }
   ],
   "source": [
    "ages = pd.Series([22, 35, 58], name=\"Age\")\n",
    "\n",
    "display(ages)"
   ]
  },
  {
   "cell_type": "code",
   "execution_count": 3,
   "id": "83d46ec5",
   "metadata": {},
   "outputs": [
    {
     "name": "stdout",
     "output_type": "stream",
     "text": [
      "Requirement already satisfied: requests in c:\\users\\danih\\appdata\\local\\programs\\python\\python312\\lib\\site-packages (2.32.3)\n",
      "Requirement already satisfied: charset-normalizer<4,>=2 in c:\\users\\danih\\appdata\\local\\programs\\python\\python312\\lib\\site-packages (from requests) (3.4.1)\n",
      "Requirement already satisfied: idna<4,>=2.5 in c:\\users\\danih\\appdata\\local\\programs\\python\\python312\\lib\\site-packages (from requests) (3.10)\n",
      "Requirement already satisfied: urllib3<3,>=1.21.1 in c:\\users\\danih\\appdata\\local\\programs\\python\\python312\\lib\\site-packages (from requests) (2.3.0)\n",
      "Requirement already satisfied: certifi>=2017.4.17 in c:\\users\\danih\\appdata\\local\\programs\\python\\python312\\lib\\site-packages (from requests) (2025.1.31)\n"
     ]
    },
    {
     "name": "stderr",
     "output_type": "stream",
     "text": [
      "\n",
      "[notice] A new release of pip is available: 24.0 -> 25.0.1\n",
      "[notice] To update, run: python.exe -m pip install --upgrade pip\n"
     ]
    }
   ],
   "source": [
    "!pip install requests"
   ]
  },
  {
   "cell_type": "code",
   "execution_count": 4,
   "id": "5dd52663",
   "metadata": {},
   "outputs": [],
   "source": [
    "# requests\n",
    "\n",
    "import requests"
   ]
  },
  {
   "cell_type": "markdown",
   "id": "5636220b",
   "metadata": {},
   "source": [
    "#### Funções Específicas"
   ]
  },
  {
   "cell_type": "code",
   "execution_count": 5,
   "id": "53dbf246",
   "metadata": {},
   "outputs": [
    {
     "data": {
      "text/html": [
       "<div>\n",
       "<style scoped>\n",
       "    .dataframe tbody tr th:only-of-type {\n",
       "        vertical-align: middle;\n",
       "    }\n",
       "\n",
       "    .dataframe tbody tr th {\n",
       "        vertical-align: top;\n",
       "    }\n",
       "\n",
       "    .dataframe thead th {\n",
       "        text-align: right;\n",
       "    }\n",
       "</style>\n",
       "<table border=\"1\" class=\"dataframe\">\n",
       "  <thead>\n",
       "    <tr style=\"text-align: right;\">\n",
       "      <th></th>\n",
       "      <th>Cliente</th>\n",
       "      <th>Data Pagamento</th>\n",
       "      <th>Data Pagamento 2</th>\n",
       "    </tr>\n",
       "  </thead>\n",
       "  <tbody>\n",
       "    <tr>\n",
       "      <th>0</th>\n",
       "      <td>Fulano</td>\n",
       "      <td>22/09/2022</td>\n",
       "      <td>09-22-22</td>\n",
       "    </tr>\n",
       "    <tr>\n",
       "      <th>1</th>\n",
       "      <td>Beltrano</td>\n",
       "      <td>17/04/2022</td>\n",
       "      <td>04-17-22</td>\n",
       "    </tr>\n",
       "    <tr>\n",
       "      <th>2</th>\n",
       "      <td>Ciclano</td>\n",
       "      <td>21/02/2022</td>\n",
       "      <td>02-21-22</td>\n",
       "    </tr>\n",
       "    <tr>\n",
       "      <th>3</th>\n",
       "      <td>Lira</td>\n",
       "      <td>27/12/2022</td>\n",
       "      <td>12-27-22</td>\n",
       "    </tr>\n",
       "    <tr>\n",
       "      <th>4</th>\n",
       "      <td>Julia</td>\n",
       "      <td>01/02/2022</td>\n",
       "      <td>02-01-22</td>\n",
       "    </tr>\n",
       "    <tr>\n",
       "      <th>5</th>\n",
       "      <td>Marcus</td>\n",
       "      <td>08/07/2022</td>\n",
       "      <td>07-08-22</td>\n",
       "    </tr>\n",
       "    <tr>\n",
       "      <th>6</th>\n",
       "      <td>Amanda</td>\n",
       "      <td>28/09/2022</td>\n",
       "      <td>09-28-22</td>\n",
       "    </tr>\n",
       "    <tr>\n",
       "      <th>7</th>\n",
       "      <td>Larissa</td>\n",
       "      <td>28/05/2022</td>\n",
       "      <td>05-28-22</td>\n",
       "    </tr>\n",
       "    <tr>\n",
       "      <th>8</th>\n",
       "      <td>Alon</td>\n",
       "      <td>06/10/2022</td>\n",
       "      <td>10-06-22</td>\n",
       "    </tr>\n",
       "  </tbody>\n",
       "</table>\n",
       "</div>"
      ],
      "text/plain": [
       "    Cliente Data Pagamento Data Pagamento 2\n",
       "0    Fulano     22/09/2022         09-22-22\n",
       "1  Beltrano     17/04/2022         04-17-22\n",
       "2   Ciclano     21/02/2022         02-21-22\n",
       "3      Lira     27/12/2022         12-27-22\n",
       "4     Julia     01/02/2022         02-01-22\n",
       "5    Marcus     08/07/2022         07-08-22\n",
       "6    Amanda     28/09/2022         09-28-22\n",
       "7   Larissa     28/05/2022         05-28-22\n",
       "8      Alon     06/10/2022         10-06-22"
      ]
     },
     "metadata": {},
     "output_type": "display_data"
    },
    {
     "name": "stdout",
     "output_type": "stream",
     "text": [
      "<class 'pandas.core.frame.DataFrame'>\n",
      "RangeIndex: 9 entries, 0 to 8\n",
      "Data columns (total 3 columns):\n",
      " #   Column            Non-Null Count  Dtype \n",
      "---  ------            --------------  ----- \n",
      " 0   Cliente           9 non-null      object\n",
      " 1   Data Pagamento    9 non-null      object\n",
      " 2   Data Pagamento 2  9 non-null      object\n",
      "dtypes: object(3)\n",
      "memory usage: 348.0+ bytes\n"
     ]
    },
    {
     "data": {
      "text/plain": [
       "None"
      ]
     },
     "metadata": {},
     "output_type": "display_data"
    },
    {
     "data": {
      "text/plain": [
       "Cliente             object\n",
       "Data Pagamento      object\n",
       "Data Pagamento 2    object\n",
       "dtype: object"
      ]
     },
     "execution_count": 5,
     "metadata": {},
     "output_type": "execute_result"
    }
   ],
   "source": [
    "# datas no pandas\n",
    "import pandas as pd\n",
    "\n",
    "contrato = pd.read_excel(\"Contratos.xlsx\")\n",
    "display(contrato)\n",
    "\n",
    "display(contrato.info())\n",
    "contrato.dtypes"
   ]
  },
  {
   "cell_type": "code",
   "execution_count": 6,
   "id": "ddd2cd08",
   "metadata": {},
   "outputs": [
    {
     "data": {
      "text/html": [
       "<div>\n",
       "<style scoped>\n",
       "    .dataframe tbody tr th:only-of-type {\n",
       "        vertical-align: middle;\n",
       "    }\n",
       "\n",
       "    .dataframe tbody tr th {\n",
       "        vertical-align: top;\n",
       "    }\n",
       "\n",
       "    .dataframe thead th {\n",
       "        text-align: right;\n",
       "    }\n",
       "</style>\n",
       "<table border=\"1\" class=\"dataframe\">\n",
       "  <thead>\n",
       "    <tr style=\"text-align: right;\">\n",
       "      <th></th>\n",
       "      <th>Cliente</th>\n",
       "      <th>Data Pagamento</th>\n",
       "      <th>Data Pagamento 2</th>\n",
       "    </tr>\n",
       "  </thead>\n",
       "  <tbody>\n",
       "    <tr>\n",
       "      <th>0</th>\n",
       "      <td>Fulano</td>\n",
       "      <td>2022-09-22</td>\n",
       "      <td>2022-09-22</td>\n",
       "    </tr>\n",
       "    <tr>\n",
       "      <th>1</th>\n",
       "      <td>Beltrano</td>\n",
       "      <td>2022-04-17</td>\n",
       "      <td>2022-04-17</td>\n",
       "    </tr>\n",
       "    <tr>\n",
       "      <th>2</th>\n",
       "      <td>Ciclano</td>\n",
       "      <td>2022-02-21</td>\n",
       "      <td>2022-02-21</td>\n",
       "    </tr>\n",
       "    <tr>\n",
       "      <th>3</th>\n",
       "      <td>Lira</td>\n",
       "      <td>2022-12-27</td>\n",
       "      <td>2022-12-27</td>\n",
       "    </tr>\n",
       "    <tr>\n",
       "      <th>4</th>\n",
       "      <td>Julia</td>\n",
       "      <td>2022-02-01</td>\n",
       "      <td>2022-02-01</td>\n",
       "    </tr>\n",
       "    <tr>\n",
       "      <th>5</th>\n",
       "      <td>Marcus</td>\n",
       "      <td>2022-07-08</td>\n",
       "      <td>2022-07-08</td>\n",
       "    </tr>\n",
       "    <tr>\n",
       "      <th>6</th>\n",
       "      <td>Amanda</td>\n",
       "      <td>2022-09-28</td>\n",
       "      <td>2022-09-28</td>\n",
       "    </tr>\n",
       "    <tr>\n",
       "      <th>7</th>\n",
       "      <td>Larissa</td>\n",
       "      <td>2022-05-28</td>\n",
       "      <td>2022-05-28</td>\n",
       "    </tr>\n",
       "    <tr>\n",
       "      <th>8</th>\n",
       "      <td>Alon</td>\n",
       "      <td>2022-10-06</td>\n",
       "      <td>2022-10-06</td>\n",
       "    </tr>\n",
       "  </tbody>\n",
       "</table>\n",
       "</div>"
      ],
      "text/plain": [
       "    Cliente Data Pagamento Data Pagamento 2\n",
       "0    Fulano     2022-09-22       2022-09-22\n",
       "1  Beltrano     2022-04-17       2022-04-17\n",
       "2   Ciclano     2022-02-21       2022-02-21\n",
       "3      Lira     2022-12-27       2022-12-27\n",
       "4     Julia     2022-02-01       2022-02-01\n",
       "5    Marcus     2022-07-08       2022-07-08\n",
       "6    Amanda     2022-09-28       2022-09-28\n",
       "7   Larissa     2022-05-28       2022-05-28\n",
       "8      Alon     2022-10-06       2022-10-06"
      ]
     },
     "metadata": {},
     "output_type": "display_data"
    },
    {
     "data": {
      "text/plain": [
       "Cliente                     object\n",
       "Data Pagamento      datetime64[ns]\n",
       "Data Pagamento 2    datetime64[ns]\n",
       "dtype: object"
      ]
     },
     "execution_count": 6,
     "metadata": {},
     "output_type": "execute_result"
    }
   ],
   "source": [
    "# funcao datetime\n",
    "contrato['Data Pagamento'] = pd.to_datetime(contrato['Data Pagamento'],format='%d/%m/%Y')\n",
    "contrato['Data Pagamento 2'] = pd.to_datetime(contrato['Data Pagamento 2'], format='%m-%d-%y')\n",
    "display(contrato)\n",
    "contrato.dtypes"
   ]
  },
  {
   "cell_type": "code",
   "execution_count": 7,
   "id": "bc6ff6e8",
   "metadata": {},
   "outputs": [
    {
     "data": {
      "text/html": [
       "<div>\n",
       "<style scoped>\n",
       "    .dataframe tbody tr th:only-of-type {\n",
       "        vertical-align: middle;\n",
       "    }\n",
       "\n",
       "    .dataframe tbody tr th {\n",
       "        vertical-align: top;\n",
       "    }\n",
       "\n",
       "    .dataframe thead th {\n",
       "        text-align: right;\n",
       "    }\n",
       "</style>\n",
       "<table border=\"1\" class=\"dataframe\">\n",
       "  <thead>\n",
       "    <tr style=\"text-align: right;\">\n",
       "      <th></th>\n",
       "      <th>Nome</th>\n",
       "      <th>Email</th>\n",
       "    </tr>\n",
       "  </thead>\n",
       "  <tbody>\n",
       "    <tr>\n",
       "      <th>0</th>\n",
       "      <td>Fulano</td>\n",
       "      <td>fulano@gmail.com</td>\n",
       "    </tr>\n",
       "    <tr>\n",
       "      <th>1</th>\n",
       "      <td>Beltrano</td>\n",
       "      <td>beltrano@gmail.com</td>\n",
       "    </tr>\n",
       "    <tr>\n",
       "      <th>2</th>\n",
       "      <td>Ciclano</td>\n",
       "      <td>ciclano@gmail.com</td>\n",
       "    </tr>\n",
       "    <tr>\n",
       "      <th>3</th>\n",
       "      <td>Lira</td>\n",
       "      <td>lira@gmail.com</td>\n",
       "    </tr>\n",
       "    <tr>\n",
       "      <th>4</th>\n",
       "      <td>Julia</td>\n",
       "      <td>julia@gmail.com</td>\n",
       "    </tr>\n",
       "    <tr>\n",
       "      <th>5</th>\n",
       "      <td>Marcus</td>\n",
       "      <td>marcus@gmail.com</td>\n",
       "    </tr>\n",
       "    <tr>\n",
       "      <th>6</th>\n",
       "      <td>Amanda</td>\n",
       "      <td>amanda@gmail.com</td>\n",
       "    </tr>\n",
       "    <tr>\n",
       "      <th>7</th>\n",
       "      <td>Larissa</td>\n",
       "      <td>larissa@gmail.com</td>\n",
       "    </tr>\n",
       "    <tr>\n",
       "      <th>8</th>\n",
       "      <td>Alon</td>\n",
       "      <td>alon@gmail.com</td>\n",
       "    </tr>\n",
       "  </tbody>\n",
       "</table>\n",
       "</div>"
      ],
      "text/plain": [
       "       Nome               Email\n",
       "0    Fulano    fulano@gmail.com\n",
       "1  Beltrano  beltrano@gmail.com\n",
       "2   Ciclano   ciclano@gmail.com\n",
       "3      Lira      lira@gmail.com\n",
       "4     Julia     julia@gmail.com\n",
       "5    Marcus    marcus@gmail.com\n",
       "6    Amanda    amanda@gmail.com\n",
       "7   Larissa   larissa@gmail.com\n",
       "8      Alon      alon@gmail.com"
      ]
     },
     "metadata": {},
     "output_type": "display_data"
    }
   ],
   "source": [
    "email = pd.read_excel('Emails.xlsx')\n",
    "display(email)"
   ]
  },
  {
   "cell_type": "code",
   "execution_count": 8,
   "id": "25f4909e",
   "metadata": {},
   "outputs": [
    {
     "data": {
      "text/html": [
       "<div>\n",
       "<style scoped>\n",
       "    .dataframe tbody tr th:only-of-type {\n",
       "        vertical-align: middle;\n",
       "    }\n",
       "\n",
       "    .dataframe tbody tr th {\n",
       "        vertical-align: top;\n",
       "    }\n",
       "\n",
       "    .dataframe thead th {\n",
       "        text-align: right;\n",
       "    }\n",
       "</style>\n",
       "<table border=\"1\" class=\"dataframe\">\n",
       "  <thead>\n",
       "    <tr style=\"text-align: right;\">\n",
       "      <th></th>\n",
       "      <th>Cliente</th>\n",
       "      <th>Data Pagamento</th>\n",
       "      <th>Data Pagamento 2</th>\n",
       "      <th>Nome</th>\n",
       "      <th>Email</th>\n",
       "    </tr>\n",
       "  </thead>\n",
       "  <tbody>\n",
       "    <tr>\n",
       "      <th>0</th>\n",
       "      <td>Fulano</td>\n",
       "      <td>2022-09-22</td>\n",
       "      <td>2022-09-22</td>\n",
       "      <td>Fulano</td>\n",
       "      <td>fulano@gmail.com</td>\n",
       "    </tr>\n",
       "    <tr>\n",
       "      <th>1</th>\n",
       "      <td>Beltrano</td>\n",
       "      <td>2022-04-17</td>\n",
       "      <td>2022-04-17</td>\n",
       "      <td>Beltrano</td>\n",
       "      <td>beltrano@gmail.com</td>\n",
       "    </tr>\n",
       "    <tr>\n",
       "      <th>2</th>\n",
       "      <td>Ciclano</td>\n",
       "      <td>2022-02-21</td>\n",
       "      <td>2022-02-21</td>\n",
       "      <td>Ciclano</td>\n",
       "      <td>ciclano@gmail.com</td>\n",
       "    </tr>\n",
       "    <tr>\n",
       "      <th>3</th>\n",
       "      <td>Lira</td>\n",
       "      <td>2022-12-27</td>\n",
       "      <td>2022-12-27</td>\n",
       "      <td>Lira</td>\n",
       "      <td>lira@gmail.com</td>\n",
       "    </tr>\n",
       "    <tr>\n",
       "      <th>4</th>\n",
       "      <td>Julia</td>\n",
       "      <td>2022-02-01</td>\n",
       "      <td>2022-02-01</td>\n",
       "      <td>Julia</td>\n",
       "      <td>julia@gmail.com</td>\n",
       "    </tr>\n",
       "    <tr>\n",
       "      <th>5</th>\n",
       "      <td>Marcus</td>\n",
       "      <td>2022-07-08</td>\n",
       "      <td>2022-07-08</td>\n",
       "      <td>Marcus</td>\n",
       "      <td>marcus@gmail.com</td>\n",
       "    </tr>\n",
       "    <tr>\n",
       "      <th>6</th>\n",
       "      <td>Amanda</td>\n",
       "      <td>2022-09-28</td>\n",
       "      <td>2022-09-28</td>\n",
       "      <td>Amanda</td>\n",
       "      <td>amanda@gmail.com</td>\n",
       "    </tr>\n",
       "    <tr>\n",
       "      <th>7</th>\n",
       "      <td>Larissa</td>\n",
       "      <td>2022-05-28</td>\n",
       "      <td>2022-05-28</td>\n",
       "      <td>Larissa</td>\n",
       "      <td>larissa@gmail.com</td>\n",
       "    </tr>\n",
       "    <tr>\n",
       "      <th>8</th>\n",
       "      <td>Alon</td>\n",
       "      <td>2022-10-06</td>\n",
       "      <td>2022-10-06</td>\n",
       "      <td>Alon</td>\n",
       "      <td>alon@gmail.com</td>\n",
       "    </tr>\n",
       "  </tbody>\n",
       "</table>\n",
       "</div>"
      ],
      "text/plain": [
       "    Cliente Data Pagamento Data Pagamento 2      Nome               Email\n",
       "0    Fulano     2022-09-22       2022-09-22    Fulano    fulano@gmail.com\n",
       "1  Beltrano     2022-04-17       2022-04-17  Beltrano  beltrano@gmail.com\n",
       "2   Ciclano     2022-02-21       2022-02-21   Ciclano   ciclano@gmail.com\n",
       "3      Lira     2022-12-27       2022-12-27      Lira      lira@gmail.com\n",
       "4     Julia     2022-02-01       2022-02-01     Julia     julia@gmail.com\n",
       "5    Marcus     2022-07-08       2022-07-08    Marcus    marcus@gmail.com\n",
       "6    Amanda     2022-09-28       2022-09-28    Amanda    amanda@gmail.com\n",
       "7   Larissa     2022-05-28       2022-05-28   Larissa   larissa@gmail.com\n",
       "8      Alon     2022-10-06       2022-10-06      Alon      alon@gmail.com"
      ]
     },
     "metadata": {},
     "output_type": "display_data"
    }
   ],
   "source": [
    "# funcao merge do pandas\n",
    "tabela = contrato.merge(email, left_on='Cliente', right_on='Nome') #concatena a tabela contrato com a de email, passando o parametro que devemos ter como exemplo/referencia no caso primeiro o da esquerda (left on) que seria a coluna cliente da tabela contrato e depois a da direita (right on) que seria a coluna de nome da tabela de email\n",
    "\n",
    "display(tabela)"
   ]
  },
  {
   "cell_type": "code",
   "execution_count": 10,
   "id": "08fe30d5",
   "metadata": {},
   "outputs": [
    {
     "name": "stdout",
     "output_type": "stream",
     "text": [
      "2025-04-01 18:26:59.671477\n"
     ]
    }
   ],
   "source": [
    "#função date time\n",
    "\n",
    "from datetime import datetime\n",
    "hoje = datetime.now()\n",
    "\n",
    "print(hoje)"
   ]
  },
  {
   "cell_type": "markdown",
   "id": "57bdedb1",
   "metadata": {},
   "source": [
    "#### APIs"
   ]
  },
  {
   "cell_type": "code",
   "execution_count": null,
   "id": "4c1970b5",
   "metadata": {},
   "outputs": [
    {
     "name": "stdout",
     "output_type": "stream",
     "text": [
      "{'Meta Data': {'1. Information': 'Intraday (5min) open, high, low, close prices and volume', '2. Symbol': 'IBM', '3. Last Refreshed': '2025-03-31 19:50:00', '4. Interval': '5min', '5. Output Size': 'Compact', '6. Time Zone': 'US/Eastern'}, 'Time Series (5min)': {'2025-03-31 19:50:00': {'1. open': '248.0600', '2. high': '248.0600', '3. low': '248.0600', '4. close': '248.0600', '5. volume': '85'}, '2025-03-31 19:45:00': {'1. open': '248.2500', '2. high': '248.2500', '3. low': '248.2000', '4. close': '248.2000', '5. volume': '26'}, '2025-03-31 19:40:00': {'1. open': '248.0600', '2. high': '248.2500', '3. low': '248.0600', '4. close': '248.2500', '5. volume': '214'}, '2025-03-31 19:35:00': {'1. open': '248.0600', '2. high': '248.0700', '3. low': '248.0600', '4. close': '248.0700', '5. volume': '40'}, '2025-03-31 19:30:00': {'1. open': '248.6500', '2. high': '248.6500', '3. low': '248.2500', '4. close': '248.2500', '5. volume': '219'}, '2025-03-31 19:25:00': {'1. open': '248.3000', '2. high': '248.6500', '3. low': '248.3000', '4. close': '248.6500', '5. volume': '23'}, '2025-03-31 19:20:00': {'1. open': '248.5800', '2. high': '248.6500', '3. low': '248.5800', '4. close': '248.6500', '5. volume': '20'}, '2025-03-31 19:15:00': {'1. open': '248.2500', '2. high': '248.6600', '3. low': '248.2500', '4. close': '248.6600', '5. volume': '121'}, '2025-03-31 19:10:00': {'1. open': '248.5000', '2. high': '248.5000', '3. low': '248.2300', '4. close': '248.2300', '5. volume': '29'}, '2025-03-31 19:05:00': {'1. open': '248.2500', '2. high': '248.5000', '3. low': '248.2500', '4. close': '248.5000', '5. volume': '548'}, '2025-03-31 19:00:00': {'1. open': '248.6600', '2. high': '248.6600', '3. low': '248.6600', '4. close': '248.6600', '5. volume': '1228190'}, '2025-03-31 18:55:00': {'1. open': '248.2500', '2. high': '248.2500', '3. low': '248.1503', '4. close': '248.2500', '5. volume': '55'}, '2025-03-31 18:50:00': {'1. open': '248.2500', '2. high': '248.2500', '3. low': '248.2500', '4. close': '248.2500', '5. volume': '1'}, '2025-03-31 18:40:00': {'1. open': '248.1232', '2. high': '248.1232', '3. low': '248.1232', '4. close': '248.1232', '5. volume': '71'}, '2025-03-31 18:35:00': {'1. open': '248.2500', '2. high': '248.2500', '3. low': '248.2400', '4. close': '248.2500', '5. volume': '102'}, '2025-03-31 18:30:00': {'1. open': '248.6600', '2. high': '248.6600', '3. low': '248.0600', '4. close': '248.0600', '5. volume': '1228211'}, '2025-03-31 18:15:00': {'1. open': '248.0500', '2. high': '248.0500', '3. low': '248.0500', '4. close': '248.0500', '5. volume': '1'}, '2025-03-31 18:10:00': {'1. open': '248.3500', '2. high': '248.3500', '3. low': '248.0600', '4. close': '248.0600', '5. volume': '705'}, '2025-03-31 18:05:00': {'1. open': '248.6300', '2. high': '248.6300', '3. low': '248.6300', '4. close': '248.6300', '5. volume': '5'}, '2025-03-31 17:55:00': {'1. open': '248.6600', '2. high': '248.6600', '3. low': '248.6600', '4. close': '248.6600', '5. volume': '5'}, '2025-03-31 17:50:00': {'1. open': '248.6500', '2. high': '248.6500', '3. low': '248.3600', '4. close': '248.6500', '5. volume': '33'}, '2025-03-31 17:45:00': {'1. open': '248.6500', '2. high': '248.6600', '3. low': '248.6500', '4. close': '248.6600', '5. volume': '9'}, '2025-03-31 17:40:00': {'1. open': '248.6500', '2. high': '248.6500', '3. low': '248.6500', '4. close': '248.6500', '5. volume': '10'}, '2025-03-31 17:35:00': {'1. open': '248.5000', '2. high': '248.5000', '3. low': '248.5000', '4. close': '248.5000', '5. volume': '11'}, '2025-03-31 17:25:00': {'1. open': '248.3000', '2. high': '248.5000', '3. low': '248.0220', '4. close': '248.0220', '5. volume': '138'}, '2025-03-31 17:20:00': {'1. open': '248.6500', '2. high': '248.6500', '3. low': '248.3000', '4. close': '248.3000', '5. volume': '152'}, '2025-03-31 17:15:00': {'1. open': '248.6400', '2. high': '248.6400', '3. low': '248.6400', '4. close': '248.6400', '5. volume': '4'}, '2025-03-31 17:10:00': {'1. open': '248.6300', '2. high': '248.6300', '3. low': '248.6300', '4. close': '248.6300', '5. volume': '2'}, '2025-03-31 17:05:00': {'1. open': '248.5100', '2. high': '248.5200', '3. low': '248.5000', '4. close': '248.5200', '5. volume': '165'}, '2025-03-31 16:55:00': {'1. open': '248.6435', '2. high': '248.6435', '3. low': '248.2001', '4. close': '248.2100', '5. volume': '84'}, '2025-03-31 16:50:00': {'1. open': '248.4300', '2. high': '248.4300', '3. low': '248.4300', '4. close': '248.4300', '5. volume': '2'}, '2025-03-31 16:45:00': {'1. open': '248.5000', '2. high': '248.5000', '3. low': '248.0200', '4. close': '248.0200', '5. volume': '8'}, '2025-03-31 16:40:00': {'1. open': '248.9500', '2. high': '248.9500', '3. low': '248.1900', '4. close': '248.1900', '5. volume': '15'}, '2025-03-31 16:35:00': {'1. open': '248.6600', '2. high': '248.6600', '3. low': '248.0000', '4. close': '248.1900', '5. volume': '220'}, '2025-03-31 16:30:00': {'1. open': '248.3500', '2. high': '248.6600', '3. low': '248.0000', '4. close': '248.6600', '5. volume': '2257'}, '2025-03-31 16:25:00': {'1. open': '248.9495', '2. high': '248.9495', '3. low': '248.3700', '4. close': '248.3700', '5. volume': '3026'}, '2025-03-31 16:20:00': {'1. open': '248.2500', '2. high': '248.2500', '3. low': '248.2500', '4. close': '248.2500', '5. volume': '7'}, '2025-03-31 16:15:00': {'1. open': '248.6600', '2. high': '248.6600', '3. low': '248.5000', '4. close': '248.6600', '5. volume': '3855'}, '2025-03-31 16:10:00': {'1. open': '248.6600', '2. high': '248.6600', '3. low': '248.2500', '4. close': '248.3700', '5. volume': '1272368'}, '2025-03-31 16:05:00': {'1. open': '248.6600', '2. high': '248.9600', '3. low': '248.1212', '4. close': '248.1212', '5. volume': '31495'}, '2025-03-31 16:00:00': {'1. open': '248.7100', '2. high': '249.0000', '3. low': '248.2800', '4. close': '248.6600', '5. volume': '2973954'}, '2025-03-31 15:55:00': {'1. open': '249.3000', '2. high': '249.7250', '3. low': '248.5500', '4. close': '248.7100', '5. volume': '389347'}, '2025-03-31 15:50:00': {'1. open': '249.0400', '2. high': '249.4600', '3. low': '248.6500', '4. close': '249.3650', '5. volume': '278365'}, '2025-03-31 15:45:00': {'1. open': '249.5900', '2. high': '249.5900', '3. low': '248.7780', '4. close': '248.9900', '5. volume': '79158'}, '2025-03-31 15:40:00': {'1. open': '248.4500', '2. high': '249.9100', '3. low': '248.4500', '4. close': '249.5700', '5. volume': '180998'}, '2025-03-31 15:35:00': {'1. open': '248.4900', '2. high': '248.6900', '3. low': '248.2000', '4. close': '248.4750', '5. volume': '74202'}, '2025-03-31 15:30:00': {'1. open': '247.5200', '2. high': '248.5000', '3. low': '247.4800', '4. close': '248.4200', '5. volume': '100760'}, '2025-03-31 15:25:00': {'1. open': '248.2823', '2. high': '248.5100', '3. low': '247.6400', '4. close': '247.6600', '5. volume': '96767'}, '2025-03-31 15:20:00': {'1. open': '247.9500', '2. high': '248.6000', '3. low': '247.9500', '4. close': '248.5050', '5. volume': '77619'}, '2025-03-31 15:15:00': {'1. open': '247.9900', '2. high': '248.2100', '3. low': '247.5900', '4. close': '247.9500', '5. volume': '49106'}, '2025-03-31 15:10:00': {'1. open': '247.3650', '2. high': '247.9900', '3. low': '247.2400', '4. close': '247.9250', '5. volume': '67845'}, '2025-03-31 15:05:00': {'1. open': '247.2600', '2. high': '247.5200', '3. low': '247.1200', '4. close': '247.4900', '5. volume': '29660'}, '2025-03-31 15:00:00': {'1. open': '246.7718', '2. high': '247.3999', '3. low': '246.7200', '4. close': '247.2950', '5. volume': '30603'}, '2025-03-31 14:55:00': {'1. open': '247.7100', '2. high': '247.7400', '3. low': '246.6300', '4. close': '246.6300', '5. volume': '31761'}, '2025-03-31 14:50:00': {'1. open': '247.2600', '2. high': '247.9800', '3. low': '247.2300', '4. close': '247.7843', '5. volume': '58849'}, '2025-03-31 14:45:00': {'1. open': '247.1100', '2. high': '247.2779', '3. low': '246.7000', '4. close': '247.1900', '5. volume': '70167'}, '2025-03-31 14:40:00': {'1. open': '247.0300', '2. high': '247.6273', '3. low': '246.9500', '4. close': '247.1200', '5. volume': '32069'}, '2025-03-31 14:35:00': {'1. open': '247.1215', '2. high': '247.1800', '3. low': '246.9500', '4. close': '247.0000', '5. volume': '24492'}, '2025-03-31 14:30:00': {'1. open': '247.0850', '2. high': '247.3899', '3. low': '247.0000', '4. close': '247.0550', '5. volume': '11891'}, '2025-03-31 14:25:00': {'1. open': '247.0950', '2. high': '247.1000', '3. low': '246.7200', '4. close': '247.0750', '5. volume': '22818'}, '2025-03-31 14:20:00': {'1. open': '247.4000', '2. high': '247.4400', '3. low': '246.8800', '4. close': '247.1198', '5. volume': '32863'}, '2025-03-31 14:15:00': {'1. open': '247.2100', '2. high': '247.3700', '3. low': '246.9300', '4. close': '247.3700', '5. volume': '39082'}, '2025-03-31 14:10:00': {'1. open': '247.3450', '2. high': '247.5400', '3. low': '247.2100', '4. close': '247.2100', '5. volume': '23224'}, '2025-03-31 14:05:00': {'1. open': '246.4400', '2. high': '247.4100', '3. low': '246.4400', '4. close': '247.3200', '5. volume': '25521'}, '2025-03-31 14:00:00': {'1. open': '245.2250', '2. high': '246.6400', '3. low': '245.2250', '4. close': '246.5100', '5. volume': '46998'}, '2025-03-31 13:55:00': {'1. open': '245.6100', '2. high': '245.6250', '3. low': '245.1300', '4. close': '245.2250', '5. volume': '18090'}, '2025-03-31 13:50:00': {'1. open': '245.0000', '2. high': '245.5250', '3. low': '244.9001', '4. close': '245.5250', '5. volume': '10668'}, '2025-03-31 13:45:00': {'1. open': '244.7650', '2. high': '245.0100', '3. low': '244.6500', '4. close': '244.9700', '5. volume': '29629'}, '2025-03-31 13:40:00': {'1. open': '245.5700', '2. high': '245.6450', '3. low': '244.8100', '4. close': '244.8100', '5. volume': '18827'}, '2025-03-31 13:35:00': {'1. open': '245.8650', '2. high': '246.0800', '3. low': '245.5800', '4. close': '245.6750', '5. volume': '41436'}, '2025-03-31 13:30:00': {'1. open': '245.8500', '2. high': '246.0500', '3. low': '245.6400', '4. close': '245.9300', '5. volume': '21146'}, '2025-03-31 13:25:00': {'1. open': '245.2600', '2. high': '245.9300', '3. low': '245.1825', '4. close': '245.7400', '5. volume': '53519'}, '2025-03-31 13:20:00': {'1. open': '246.4100', '2. high': '246.4100', '3. low': '245.1600', '4. close': '245.2500', '5. volume': '42310'}, '2025-03-31 13:15:00': {'1. open': '246.5300', '2. high': '246.9700', '3. low': '246.4200', '4. close': '246.4500', '5. volume': '29673'}, '2025-03-31 13:10:00': {'1. open': '246.9400', '2. high': '247.0000', '3. low': '246.3400', '4. close': '246.5400', '5. volume': '31918'}, '2025-03-31 13:05:00': {'1. open': '246.6900', '2. high': '246.9300', '3. low': '246.5200', '4. close': '246.9300', '5. volume': '29556'}, '2025-03-31 13:00:00': {'1. open': '246.9700', '2. high': '246.9800', '3. low': '246.6060', '4. close': '246.7800', '5. volume': '34496'}, '2025-03-31 12:55:00': {'1. open': '247.4200', '2. high': '247.6900', '3. low': '246.9700', '4. close': '247.0800', '5. volume': '112242'}, '2025-03-31 12:50:00': {'1. open': '247.4601', '2. high': '247.7500', '3. low': '247.4200', '4. close': '247.4200', '5. volume': '23166'}, '2025-03-31 12:45:00': {'1. open': '247.7000', '2. high': '247.9300', '3. low': '247.5100', '4. close': '247.5200', '5. volume': '15457'}, '2025-03-31 12:40:00': {'1. open': '247.4150', '2. high': '247.7700', '3. low': '247.3200', '4. close': '247.6892', '5. volume': '36595'}, '2025-03-31 12:35:00': {'1. open': '247.6450', '2. high': '247.6450', '3. low': '247.2800', '4. close': '247.4150', '5. volume': '24520'}, '2025-03-31 12:30:00': {'1. open': '248.0350', '2. high': '248.0350', '3. low': '247.5000', '4. close': '247.6400', '5. volume': '24877'}, '2025-03-31 12:25:00': {'1. open': '247.1125', '2. high': '248.1000', '3. low': '247.0900', '4. close': '248.1000', '5. volume': '27661'}, '2025-03-31 12:20:00': {'1. open': '247.4600', '2. high': '247.5199', '3. low': '246.8328', '4. close': '247.1150', '5. volume': '29532'}, '2025-03-31 12:15:00': {'1. open': '247.7700', '2. high': '247.7800', '3. low': '247.3700', '4. close': '247.5400', '5. volume': '27482'}, '2025-03-31 12:10:00': {'1. open': '248.1900', '2. high': '248.2000', '3. low': '247.3100', '4. close': '247.7000', '5. volume': '54944'}, '2025-03-31 12:05:00': {'1. open': '249.1100', '2. high': '249.2300', '3. low': '248.0100', '4. close': '248.1100', '5. volume': '70265'}, '2025-03-31 12:00:00': {'1. open': '248.9700', '2. high': '249.1500', '3. low': '248.8500', '4. close': '249.0100', '5. volume': '37546'}, '2025-03-31 11:55:00': {'1. open': '249.3100', '2. high': '249.3200', '3. low': '248.6700', '4. close': '248.9300', '5. volume': '23047'}, '2025-03-31 11:50:00': {'1. open': '249.7100', '2. high': '249.8800', '3. low': '249.0779', '4. close': '249.2050', '5. volume': '41403'}, '2025-03-31 11:45:00': {'1. open': '248.7185', '2. high': '249.8200', '3. low': '248.6300', '4. close': '249.8050', '5. volume': '35295'}, '2025-03-31 11:40:00': {'1. open': '248.3100', '2. high': '248.9600', '3. low': '248.3100', '4. close': '248.6300', '5. volume': '46876'}, '2025-03-31 11:35:00': {'1. open': '247.8700', '2. high': '248.4200', '3. low': '247.6100', '4. close': '248.4000', '5. volume': '35320'}, '2025-03-31 11:30:00': {'1. open': '248.2694', '2. high': '248.4100', '3. low': '247.7501', '4. close': '247.7956', '5. volume': '55167'}, '2025-03-31 11:25:00': {'1. open': '249.0000', '2. high': '249.2400', '3. low': '248.1700', '4. close': '248.2050', '5. volume': '73332'}, '2025-03-31 11:20:00': {'1. open': '249.7150', '2. high': '250.3000', '3. low': '249.0100', '4. close': '249.1999', '5. volume': '101195'}, '2025-03-31 11:15:00': {'1. open': '250.0800', '2. high': '250.3800', '3. low': '249.5300', '4. close': '249.7800', '5. volume': '79708'}, '2025-03-31 11:10:00': {'1. open': '250.3300', '2. high': '250.8900', '3. low': '249.9400', '4. close': '250.0200', '5. volume': '137008'}, '2025-03-31 11:05:00': {'1. open': '249.6900', '2. high': '250.3700', '3. low': '249.6801', '4. close': '250.2500', '5. volume': '77872'}}}\n"
     ]
    }
   ],
   "source": [
    "# documentação de APIs cada uma é diferente da outra, \n",
    "# vejam o módulo de API que eu faço vários exemplos lá\n",
    "\n",
    "#autenticação\n",
    "\n",
    "# exemplo sandbox https://dadosabertos.bcb.gov.br/dataset/dinheiro-em-circulao\n",
    "\n",
    "# exemplo documentação: https://www.alphavantage.co/\n",
    "\n",
    "import requests\n",
    "\n",
    "# replace the \"demo\" apikey below with your own key from https://www.alphavantage.co/support/#api-key\n",
    "\n",
    "url = 'https://www.alphavantage.co/query?function=TIME_SERIES_INTRADAY&symbol=IBM&interval=5min&apikey=demo' #passamos os parametros obrigatorios ou nao diretamente no link conforme está aqui nesse link\n",
    "r = requests.get(url) #faz a requisição do link\n",
    "data = r.json()\n",
    "\n",
    "print(data)"
   ]
  },
  {
   "cell_type": "markdown",
   "id": "d33c9ce2",
   "metadata": {},
   "source": []
  }
 ],
 "metadata": {
  "kernelspec": {
   "display_name": "Python 3",
   "language": "python",
   "name": "python3"
  },
  "language_info": {
   "codemirror_mode": {
    "name": "ipython",
    "version": 3
   },
   "file_extension": ".py",
   "mimetype": "text/x-python",
   "name": "python",
   "nbconvert_exporter": "python",
   "pygments_lexer": "ipython3",
   "version": "3.12.3"
  }
 },
 "nbformat": 4,
 "nbformat_minor": 5
}
