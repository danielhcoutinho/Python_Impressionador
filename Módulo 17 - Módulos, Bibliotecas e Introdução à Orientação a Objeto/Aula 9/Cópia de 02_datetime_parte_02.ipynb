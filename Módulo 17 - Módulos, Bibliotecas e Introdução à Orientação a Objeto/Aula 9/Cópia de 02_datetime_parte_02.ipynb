{
 "cells": [
  {
   "cell_type": "markdown",
   "metadata": {},
   "source": [
    "# Guia para o módulo `datetime` em Python\n",
    "\n",
    "O módulo `datetime` em Python fornece classes para manipulação de datas e horas. Aqui está um guia simples para algumas das funções mais úteis deste módulo.\n",
    "\n"
   ]
  },
  {
   "cell_type": "markdown",
   "metadata": {},
   "source": [
    "## datetime.datetime.strftime()\n",
    "\n",
    "A função `strftime()` converte um objeto datetime para uma string de acordo com um formato específico.\n",
    "\n",
    "Símbolos que podem ser usados para formatar datas podem ser achados [aqui](https://docs.python.org/3/library/datetime.html#strftime-and-strptime-format-codes).\n"
   ]
  },
  {
   "cell_type": "code",
   "execution_count": 20,
   "metadata": {
    "collapsed": false,
    "jupyter": {
     "outputs_hidden": false
    }
   },
   "outputs": [
    {
     "name": "stdout",
     "output_type": "stream",
     "text": [
      "2024-12-03 20:56:08.421214\n"
     ]
    }
   ],
   "source": [
    "from datetime import datetime\n",
    "\n",
    "agora = datetime.now()\n",
    "print(agora)"
   ]
  },
  {
   "cell_type": "code",
   "execution_count": 21,
   "metadata": {
    "tags": []
   },
   "outputs": [
    {
     "name": "stdout",
     "output_type": "stream",
     "text": [
      "<class 'datetime.datetime'>\n"
     ]
    }
   ],
   "source": [
    "print(type(agora))"
   ]
  },
  {
   "cell_type": "code",
   "execution_count": 22,
   "metadata": {},
   "outputs": [
    {
     "name": "stdout",
     "output_type": "stream",
     "text": [
      "terÃ§a-feira, 03 de dezembro\n"
     ]
    }
   ],
   "source": [
    "print(agora.strftime(\"%A, %d de %B\"))"
   ]
  },
  {
   "cell_type": "code",
   "execution_count": 23,
   "metadata": {},
   "outputs": [
    {
     "name": "stdout",
     "output_type": "stream",
     "text": [
      "Data formatada: terÃ§a-feira, 03 de dezembro de 2024, 20:56:08\n"
     ]
    }
   ],
   "source": [
    "data_formatada = agora.strftime(\"%A, %d de %B de %Y, %H:%M:%S\")\n",
    "\n",
    "print(f\"Data formatada: {data_formatada}\")"
   ]
  },
  {
   "cell_type": "code",
   "execution_count": 24,
   "metadata": {
    "collapsed": false,
    "jupyter": {
     "outputs_hidden": false
    }
   },
   "outputs": [
    {
     "name": "stdout",
     "output_type": "stream",
     "text": [
      "Data formatada: terÃ§a-feira, 03 de dezembro de 2024, 20:56:08\n"
     ]
    }
   ],
   "source": [
    "import locale\n",
    "from datetime import datetime\n",
    "\n",
    "# Definir a localização para português.\n",
    "locale.setlocale(locale.LC_TIME, 'pt_BR.UTF-8')\n",
    "\n",
    "agora = datetime.now()\n",
    "data_formatada = agora.strftime(\"%A, %d de %B de %Y, %H:%M:%S\")\n",
    "\n",
    "print(f\"Data formatada: {data_formatada}\")"
   ]
  },
  {
   "cell_type": "markdown",
   "metadata": {},
   "source": [
    "## datetime.datetime.strptime()\n",
    "\n",
    "A função `strptime()` analisa uma string representando uma data e hora de acordo com um formato. O retorno é um objeto datetime.\n",
    "\n"
   ]
  },
  {
   "cell_type": "code",
   "execution_count": 25,
   "metadata": {
    "collapsed": false,
    "jupyter": {
     "outputs_hidden": false
    }
   },
   "outputs": [
    {
     "name": "stdout",
     "output_type": "stream",
     "text": [
      "Data: 2023-06-30 15:30:20\n"
     ]
    }
   ],
   "source": [
    "from datetime import datetime\n",
    "\n",
    "string_data = \"30 Junho, 2023, 15:30:20\"\n",
    "formato = \"%d %B, %Y, %H:%M:%S\"\n",
    "data = datetime.strptime(string_data, formato)\n",
    "\n",
    "print(f\"Data: {data}\") "
   ]
  },
  {
   "cell_type": "code",
   "execution_count": 26,
   "metadata": {},
   "outputs": [
    {
     "name": "stdout",
     "output_type": "stream",
     "text": [
      "Data: 2023-06-09 15:30:20\n"
     ]
    }
   ],
   "source": [
    "# formato DD/MM/YYYY\n",
    "string_data = \"09/06/2023, 15:30:20\"\n",
    "formato = \"%d/%m/%Y, %H:%M:%S\"\n",
    "data = datetime.strptime(string_data, formato)\n",
    "\n",
    "print(f\"Data: {data}\")"
   ]
  },
  {
   "cell_type": "code",
   "execution_count": 27,
   "metadata": {},
   "outputs": [
    {
     "name": "stdout",
     "output_type": "stream",
     "text": [
      "Data: 2023-09-06 15:30:20\n"
     ]
    }
   ],
   "source": [
    "# formato MM/DD/YYYY\n",
    "string_data = \"09/06/2023, 15:30:20\"\n",
    "formato = \"%m/%d/%Y, %H:%M:%S\"\n",
    "data = datetime.strptime(string_data, formato)\n",
    "\n",
    "print(f\"Data: {data}\")"
   ]
  },
  {
   "cell_type": "markdown",
   "metadata": {},
   "source": [
    "## Trabalhando com fuso horário\n",
    "\n",
    "Podemos criar um objeto datetime usando a classe `datetime`. O construtor da classe aceita os seguintes argumentos:\n",
    "\n",
    "- `year`: ano (por exemplo, 2023)\n",
    "- `month`: mês (1-12)\n",
    "- `day`: dia (1-31)\n",
    "- `hour`: hora (0-23)\n",
    "- `minute`: minuto (0-59)\n",
    "- `second`: segundo (0-59)\n",
    "- `microsecond`: microssegundo (0-999999)\n",
    "- `tzinfo`: fuso horário\n"
   ]
  },
  {
   "cell_type": "code",
   "execution_count": 28,
   "metadata": {
    "collapsed": false,
    "jupyter": {
     "outputs_hidden": false
    }
   },
   "outputs": [
    {
     "name": "stdout",
     "output_type": "stream",
     "text": [
      "Data/hora: 2024-12-03 20:28:20\n"
     ]
    }
   ],
   "source": [
    "from datetime import datetime\n",
    "\n",
    "data_hora = datetime(2024, 12, 3, 20, 28, 20)\n",
    "print(f\"Data/hora: {data_hora}\") "
   ]
  },
  {
   "cell_type": "markdown",
   "metadata": {},
   "source": [
    "Os horários que vimos até o momento são os que chamamos de ingênuos (*naive*). Eles não possuem informações sobre o fuso horário. Para criar um horário consciente (*aware*), precisamos passar um objeto `tzinfo` para o construtor da classe `datetime`. O módulo `datetime` fornece uma classe `timezone` que pode ser usada para criar um objeto `tzinfo`. No exemplo abaixo, usamos UTC como fuso horário. UTC significa Tempo Universal Coordenado, que é o fuso horário de referência a partir do qual todos os outros fusos horários são calculados.\n",
    "\n",
    "![UTC](https://upload.wikimedia.org/wikipedia/commons/thumb/8/88/World_Time_Zones_Map.png/800px-World_Time_Zones_Map.png)\n"
   ]
  },
  {
   "cell_type": "code",
   "execution_count": 29,
   "metadata": {
    "collapsed": false,
    "jupyter": {
     "outputs_hidden": false
    }
   },
   "outputs": [
    {
     "name": "stdout",
     "output_type": "stream",
     "text": [
      "Data/hora: 2023-06-26 15:30:20+00:00\n"
     ]
    }
   ],
   "source": [
    "# exemplo com fuso horário\n",
    "from datetime import datetime, timezone\n",
    "\n",
    "fuso_horario = timezone.utc\n",
    "data_hora = datetime(2023, 6, 26, 15, 30, 20, tzinfo=fuso_horario)\n",
    "print(f\"Data/hora: {data_hora}\")"
   ]
  },
  {
   "cell_type": "markdown",
   "metadata": {},
   "source": [
    "Podemos passar um objeto `timedelta` para o construtor da classe `timezone` para criar um fuso horário com um deslocamento específico. Por exemplo, o código abaixo cria um fuso horário com um deslocamento de 3 horas em relação ao UTC:\n"
   ]
  },
  {
   "cell_type": "code",
   "execution_count": 30,
   "metadata": {
    "collapsed": false,
    "jupyter": {
     "outputs_hidden": false
    }
   },
   "outputs": [
    {
     "name": "stdout",
     "output_type": "stream",
     "text": [
      "Data/hora: 2023-06-26 15:30:20-03:00\n"
     ]
    }
   ],
   "source": [
    "# exemplo com fuso horário de São Paulo\n",
    "from datetime import datetime, timezone, timedelta\n",
    "\n",
    "fuso_horario_sao_paulo = timezone(timedelta(hours=-3))\n",
    "data_hora = datetime(2023, 6, 26, 15, 30, 20, tzinfo=fuso_horario_sao_paulo)\n",
    "print(f\"Data/hora: {data_hora}\")"
   ]
  },
  {
   "cell_type": "markdown",
   "metadata": {},
   "source": [
    "Como alternativa, podemos usar o módulo `zoneinfo` para criar um objeto `tzinfo`. O módulo `zoneinfo` está disponível na biblioteca padrão do Python desde a versão 3.9. O módulo `zoneinfo` fornece uma classe `ZoneInfo` que pode ser usada para criar um objeto `tzinfo`. No exemplo abaixo, usamos o fuso horário de São Paulo. Observe que não precisamos passar um objeto `timedelta` para o construtor da classe `ZoneInfo`."
   ]
  },
  {
   "cell_type": "code",
   "execution_count": 31,
   "metadata": {
    "collapsed": false,
    "jupyter": {
     "outputs_hidden": false
    }
   },
   "outputs": [
    {
     "ename": "ZoneInfoNotFoundError",
     "evalue": "'No time zone found with key America/Sao_Paulo'",
     "output_type": "error",
     "traceback": [
      "\u001b[1;31m---------------------------------------------------------------------------\u001b[0m",
      "\u001b[1;31mModuleNotFoundError\u001b[0m                       Traceback (most recent call last)",
      "File \u001b[1;32mc:\\Users\\Danih\\AppData\\Local\\Programs\\Python\\Python312\\Lib\\zoneinfo\\_common.py:12\u001b[0m, in \u001b[0;36mload_tzdata\u001b[1;34m(key)\u001b[0m\n\u001b[0;32m     11\u001b[0m \u001b[38;5;28;01mtry\u001b[39;00m:\n\u001b[1;32m---> 12\u001b[0m     \u001b[38;5;28;01mreturn\u001b[39;00m \u001b[43mresources\u001b[49m\u001b[38;5;241;43m.\u001b[39;49m\u001b[43mfiles\u001b[49m\u001b[43m(\u001b[49m\u001b[43mpackage_name\u001b[49m\u001b[43m)\u001b[49m\u001b[38;5;241m.\u001b[39mjoinpath(resource_name)\u001b[38;5;241m.\u001b[39mopen(\u001b[38;5;124m\"\u001b[39m\u001b[38;5;124mrb\u001b[39m\u001b[38;5;124m\"\u001b[39m)\n\u001b[0;32m     13\u001b[0m \u001b[38;5;28;01mexcept\u001b[39;00m (\u001b[38;5;167;01mImportError\u001b[39;00m, \u001b[38;5;167;01mFileNotFoundError\u001b[39;00m, \u001b[38;5;167;01mUnicodeEncodeError\u001b[39;00m):\n\u001b[0;32m     14\u001b[0m     \u001b[38;5;66;03m# There are three types of exception that can be raised that all amount\u001b[39;00m\n\u001b[0;32m     15\u001b[0m     \u001b[38;5;66;03m# to \"we cannot find this key\":\u001b[39;00m\n\u001b[1;32m   (...)\u001b[0m\n\u001b[0;32m     22\u001b[0m     \u001b[38;5;66;03m# UnicodeEncodeError: If package_name or resource_name are not UTF-8,\u001b[39;00m\n\u001b[0;32m     23\u001b[0m     \u001b[38;5;66;03m#   such as keys containing a surrogate character.\u001b[39;00m\n",
      "File \u001b[1;32mc:\\Users\\Danih\\AppData\\Local\\Programs\\Python\\Python312\\Lib\\importlib\\resources\\_common.py:46\u001b[0m, in \u001b[0;36mpackage_to_anchor.<locals>.wrapper\u001b[1;34m(anchor, package)\u001b[0m\n\u001b[0;32m     45\u001b[0m     \u001b[38;5;28;01mreturn\u001b[39;00m func()\n\u001b[1;32m---> 46\u001b[0m \u001b[38;5;28;01mreturn\u001b[39;00m \u001b[43mfunc\u001b[49m\u001b[43m(\u001b[49m\u001b[43manchor\u001b[49m\u001b[43m)\u001b[49m\n",
      "File \u001b[1;32mc:\\Users\\Danih\\AppData\\Local\\Programs\\Python\\Python312\\Lib\\importlib\\resources\\_common.py:56\u001b[0m, in \u001b[0;36mfiles\u001b[1;34m(anchor)\u001b[0m\n\u001b[0;32m     53\u001b[0m \u001b[38;5;250m\u001b[39m\u001b[38;5;124;03m\"\"\"\u001b[39;00m\n\u001b[0;32m     54\u001b[0m \u001b[38;5;124;03mGet a Traversable resource for an anchor.\u001b[39;00m\n\u001b[0;32m     55\u001b[0m \u001b[38;5;124;03m\"\"\"\u001b[39;00m\n\u001b[1;32m---> 56\u001b[0m \u001b[38;5;28;01mreturn\u001b[39;00m from_package(\u001b[43mresolve\u001b[49m\u001b[43m(\u001b[49m\u001b[43manchor\u001b[49m\u001b[43m)\u001b[49m)\n",
      "File \u001b[1;32mc:\\Users\\Danih\\AppData\\Local\\Programs\\Python\\Python312\\Lib\\functools.py:909\u001b[0m, in \u001b[0;36msingledispatch.<locals>.wrapper\u001b[1;34m(*args, **kw)\u001b[0m\n\u001b[0;32m    906\u001b[0m     \u001b[38;5;28;01mraise\u001b[39;00m \u001b[38;5;167;01mTypeError\u001b[39;00m(\u001b[38;5;124mf\u001b[39m\u001b[38;5;124m'\u001b[39m\u001b[38;5;132;01m{\u001b[39;00mfuncname\u001b[38;5;132;01m}\u001b[39;00m\u001b[38;5;124m requires at least \u001b[39m\u001b[38;5;124m'\u001b[39m\n\u001b[0;32m    907\u001b[0m                     \u001b[38;5;124m'\u001b[39m\u001b[38;5;124m1 positional argument\u001b[39m\u001b[38;5;124m'\u001b[39m)\n\u001b[1;32m--> 909\u001b[0m \u001b[38;5;28;01mreturn\u001b[39;00m \u001b[43mdispatch\u001b[49m\u001b[43m(\u001b[49m\u001b[43margs\u001b[49m\u001b[43m[\u001b[49m\u001b[38;5;241;43m0\u001b[39;49m\u001b[43m]\u001b[49m\u001b[38;5;241;43m.\u001b[39;49m\u001b[38;5;18;43m__class__\u001b[39;49m\u001b[43m)\u001b[49m\u001b[43m(\u001b[49m\u001b[38;5;241;43m*\u001b[39;49m\u001b[43margs\u001b[49m\u001b[43m,\u001b[49m\u001b[43m \u001b[49m\u001b[38;5;241;43m*\u001b[39;49m\u001b[38;5;241;43m*\u001b[39;49m\u001b[43mkw\u001b[49m\u001b[43m)\u001b[49m\n",
      "File \u001b[1;32mc:\\Users\\Danih\\AppData\\Local\\Programs\\Python\\Python312\\Lib\\importlib\\resources\\_common.py:82\u001b[0m, in \u001b[0;36m_\u001b[1;34m(cand)\u001b[0m\n\u001b[0;32m     80\u001b[0m \u001b[38;5;129m@resolve\u001b[39m\u001b[38;5;241m.\u001b[39mregister\n\u001b[0;32m     81\u001b[0m \u001b[38;5;28;01mdef\u001b[39;00m \u001b[38;5;21m_\u001b[39m(cand: \u001b[38;5;28mstr\u001b[39m) \u001b[38;5;241m-\u001b[39m\u001b[38;5;241m>\u001b[39m types\u001b[38;5;241m.\u001b[39mModuleType:\n\u001b[1;32m---> 82\u001b[0m     \u001b[38;5;28;01mreturn\u001b[39;00m \u001b[43mimportlib\u001b[49m\u001b[38;5;241;43m.\u001b[39;49m\u001b[43mimport_module\u001b[49m\u001b[43m(\u001b[49m\u001b[43mcand\u001b[49m\u001b[43m)\u001b[49m\n",
      "File \u001b[1;32mc:\\Users\\Danih\\AppData\\Local\\Programs\\Python\\Python312\\Lib\\importlib\\__init__.py:90\u001b[0m, in \u001b[0;36mimport_module\u001b[1;34m(name, package)\u001b[0m\n\u001b[0;32m     89\u001b[0m         level \u001b[38;5;241m+\u001b[39m\u001b[38;5;241m=\u001b[39m \u001b[38;5;241m1\u001b[39m\n\u001b[1;32m---> 90\u001b[0m \u001b[38;5;28;01mreturn\u001b[39;00m \u001b[43m_bootstrap\u001b[49m\u001b[38;5;241;43m.\u001b[39;49m\u001b[43m_gcd_import\u001b[49m\u001b[43m(\u001b[49m\u001b[43mname\u001b[49m\u001b[43m[\u001b[49m\u001b[43mlevel\u001b[49m\u001b[43m:\u001b[49m\u001b[43m]\u001b[49m\u001b[43m,\u001b[49m\u001b[43m \u001b[49m\u001b[43mpackage\u001b[49m\u001b[43m,\u001b[49m\u001b[43m \u001b[49m\u001b[43mlevel\u001b[49m\u001b[43m)\u001b[49m\n",
      "File \u001b[1;32m<frozen importlib._bootstrap>:1387\u001b[0m, in \u001b[0;36m_gcd_import\u001b[1;34m(name, package, level)\u001b[0m\n",
      "File \u001b[1;32m<frozen importlib._bootstrap>:1360\u001b[0m, in \u001b[0;36m_find_and_load\u001b[1;34m(name, import_)\u001b[0m\n",
      "File \u001b[1;32m<frozen importlib._bootstrap>:1310\u001b[0m, in \u001b[0;36m_find_and_load_unlocked\u001b[1;34m(name, import_)\u001b[0m\n",
      "File \u001b[1;32m<frozen importlib._bootstrap>:488\u001b[0m, in \u001b[0;36m_call_with_frames_removed\u001b[1;34m(f, *args, **kwds)\u001b[0m\n",
      "File \u001b[1;32m<frozen importlib._bootstrap>:1387\u001b[0m, in \u001b[0;36m_gcd_import\u001b[1;34m(name, package, level)\u001b[0m\n",
      "File \u001b[1;32m<frozen importlib._bootstrap>:1360\u001b[0m, in \u001b[0;36m_find_and_load\u001b[1;34m(name, import_)\u001b[0m\n",
      "File \u001b[1;32m<frozen importlib._bootstrap>:1310\u001b[0m, in \u001b[0;36m_find_and_load_unlocked\u001b[1;34m(name, import_)\u001b[0m\n",
      "File \u001b[1;32m<frozen importlib._bootstrap>:488\u001b[0m, in \u001b[0;36m_call_with_frames_removed\u001b[1;34m(f, *args, **kwds)\u001b[0m\n",
      "File \u001b[1;32m<frozen importlib._bootstrap>:1387\u001b[0m, in \u001b[0;36m_gcd_import\u001b[1;34m(name, package, level)\u001b[0m\n",
      "File \u001b[1;32m<frozen importlib._bootstrap>:1360\u001b[0m, in \u001b[0;36m_find_and_load\u001b[1;34m(name, import_)\u001b[0m\n",
      "File \u001b[1;32m<frozen importlib._bootstrap>:1324\u001b[0m, in \u001b[0;36m_find_and_load_unlocked\u001b[1;34m(name, import_)\u001b[0m\n",
      "\u001b[1;31mModuleNotFoundError\u001b[0m: No module named 'tzdata'",
      "\nDuring handling of the above exception, another exception occurred:\n",
      "\u001b[1;31mZoneInfoNotFoundError\u001b[0m                     Traceback (most recent call last)",
      "Cell \u001b[1;32mIn[31], line 5\u001b[0m\n\u001b[0;32m      2\u001b[0m \u001b[38;5;28;01mfrom\u001b[39;00m \u001b[38;5;21;01mdatetime\u001b[39;00m \u001b[38;5;28;01mimport\u001b[39;00m datetime\n\u001b[0;32m      3\u001b[0m \u001b[38;5;28;01mfrom\u001b[39;00m \u001b[38;5;21;01mzoneinfo\u001b[39;00m \u001b[38;5;28;01mimport\u001b[39;00m ZoneInfo\n\u001b[1;32m----> 5\u001b[0m fuso_horario_sao_paulo \u001b[38;5;241m=\u001b[39m \u001b[43mZoneInfo\u001b[49m\u001b[43m(\u001b[49m\u001b[38;5;124;43m'\u001b[39;49m\u001b[38;5;124;43mAmerica/Sao_Paulo\u001b[39;49m\u001b[38;5;124;43m'\u001b[39;49m\u001b[43m)\u001b[49m\n\u001b[0;32m      6\u001b[0m data_hora \u001b[38;5;241m=\u001b[39m datetime(\u001b[38;5;241m2023\u001b[39m, \u001b[38;5;241m6\u001b[39m, \u001b[38;5;241m26\u001b[39m, \u001b[38;5;241m15\u001b[39m, \u001b[38;5;241m30\u001b[39m, \u001b[38;5;241m20\u001b[39m, tzinfo\u001b[38;5;241m=\u001b[39mfuso_horario_sao_paulo)\n\u001b[0;32m      7\u001b[0m \u001b[38;5;28mprint\u001b[39m(\u001b[38;5;124mf\u001b[39m\u001b[38;5;124m\"\u001b[39m\u001b[38;5;124mData/hora: \u001b[39m\u001b[38;5;132;01m{\u001b[39;00mdata_hora\u001b[38;5;132;01m}\u001b[39;00m\u001b[38;5;124m\"\u001b[39m)\n",
      "File \u001b[1;32mc:\\Users\\Danih\\AppData\\Local\\Programs\\Python\\Python312\\Lib\\zoneinfo\\_common.py:24\u001b[0m, in \u001b[0;36mload_tzdata\u001b[1;34m(key)\u001b[0m\n\u001b[0;32m     12\u001b[0m     \u001b[38;5;28;01mreturn\u001b[39;00m resources\u001b[38;5;241m.\u001b[39mfiles(package_name)\u001b[38;5;241m.\u001b[39mjoinpath(resource_name)\u001b[38;5;241m.\u001b[39mopen(\u001b[38;5;124m\"\u001b[39m\u001b[38;5;124mrb\u001b[39m\u001b[38;5;124m\"\u001b[39m)\n\u001b[0;32m     13\u001b[0m \u001b[38;5;28;01mexcept\u001b[39;00m (\u001b[38;5;167;01mImportError\u001b[39;00m, \u001b[38;5;167;01mFileNotFoundError\u001b[39;00m, \u001b[38;5;167;01mUnicodeEncodeError\u001b[39;00m):\n\u001b[0;32m     14\u001b[0m     \u001b[38;5;66;03m# There are three types of exception that can be raised that all amount\u001b[39;00m\n\u001b[0;32m     15\u001b[0m     \u001b[38;5;66;03m# to \"we cannot find this key\":\u001b[39;00m\n\u001b[1;32m   (...)\u001b[0m\n\u001b[0;32m     22\u001b[0m     \u001b[38;5;66;03m# UnicodeEncodeError: If package_name or resource_name are not UTF-8,\u001b[39;00m\n\u001b[0;32m     23\u001b[0m     \u001b[38;5;66;03m#   such as keys containing a surrogate character.\u001b[39;00m\n\u001b[1;32m---> 24\u001b[0m     \u001b[38;5;28;01mraise\u001b[39;00m ZoneInfoNotFoundError(\u001b[38;5;124mf\u001b[39m\u001b[38;5;124m\"\u001b[39m\u001b[38;5;124mNo time zone found with key \u001b[39m\u001b[38;5;132;01m{\u001b[39;00mkey\u001b[38;5;132;01m}\u001b[39;00m\u001b[38;5;124m\"\u001b[39m)\n",
      "\u001b[1;31mZoneInfoNotFoundError\u001b[0m: 'No time zone found with key America/Sao_Paulo'"
     ]
    }
   ],
   "source": [
    "# exemplo com fuso horário de São Paulo sem necessidade de timedelta\n",
    "from datetime import datetime\n",
    "from zoneinfo import ZoneInfo\n",
    "\n",
    "fuso_horario_sao_paulo = ZoneInfo('America/Sao_Paulo')\n",
    "data_hora = datetime(2023, 6, 26, 15, 30, 20, tzinfo=fuso_horario_sao_paulo)\n",
    "print(f\"Data/hora: {data_hora}\")"
   ]
  },
  {
   "cell_type": "markdown",
   "metadata": {},
   "source": [
    "### Conversão entre fusos horários\n",
    "\n",
    "Podemos converter um objeto datetime de um fuso horário para outro usando o método `astimezone()`.\n"
   ]
  },
  {
   "cell_type": "code",
   "execution_count": null,
   "metadata": {
    "collapsed": false,
    "jupyter": {
     "outputs_hidden": false
    },
    "tags": []
   },
   "outputs": [
    {
     "name": "stdout",
     "output_type": "stream",
     "text": [
      "Data/hora atual (fuso horário local): 2023-06-29 19:17:09.311311\n"
     ]
    }
   ],
   "source": [
    "from datetime import datetime\n",
    "from zoneinfo import ZoneInfo\n",
    " \n",
    "data_hora_atual = datetime.now()\n",
    "print(f\"Data/hora atual (fuso horário local): {data_hora_atual}\")  "
   ]
  },
  {
   "cell_type": "code",
   "execution_count": null,
   "metadata": {
    "tags": []
   },
   "outputs": [
    {
     "name": "stdout",
     "output_type": "stream",
     "text": [
      "Data/hora atual em São Paulo: 2023-06-29 19:17:09.311311-03:00\n"
     ]
    }
   ],
   "source": [
    "fuso_horario_sao_paulo = ZoneInfo('America/Sao_Paulo')\n",
    "data_hora_sao_paulo = data_hora_atual.astimezone(fuso_horario_sao_paulo)\n",
    "print(f\"Data/hora atual em São Paulo: {data_hora_sao_paulo}\")  "
   ]
  },
  {
   "cell_type": "code",
   "execution_count": null,
   "metadata": {
    "tags": []
   },
   "outputs": [
    {
     "name": "stdout",
     "output_type": "stream",
     "text": [
      "Data/hora atual em Nova York: 2023-06-29 18:17:09.311311-04:00\n"
     ]
    }
   ],
   "source": [
    "fuso_horario_ny = ZoneInfo('America/New_York')\n",
    "data_hora_ny = data_hora_atual.astimezone(fuso_horario_ny)\n",
    "print(f\"Data/hora atual em Nova York: {data_hora_ny}\") "
   ]
  }
 ],
 "metadata": {
  "kernelspec": {
   "display_name": "Python 3",
   "language": "python",
   "name": "python3"
  },
  "language_info": {
   "codemirror_mode": {
    "name": "ipython",
    "version": 3
   },
   "file_extension": ".py",
   "mimetype": "text/x-python",
   "name": "python",
   "nbconvert_exporter": "python",
   "pygments_lexer": "ipython3",
   "version": "3.12.3"
  }
 },
 "nbformat": 4,
 "nbformat_minor": 4
}
