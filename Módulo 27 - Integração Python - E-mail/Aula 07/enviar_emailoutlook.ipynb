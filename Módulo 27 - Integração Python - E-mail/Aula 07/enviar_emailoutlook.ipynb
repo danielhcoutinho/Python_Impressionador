{
 "cells": [
  {
   "cell_type": "code",
   "execution_count": 9,
   "id": "302f0ce2",
   "metadata": {},
   "outputs": [
    {
     "name": "stdout",
     "output_type": "stream",
     "text": [
      "Requirement already satisfied: pywin32 in c:\\users\\danih\\appdata\\roaming\\python\\python312\\site-packages (306)\n"
     ]
    },
    {
     "name": "stderr",
     "output_type": "stream",
     "text": [
      "\n",
      "[notice] A new release of pip is available: 24.0 -> 25.2\n",
      "[notice] To update, run: python.exe -m pip install --upgrade pip\n"
     ]
    }
   ],
   "source": [
    "!pip install pywin32"
   ]
  },
  {
   "cell_type": "code",
   "execution_count": null,
   "id": "132b011c",
   "metadata": {},
   "outputs": [],
   "source": [
    "import win32com.client as win32\n",
    "import os\n",
    "\n",
    "outlook = win32.Dispatch(\"Outlook.Application\") #vai gerar a conexão com o app outlook ja instalado\n",
    "\n",
    "email = outlook.CreateItem(0) #cria o nosso email o n° 0 significa o parametro padrao\n",
    "\n",
    "email.To = 'danihh1310@gmail.com' #email remetente\n",
    "email.Cc = 'daniel.hcoutinho00@gmail.com;daniel.coutinhosantos@uni9.edu.br' #email em copia\n",
    "email.Subject = 'Email enviado pelo Outlook-Python' #assunto\n",
    "#email.Body = 'Texto do email' #texto do email (1° modo)\n",
    "email.HTMLBody = \"\"\"<p> Meu primeiro paragrafo</p>\n",
    "<p>outro paragrafo</p>\n",
    "<img src 'flask django.jpg'>\"\"\" #outra forma de enviar email (2° modo)\n",
    "\n",
    "email.Send()"
   ]
  }
 ],
 "metadata": {
  "kernelspec": {
   "display_name": "Python 3",
   "language": "python",
   "name": "python3"
  },
  "language_info": {
   "codemirror_mode": {
    "name": "ipython",
    "version": 3
   },
   "file_extension": ".py",
   "mimetype": "text/x-python",
   "name": "python",
   "nbconvert_exporter": "python",
   "pygments_lexer": "ipython3",
   "version": "3.12.3"
  }
 },
 "nbformat": 4,
 "nbformat_minor": 5
}
