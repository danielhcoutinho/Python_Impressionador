{
 "cells": [
  {
   "cell_type": "code",
   "execution_count": 6,
   "id": "f5582725",
   "metadata": {},
   "outputs": [
    {
     "name": "stdout",
     "output_type": "stream",
     "text": [
      "Email enviado\n"
     ]
    }
   ],
   "source": [
    "# SMTP\n",
    "\n",
    "import smtplib\n",
    "import email.message\n",
    "\n",
    "def enviar_email():\n",
    "    msg = email.message.Message() #parametro/instancia para criar uma mensagem de e-mail\n",
    "    msg[\"Subject\"] = \"Email enviado com Python 2\" #assunto\n",
    "    msg['From'] = 'danihh1310@gmail.com' #email remetente\n",
    "    msg['To'] = 'daniel.hcoutinho00@gmail.com' #email destinatario\n",
    "    msg['Cc'] = 'danihh1310+copia@gmail.com' #Email copia \n",
    "    msg['Bcc'] = 'gaby.lopes314@gmail.com' #email copia oculta\n",
    "\n",
    "    #caso necessario mais de um email colocamos ; para separar os emails (isso dentro da aspas)\n",
    "\n",
    "    link_imagem = 'https://www.citypng.com/public/uploads/preview/hd-python-logo-symbol-transparent-png-735811696257415dbkifcuokn.png'\n",
    "\n",
    "    corpo_email = \"\"\"<p>Boa noite</p>\n",
    "     <p> Esse é um email enviado com Python </p> \n",
    "     <img src='{link_imagem}'>\"\"\"\n",
    "    \n",
    "    corpo_email = corpo_email.encode('utf-8') #transforma o corpo do email no padrão BR\n",
    "    \n",
    "    msg.add_header('Content-Type', 'text/html') #add esse cabeçalho padrão\n",
    "    msg.set_payload(corpo_email) #add o corpo do e-mail\n",
    "\n",
    "    servidor = smtplib.SMTP('smtp.gmail.com', 587) #passamos o endereço do servidor e a porta\n",
    "    servidor.starttls() #cod que assegura o email (obrigatorio sempre)\n",
    "    servidor.login(msg['From'], \"zgpx gmrb uvzj xoyc\" ) #passamos o usuario e senha (nao a pessoal e sim a senha de app nas config do google)\n",
    "    servidor.send_message(msg) #envia a mensagem de email\n",
    "    servidor.quit #fecha o servidor para fechar o login\n",
    "    print('Email enviado')\n",
    "\n",
    "enviar_email()\n"
   ]
  }
 ],
 "metadata": {
  "kernelspec": {
   "display_name": "Python 3",
   "language": "python",
   "name": "python3"
  },
  "language_info": {
   "codemirror_mode": {
    "name": "ipython",
    "version": 3
   },
   "file_extension": ".py",
   "mimetype": "text/x-python",
   "name": "python",
   "nbconvert_exporter": "python",
   "pygments_lexer": "ipython3",
   "version": "3.12.3"
  }
 },
 "nbformat": 4,
 "nbformat_minor": 5
}
