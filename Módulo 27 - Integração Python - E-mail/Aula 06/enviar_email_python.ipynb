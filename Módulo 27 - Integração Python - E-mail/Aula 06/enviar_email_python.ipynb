{
 "cells": [
  {
   "cell_type": "code",
   "execution_count": null,
   "id": "f5582725",
   "metadata": {},
   "outputs": [
    {
     "name": "stdout",
     "output_type": "stream",
     "text": [
      "Email enviado\n"
     ]
    }
   ],
   "source": [
    "# SMTP ENVIANDO EMAIL COM ANEXO\n",
    "\n",
    "import smtplib\n",
    "import email.message\n",
    "from email.mime.multipart import MIMEMultipart\n",
    "from email.mime.text import MIMEText\n",
    "from email.mime.application import MIMEApplication\n",
    "import os\n",
    "\n",
    "def enviar_email():\n",
    "    msg = MIMEMultipart() #parametro/instancia para criar uma mensagem de e-mail e separar em multiparte\n",
    "    msg[\"Subject\"] = \"Email enviado com Python 2\" #assunto\n",
    "    msg['From'] = 'danihh1310@gmail.com' #email remetente\n",
    "    msg['To'] = 'daniel.hcoutinho00@gmail.com' #email destinatario\n",
    "    msg['Cc'] = 'danihh1310+copia@gmail.com' #Email copia \n",
    "    msg['Bcc'] = 'gabylopes314@gmail.com' #email copia oculta\n",
    "\n",
    "    #caso necessario mais de um email colocamos ; para separar os emails (isso dentro da aspas)\n",
    "\n",
    "    link_imagem = 'https://www.citypng.com/public/uploads/preview/hd-python-logo-symbol-transparent-png-735811696257415dbkifcuokn.png'\n",
    "\n",
    "    corpo_email = \"\"\"<p>Boa noite</p>\n",
    "     <p> Esse é um email enviado com Python </p> \n",
    "     <img src='{link_imagem}'>\"\"\"\n",
    "    \n",
    "    msg.attach(MIMEText(corpo_email, 'html')) #aqui é onde nosso email é add passamos 2 paraemtros 1 o texto e depois o formato do texto\n",
    "\n",
    "    #anexar arquivos\n",
    "    with open('anexos/kivy.png', 'rb') as arquivo: #abre o arquivo para leitura\n",
    "        msg.attach(MIMEApplication(arquivo.read(), Name='kivy.png')) #add um arquivo, passamos 2 parametros 1 o arquivo e depois opcional o nome do arquivo\n",
    "\n",
    "\n",
    "    servidor = smtplib.SMTP('smtp.gmail.com', 587) #passamos o endereço do servidor e a porta\n",
    "    servidor.starttls() #cod que assegura o email (obrigatorio sempre)\n",
    "    servidor.login(msg['From'], \"zgpx gmrb uvzj xoyc\" ) #passamos o usuario e senha (nao a pessoal e sim a senha de app nas config do google)\n",
    "    servidor.send_message(msg) #envia a mensagem de email\n",
    "    servidor.quit #fecha o servidor para fechar o login\n",
    "    print('Email enviado')\n",
    "\n",
    "enviar_email()\n"
   ]
  },
  {
   "cell_type": "code",
   "execution_count": 5,
   "id": "dd8eece0",
   "metadata": {},
   "outputs": [
    {
     "name": "stdout",
     "output_type": "stream",
     "text": [
      "Requirement already satisfied: imap-tools in c:\\users\\danih\\appdata\\local\\programs\\python\\python312\\lib\\site-packages (1.11.0)\n"
     ]
    },
    {
     "name": "stderr",
     "output_type": "stream",
     "text": [
      "\n",
      "[notice] A new release of pip is available: 24.0 -> 25.2\n",
      "[notice] To update, run: python.exe -m pip install --upgrade pip\n"
     ]
    }
   ],
   "source": [
    "!pip install imap-tools"
   ]
  },
  {
   "cell_type": "code",
   "execution_count": null,
   "id": "34a7dc28",
   "metadata": {},
   "outputs": [
    {
     "name": "stdout",
     "output_type": "stream",
     "text": [
      "\n",
      "[image: image.png]\n",
      "\n",
      "<div dir=\"ltr\"><img src=\"cid:ii_m768tgrl0\" alt=\"image.png\" width=\"542\" height=\"42\"><br></div>\n",
      "\n",
      "Anexo: image.png\n",
      "Anexo: Export-Relatório-de-visitantes-15_02_2025-10_02.pdf\n",
      "Overview licenças Involves\n",
      "[image: image.png]\n",
      "\n",
      "<div dir=\"ltr\"><img src=\"cid:ii_m8xobol00\" alt=\"image.png\" width=\"510\" height=\"274\"><br></div>\n",
      "\n",
      "Anexo: image.png\n",
      "Email enviado com Python 2\n",
      "\n",
      "<p>Boa noite</p>\n",
      "     <p> Esse é um email enviado com Python </p> \n",
      "     <img src='{link_imagem}'>\n",
      "Anexo: kivy.png\n",
      "Email enviado com Python 2\n",
      "\n",
      "<p>Boa noite</p>\n",
      "     <p> Esse é um email enviado com Python </p> \n",
      "     <img src='{link_imagem}'>\n",
      "Anexo: kivy.png\n",
      "Email enviado com Python 2\n",
      "\n",
      "<p>Boa noite</p>\n",
      "     <p> Esse é um email enviado com Python </p> \n",
      "     <img src='{link_imagem}'>\n",
      "Anexo: kivy.png\n"
     ]
    }
   ],
   "source": [
    "#LENDO E BAIXANDO TODA INFO DO EMAIL E DOS ANEXOS\n",
    "\n",
    "from imap_tools import MailBox, AND\n",
    "\n",
    "usuario = 'danihh1310@gmail.com'\n",
    "senha = 'zgpx gmrb uvzj xoyc'\n",
    "\n",
    "meu_email = MailBox('imap.gmail.com').login(usuario, senha) #aqui nos acessamos nossa caixa de email\n",
    "\n",
    "#ver pastas do meu email disponiveis\n",
    "# for pasta in meu_email.folder.list():\n",
    "#     print(pasta)\n",
    "\n",
    "meu_email.folder.set('[Gmail]/E-mails enviados')\n",
    "\n",
    "lista_emails = meu_email.fetch(AND(from_=usuario, to='daniel.hcoutinho00@gmail.com')) #passamos todos os criterios/parametros para buscar o e-mail\n",
    "\n",
    "for i, email in enumerate(lista_emails): #para cada indice e arquivo na lista de email\n",
    "    if len(email.attachments) > 0: #se tiver um anexo maior que 0\n",
    "        print(email.subject)\n",
    "        print(email.text)\n",
    "        print(email.html)\n",
    "        for anexo in email.attachments: #para cada anexo no email\n",
    "            with open (f\"Email: {i+1} - {anexo.filename}\", 'wb') as arquivo: #abre o arquivo para escrita ou ser add algo\n",
    "                arquivo.write(anexo.payload) #esse parametro carrega e baixa todos os dado do arquivo que abrimos\n",
    "            print('Anexo:', anexo.filename) #printa o nome do anexo\n",
    "\n"
   ]
  }
 ],
 "metadata": {
  "kernelspec": {
   "display_name": "Python 3",
   "language": "python",
   "name": "python3"
  },
  "language_info": {
   "codemirror_mode": {
    "name": "ipython",
    "version": 3
   },
   "file_extension": ".py",
   "mimetype": "text/x-python",
   "name": "python",
   "nbconvert_exporter": "python",
   "pygments_lexer": "ipython3",
   "version": "3.12.3"
  }
 },
 "nbformat": 4,
 "nbformat_minor": 5
}
