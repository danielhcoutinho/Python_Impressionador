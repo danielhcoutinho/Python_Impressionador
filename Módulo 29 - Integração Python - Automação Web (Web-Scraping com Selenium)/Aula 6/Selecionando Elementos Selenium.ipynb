{
 "cells": [
  {
   "cell_type": "code",
   "execution_count": 1,
   "id": "4e28f9f7",
   "metadata": {
    "id": "4e28f9f7",
    "outputId": "852b813f-20b8-439c-978c-63d2ac6da178"
   },
   "outputs": [],
   "source": [
    "from selenium import webdriver\n",
    "from selenium.webdriver.chrome.service import Service\n",
    "from webdriver_manager.chrome import ChromeDriverManager\n",
    "\n",
    "servico = Service(ChromeDriverManager().install())\n",
    "navegador = webdriver.Chrome(service=servico)"
   ]
  },
  {
   "cell_type": "code",
   "execution_count": 4,
   "id": "59c8398d",
   "metadata": {
    "id": "59c8398d"
   },
   "outputs": [],
   "source": [
    "import os\n",
    "\n",
    "caminho = os.getcwd() #pega a pasta/caminho onde esta nosso codigo\n",
    "\n",
    "arquivo = caminho + r\"\\Pagina Hashtag.html\" #concatena o caminho com a pagina da web\n",
    "\n",
    "navegador.get(arquivo) #abre o arquivo "
   ]
  },
  {
   "cell_type": "code",
   "execution_count": 3,
   "id": "25228a28",
   "metadata": {
    "id": "25228a28"
   },
   "outputs": [],
   "source": [
    "from selenium.webdriver.common.by import By\n",
    "\n",
    "navegador.find_element(By.CLASS_NAME, 'custom-logo').click() #selecionando e clicando atraves da classe\n",
    "\n",
    "\n",
    "#navegador.find_element(By.XPATH, '//*[@id=\"header\"]/div/div/div[1]/a/img').click() #selecionando e clicando atraves do elemento XPATH (nao precisamos saber como é construido)"
   ]
  },
  {
   "cell_type": "code",
   "execution_count": null,
   "id": "5437b830",
   "metadata": {
    "id": "5437b830"
   },
   "outputs": [],
   "source": []
  }
 ],
 "metadata": {
  "colab": {
   "collapsed_sections": [],
   "name": "Selecionando Elementos Selenium.ipynb",
   "provenance": []
  },
  "kernelspec": {
   "display_name": "Python 3",
   "language": "python",
   "name": "python3"
  },
  "language_info": {
   "codemirror_mode": {
    "name": "ipython",
    "version": 3
   },
   "file_extension": ".py",
   "mimetype": "text/x-python",
   "name": "python",
   "nbconvert_exporter": "python",
   "pygments_lexer": "ipython3",
   "version": "3.12.3"
  }
 },
 "nbformat": 4,
 "nbformat_minor": 5
}
