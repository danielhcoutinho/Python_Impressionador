{
 "cells": [
  {
   "cell_type": "code",
   "execution_count": 15,
   "id": "84f6a1ec",
   "metadata": {
    "id": "84f6a1ec"
   },
   "outputs": [],
   "source": [
    "from selenium import webdriver \n",
    "from selenium.webdriver.chrome.service import Service #importa o servico\n",
    "from webdriver_manager.chrome import ChromeDriverManager #importa o chrome drive (que faz a conexao com o selenium)\n",
    "\n",
    "servico = Service(ChromeDriverManager().install()) #cria um servico a partir da instalação \n",
    "navegador = webdriver.Chrome(service=servico) #abre o navegador a partir do servico que foi a instalação do chrome driver "
   ]
  },
  {
   "cell_type": "code",
   "execution_count": 16,
   "id": "c43df1d0",
   "metadata": {
    "id": "c43df1d0"
   },
   "outputs": [],
   "source": [
    "navegador.get(r\"C:/Users/Danih/OneDrive/Documentos/Python Impressionador/codigos/Módulo 29 - Integração Python - Automação Web (Web-Scraping com Selenium)/Aula 4/Arquivos/Pagina Hashtag.html\") #acessa a uma pagina no navegador"
   ]
  },
  {
   "cell_type": "code",
   "execution_count": null,
   "id": "6738d66c",
   "metadata": {
    "id": "6738d66c"
   },
   "outputs": [],
   "source": [
    "pip install webdriver-manager"
   ]
  },
  {
   "cell_type": "code",
   "execution_count": null,
   "id": "YjxaqVaThRIu",
   "metadata": {
    "id": "YjxaqVaThRIu"
   },
   "outputs": [],
   "source": [
    "pip install selenium"
   ]
  },
  {
   "cell_type": "code",
   "execution_count": null,
   "id": "_5oET0u9hoqH",
   "metadata": {
    "id": "_5oET0u9hoqH"
   },
   "outputs": [],
   "source": []
  }
 ],
 "metadata": {
  "colab": {
   "provenance": []
  },
  "kernelspec": {
   "display_name": "Python 3",
   "language": "python",
   "name": "python3"
  },
  "language_info": {
   "codemirror_mode": {
    "name": "ipython",
    "version": 3
   },
   "file_extension": ".py",
   "mimetype": "text/x-python",
   "name": "python",
   "nbconvert_exporter": "python",
   "pygments_lexer": "ipython3",
   "version": "3.12.3"
  }
 },
 "nbformat": 4,
 "nbformat_minor": 5
}
