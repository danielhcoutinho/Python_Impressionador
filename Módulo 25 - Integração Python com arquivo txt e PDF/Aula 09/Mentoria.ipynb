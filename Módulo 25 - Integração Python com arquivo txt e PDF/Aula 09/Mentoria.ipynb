{
 "cells": [
  {
   "cell_type": "code",
   "execution_count": 8,
   "id": "ccaf6ca7",
   "metadata": {},
   "outputs": [
    {
     "name": "stdout",
     "output_type": "stream",
     "text": [
      "Requirement already satisfied: python-docx in c:\\users\\danih\\appdata\\local\\programs\\python\\python312\\lib\\site-packages (1.2.0)\n",
      "Requirement already satisfied: lxml>=3.1.0 in c:\\users\\danih\\appdata\\local\\programs\\python\\python312\\lib\\site-packages (from python-docx) (6.0.0)\n",
      "Requirement already satisfied: typing_extensions>=4.9.0 in c:\\users\\danih\\appdata\\local\\programs\\python\\python312\\lib\\site-packages (from python-docx) (4.14.1)\n"
     ]
    },
    {
     "name": "stderr",
     "output_type": "stream",
     "text": [
      "\n",
      "[notice] A new release of pip is available: 24.0 -> 25.1.1\n",
      "[notice] To update, run: python.exe -m pip install --upgrade pip\n"
     ]
    }
   ],
   "source": [
    "!pip install python-docx"
   ]
  },
  {
   "cell_type": "code",
   "execution_count": 9,
   "id": "bf67c636",
   "metadata": {},
   "outputs": [],
   "source": [
    "from docx import Document #importa o modulo Document da biblioteca docx\n",
    "\n",
    "# criando o documento no Python\n",
    "documento = Document()\n",
    "\n",
    "faturamento = 1000\n",
    "\n",
    "# aqui você edita tudo o que você quer\n",
    "texto = f\"\"\"Fala Lira,\n",
    "\n",
    "O faturamento da empresa ontem foi de R${faturamento}\n",
    "\n",
    "Tamo junto, abs.\n",
    "\"\"\"\n",
    "\n",
    "paragrafo = documento.add_paragraph(texto) #adiciona o texto/paragrafo no documento/word"
   ]
  },
  {
   "cell_type": "markdown",
   "id": "1a5b69f8",
   "metadata": {},
   "source": [
    "### formatação"
   ]
  },
  {
   "cell_type": "code",
   "execution_count": 10,
   "id": "8e3207de",
   "metadata": {},
   "outputs": [],
   "source": [
    "from docx.shared import Pt, RGBColor, Cm # valores de formatação\n",
    "from docx.enum.style import WD_STYLE_TYPE #permite criar estilo/valores de formatação\n",
    "\n",
    "paragrafo.style = documento.styles.add_style(\"EstiloLira\", WD_STYLE_TYPE.PARAGRAPH) #add um estilo ao doc, nesse caso estilo de paragrafo\n",
    "\n",
    "paragrafo.style.font.name = \"Algerian\" #edita a fonte do texto\n",
    "paragrafo.style.font.size = Pt(15) #edita o tamanho da fonte\n",
    "paragrafo.style.font.bold = True #edita a fonte em negrito\n",
    "paragrafo.style.font.italic = True #edita a fonte em italico\n",
    "paragrafo.style.font.underline = True #edita a fonte em sublinado\n",
    "paragrafo.style.font.color.rgb = RGBColor(255, 0, 0)"
   ]
  },
  {
   "cell_type": "code",
   "execution_count": 11,
   "id": "5a150cf0",
   "metadata": {},
   "outputs": [],
   "source": [
    "paragrafo = documento.add_paragraph(\"PS: A quantidade de produtos vendidos foi de 10\", \"Heading 5\") #add um novo paragrafo, com outro estilo"
   ]
  },
  {
   "cell_type": "code",
   "execution_count": 12,
   "id": "687d2e5d",
   "metadata": {},
   "outputs": [],
   "source": [
    "# implementando tudo que fizemos no Python no Texto.docx\n",
    "documento.save(\"Texto.docx\")"
   ]
  },
  {
   "cell_type": "markdown",
   "id": "f0594908",
   "metadata": {},
   "source": [
    "### Aproveitando um template do word"
   ]
  },
  {
   "cell_type": "code",
   "execution_count": 13,
   "id": "d8eb8f3c",
   "metadata": {},
   "outputs": [],
   "source": [
    "#template = Document(\"template.docx\") #template criado a partir do word\n"
   ]
  },
  {
   "cell_type": "code",
   "execution_count": 14,
   "id": "3585dc30",
   "metadata": {},
   "outputs": [],
   "source": [
    "#paragrafo = template.add_paragraph(\"Contrato de Prestação de Serviço\", \"NovoEstiloABNT\") #add paragrafo novo com estilo que está dentro do doc do template\n",
    "#template.save(\"NovoArquivo.docx\") #salvando template com um novo nome de doc"
   ]
  },
  {
   "cell_type": "markdown",
   "id": "c8882757",
   "metadata": {},
   "source": [
    "### Adicionar texto com edição dentro do texto"
   ]
  },
  {
   "cell_type": "code",
   "execution_count": 15,
   "id": "6d4df1c6",
   "metadata": {},
   "outputs": [],
   "source": [
    "from docx import Document\n",
    "\n",
    "# criando o documento no Python\n",
    "documento = Document()\n",
    "\n",
    "faturamento = 1000\n",
    "\n",
    "# aqui você edita tudo o que você quer\n",
    "texto = f\"\"\"Fala Lira,\n",
    "\n",
    "O faturamento da empresa ontem foi de \"\"\"\n",
    "\n",
    "texto_final = \"Tamo junto, abs.\"\n",
    "\n",
    "\n",
    "paragrafo = documento.add_paragraph(texto) \n",
    "\n",
    "paragrafo.add_run(f\"R${faturamento}\").bold = True #adiciona uma  nova informação no paragrafo que é o que queremos e edita em negrito\n",
    "\n",
    "paragrafo = documento.add_paragraph(texto_final)\n",
    "\n",
    "documento.save(\"Texto.docx\")"
   ]
  },
  {
   "cell_type": "markdown",
   "id": "cf765499",
   "metadata": {},
   "source": [
    "### Controle de Margem e Seções"
   ]
  },
  {
   "cell_type": "code",
   "execution_count": 16,
   "id": "9021d67a",
   "metadata": {},
   "outputs": [],
   "source": [
    "from docx.enum.text import WD_PARAGRAPH_ALIGNMENT\n",
    "\n",
    "# criando o documento no Python\n",
    "documento = Document()\n",
    "\n",
    "for secao in documento.sections:\n",
    "    secao.top_margin = Cm(0.5)\n",
    "    secao.bottom_margin = Cm(1)\n",
    "    secao.left_margin = Cm(1)\n",
    "    secao.right_margin = Cm(1)\n",
    "\n",
    "\n",
    "faturamento = 1000\n",
    "\n",
    "# aqui você edita tudo o que você quer\n",
    "texto = f\"\"\"Fala Lira,\n",
    "\n",
    "O faturamento da empresa ontem foi de R${faturamento}\n",
    "\n",
    "Tamo junto, abs.\n",
    "\"\"\"\n",
    "\n",
    "paragrafo = documento.add_paragraph(texto) \n",
    "paragrafo.alignment = WD_PARAGRAPH_ALIGNMENT.CENTER\n",
    "\n",
    "documento.save(\"Texto.docx\")"
   ]
  },
  {
   "cell_type": "markdown",
   "id": "aeea7253",
   "metadata": {},
   "source": [
    "### Inserir Imagem"
   ]
  },
  {
   "cell_type": "code",
   "execution_count": 17,
   "id": "5598ac32",
   "metadata": {},
   "outputs": [],
   "source": [
    "# criando o documento no Python\n",
    "documento = Document()\n",
    "\n",
    "for secao in documento.sections:\n",
    "    secao.top_margin = Cm(0.5)\n",
    "    secao.bottom_margin = Cm(1)\n",
    "    secao.left_margin = Cm(1)\n",
    "    secao.right_margin = Cm(1)\n",
    "\n",
    "\n",
    "faturamento = 1000\n",
    "\n",
    "# aqui você edita tudo o que você quer\n",
    "texto = f\"\"\"Fala Lira,\n",
    "\n",
    "O faturamento da empresa ontem foi de R${faturamento}\n",
    "\n",
    "Tamo junto, abs.\n",
    "\"\"\"\n",
    "\n",
    "paragrafo = documento.add_paragraph(texto)\n",
    "\n",
    "imagem = documento.add_picture(\"imagem.png\", width=Cm(4), height=Cm(4)) #inseri a imagem e ajusta tamanho de largura e altura\n",
    "\n",
    "documento.save(\"Texto.docx\")"
   ]
  },
  {
   "cell_type": "markdown",
   "id": "661c1e80",
   "metadata": {},
   "source": [
    "### Inserir Tabela"
   ]
  },
  {
   "cell_type": "code",
   "execution_count": 18,
   "id": "a4b402fc",
   "metadata": {},
   "outputs": [],
   "source": [
    "documento = Document()\n",
    "\n",
    "records = (\n",
    "    (3, '101', 'Spam'),\n",
    "    (7, '422', 'Eggs'),\n",
    "    (4, '631', 'Spam, spam, eggs, and spam')\n",
    ")\n",
    "\n",
    "table = documento.add_table(rows=1, cols=3, style=\"Light Grid Accent 1\") #adiciona uma tabela com qtd de linhas e qtd de colunas da tabela.\n",
    "hdr_cells = table.rows[0].cells #atribui a primeira linha da tabela como cabeçalho\n",
    "hdr_cells[0].text = 'Qty' #edita a 1 celula da 1 linha (cabeçalho)\n",
    "hdr_cells[1].text = 'Id' #edita a 2 celula da 1 linha  (cabeçalho)\n",
    "hdr_cells[2].text = 'Desc' #edita a 3 celula da 1 linha  (cabeçalho)\n",
    "\n",
    "for qty, id, desc in records: #para cada item na lista records\n",
    "    row_cells = table.add_row().cells #adiciona uma nova linha na celula da tabela\n",
    "    row_cells[0].text = str(qty) #edita a primeira celula da linha de acordo com o valor na lista\n",
    "    row_cells[1].text = id #edita a segunda celula da linha de acordo com o valor na lista\n",
    "    row_cells[2].text = desc #edita a terceira celula da linha de acordo com o valor na lista\n",
    "    \n",
    "    \n",
    "documento.save(\"Texto.docx\")"
   ]
  },
  {
   "cell_type": "markdown",
   "id": "b4a01b8b",
   "metadata": {},
   "source": [
    "### Para verificar todos os estilos de um arquivo:"
   ]
  },
  {
   "cell_type": "code",
   "execution_count": 19,
   "id": "1a4bb04f",
   "metadata": {},
   "outputs": [
    {
     "name": "stdout",
     "output_type": "stream",
     "text": [
      "_ParagraphStyle('Normal') id: 1724716575840\n",
      "_ParagraphStyle('Header') id: 1724716577616\n",
      "<docx.styles.style.CharacterStyle object at 0x0000019191166720>\n",
      "_ParagraphStyle('Footer') id: 1724716577616\n",
      "<docx.styles.style.CharacterStyle object at 0x00000191911E6C60>\n",
      "_ParagraphStyle('Heading 1') id: 1724716577616\n",
      "_ParagraphStyle('Heading 2') id: 1724716575840\n",
      "_ParagraphStyle('Heading 3') id: 1724716577616\n",
      "_ParagraphStyle('Heading 4') id: 1724716575840\n",
      "_ParagraphStyle('Heading 5') id: 1724716577616\n",
      "_ParagraphStyle('Heading 6') id: 1724716575840\n",
      "_ParagraphStyle('Heading 7') id: 1724716577616\n",
      "_ParagraphStyle('Heading 8') id: 1724716575840\n",
      "_ParagraphStyle('Heading 9') id: 1724716577616\n",
      "<docx.styles.style.CharacterStyle object at 0x00000191911E6C60>\n",
      "_TableStyle('Normal Table') id: 1724716050208\n",
      "<docx.styles.style._NumberingStyle object at 0x00000191911E6C60>\n",
      "_ParagraphStyle('No Spacing') id: 1724716050208\n",
      "<docx.styles.style.CharacterStyle object at 0x00000191911E6C60>\n",
      "<docx.styles.style.CharacterStyle object at 0x0000019191166720>\n",
      "<docx.styles.style.CharacterStyle object at 0x00000191911E6C60>\n",
      "_ParagraphStyle('Title') id: 1724716050208\n",
      "<docx.styles.style.CharacterStyle object at 0x00000191911E6C60>\n",
      "_ParagraphStyle('Subtitle') id: 1724716050208\n",
      "<docx.styles.style.CharacterStyle object at 0x00000191911E6C60>\n",
      "_ParagraphStyle('List Paragraph') id: 1724716050208\n",
      "_ParagraphStyle('Body Text') id: 1724716575840\n",
      "<docx.styles.style.CharacterStyle object at 0x0000019191166720>\n",
      "_ParagraphStyle('Body Text 2') id: 1724716575840\n",
      "<docx.styles.style.CharacterStyle object at 0x0000019191166720>\n",
      "_ParagraphStyle('Body Text 3') id: 1724716575840\n",
      "<docx.styles.style.CharacterStyle object at 0x0000019191166720>\n",
      "_ParagraphStyle('List') id: 1724716575840\n",
      "_ParagraphStyle('List 2') id: 1724716050208\n",
      "_ParagraphStyle('List 3') id: 1724716577616\n",
      "_ParagraphStyle('List Bullet') id: 1724716050208\n",
      "_ParagraphStyle('List Bullet 2') id: 1724716577616\n",
      "_ParagraphStyle('List Bullet 3') id: 1724716050208\n",
      "_ParagraphStyle('List Number') id: 1724716577616\n",
      "_ParagraphStyle('List Number 2') id: 1724716050208\n",
      "_ParagraphStyle('List Number 3') id: 1724716577616\n",
      "_ParagraphStyle('List Continue') id: 1724716050208\n",
      "_ParagraphStyle('List Continue 2') id: 1724716577616\n",
      "_ParagraphStyle('List Continue 3') id: 1724716050208\n",
      "_ParagraphStyle('macro') id: 1724716577616\n",
      "<docx.styles.style.CharacterStyle object at 0x0000019191166720>\n",
      "_ParagraphStyle('Quote') id: 1724716577616\n",
      "<docx.styles.style.CharacterStyle object at 0x0000019191166720>\n",
      "<docx.styles.style.CharacterStyle object at 0x00000191911E7350>\n",
      "<docx.styles.style.CharacterStyle object at 0x0000019191166720>\n",
      "<docx.styles.style.CharacterStyle object at 0x00000191911E7350>\n",
      "<docx.styles.style.CharacterStyle object at 0x0000019191166720>\n",
      "<docx.styles.style.CharacterStyle object at 0x00000191911E7350>\n",
      "<docx.styles.style.CharacterStyle object at 0x0000019191166720>\n",
      "_ParagraphStyle('Caption') id: 1724716577616\n",
      "<docx.styles.style.CharacterStyle object at 0x0000019191166720>\n",
      "<docx.styles.style.CharacterStyle object at 0x00000191911E7350>\n",
      "_ParagraphStyle('Intense Quote') id: 1724716050208\n",
      "<docx.styles.style.CharacterStyle object at 0x00000191911E7350>\n",
      "<docx.styles.style.CharacterStyle object at 0x0000019191166720>\n",
      "<docx.styles.style.CharacterStyle object at 0x00000191911E7350>\n",
      "<docx.styles.style.CharacterStyle object at 0x0000019191166720>\n",
      "<docx.styles.style.CharacterStyle object at 0x00000191911E7350>\n",
      "<docx.styles.style.CharacterStyle object at 0x0000019191166720>\n",
      "_ParagraphStyle('TOC Heading') id: 1724716577616\n",
      "_TableStyle('Table Grid') id: 1724716575840\n",
      "_TableStyle('Light Shading') id: 1724716050208\n",
      "_TableStyle('Light Shading Accent 1') id: 1724716577616\n",
      "_TableStyle('Light Shading Accent 2') id: 1724716575840\n",
      "_TableStyle('Light Shading Accent 3') id: 1724716050208\n",
      "_TableStyle('Light Shading Accent 4') id: 1724716577616\n",
      "_TableStyle('Light Shading Accent 5') id: 1724716575840\n",
      "_TableStyle('Light Shading Accent 6') id: 1724716050208\n",
      "_TableStyle('Light List') id: 1724716577616\n",
      "_TableStyle('Light List Accent 1') id: 1724716575840\n",
      "_TableStyle('Light List Accent 2') id: 1724716050208\n",
      "_TableStyle('Light List Accent 3') id: 1724716577616\n",
      "_TableStyle('Light List Accent 4') id: 1724716575840\n",
      "_TableStyle('Light List Accent 5') id: 1724716050208\n",
      "_TableStyle('Light List Accent 6') id: 1724716577616\n",
      "_TableStyle('Light Grid') id: 1724716575840\n",
      "_TableStyle('Light Grid Accent 1') id: 1724716050208\n",
      "_TableStyle('Light Grid Accent 2') id: 1724716577616\n",
      "_TableStyle('Light Grid Accent 3') id: 1724716575840\n",
      "_TableStyle('Light Grid Accent 4') id: 1724716050208\n",
      "_TableStyle('Light Grid Accent 5') id: 1724716577616\n",
      "_TableStyle('Light Grid Accent 6') id: 1724716575840\n",
      "_TableStyle('Medium Shading 1') id: 1724716577616\n",
      "_TableStyle('Medium Shading 1 Accent 1') id: 1724716050208\n",
      "_TableStyle('Medium Shading 1 Accent 2') id: 1724716577616\n",
      "_TableStyle('Medium Shading 1 Accent 3') id: 1724716575840\n",
      "_TableStyle('Medium Shading 1 Accent 4') id: 1724716577616\n",
      "_TableStyle('Medium Shading 1 Accent 5') id: 1724716050208\n",
      "_TableStyle('Medium Shading 1 Accent 6') id: 1724716577616\n",
      "_TableStyle('Medium Shading 2') id: 1724716575840\n",
      "_TableStyle('Medium Shading 2 Accent 1') id: 1724716577616\n",
      "_TableStyle('Medium Shading 2 Accent 2') id: 1724716050208\n",
      "_TableStyle('Medium Shading 2 Accent 3') id: 1724716577616\n",
      "_TableStyle('Medium Shading 2 Accent 4') id: 1724716575840\n",
      "_TableStyle('Medium Shading 2 Accent 5') id: 1724716577616\n",
      "_TableStyle('Medium Shading 2 Accent 6') id: 1724716050208\n",
      "_TableStyle('Medium List 1') id: 1724716577616\n",
      "_TableStyle('Medium List 1 Accent 1') id: 1724716575840\n",
      "_TableStyle('Medium List 1 Accent 2') id: 1724716577616\n",
      "_TableStyle('Medium List 1 Accent 3') id: 1724716050208\n",
      "_TableStyle('Medium List 1 Accent 4') id: 1724716577616\n",
      "_TableStyle('Medium List 1 Accent 5') id: 1724716575840\n",
      "_TableStyle('Medium List 1 Accent 6') id: 1724716577616\n",
      "_TableStyle('Medium List 2') id: 1724716050208\n",
      "_TableStyle('Medium List 2 Accent 1') id: 1724716577616\n",
      "_TableStyle('Medium List 2 Accent 2') id: 1724716575840\n",
      "_TableStyle('Medium List 2 Accent 3') id: 1724716577616\n",
      "_TableStyle('Medium List 2 Accent 4') id: 1724716050208\n",
      "_TableStyle('Medium List 2 Accent 5') id: 1724716577616\n",
      "_TableStyle('Medium List 2 Accent 6') id: 1724716575840\n",
      "_TableStyle('Medium Grid 1') id: 1724716577616\n",
      "_TableStyle('Medium Grid 1 Accent 1') id: 1724716050208\n",
      "_TableStyle('Medium Grid 1 Accent 2') id: 1724716577616\n",
      "_TableStyle('Medium Grid 1 Accent 3') id: 1724716575840\n",
      "_TableStyle('Medium Grid 1 Accent 4') id: 1724716577616\n",
      "_TableStyle('Medium Grid 1 Accent 5') id: 1724716050208\n",
      "_TableStyle('Medium Grid 1 Accent 6') id: 1724716577616\n",
      "_TableStyle('Medium Grid 2') id: 1724716575840\n",
      "_TableStyle('Medium Grid 2 Accent 1') id: 1724716577616\n",
      "_TableStyle('Medium Grid 2 Accent 2') id: 1724716050208\n",
      "_TableStyle('Medium Grid 2 Accent 3') id: 1724716577616\n",
      "_TableStyle('Medium Grid 2 Accent 4') id: 1724716575840\n",
      "_TableStyle('Medium Grid 2 Accent 5') id: 1724716577616\n",
      "_TableStyle('Medium Grid 2 Accent 6') id: 1724716050208\n",
      "_TableStyle('Medium Grid 3') id: 1724716577616\n",
      "_TableStyle('Medium Grid 3 Accent 1') id: 1724716575840\n",
      "_TableStyle('Medium Grid 3 Accent 2') id: 1724716577616\n",
      "_TableStyle('Medium Grid 3 Accent 3') id: 1724716050208\n",
      "_TableStyle('Medium Grid 3 Accent 4') id: 1724716577616\n",
      "_TableStyle('Medium Grid 3 Accent 5') id: 1724716575840\n",
      "_TableStyle('Medium Grid 3 Accent 6') id: 1724716577616\n",
      "_TableStyle('Dark List') id: 1724716050208\n",
      "_TableStyle('Dark List Accent 1') id: 1724716577616\n",
      "_TableStyle('Dark List Accent 2') id: 1724716575840\n",
      "_TableStyle('Dark List Accent 3') id: 1724716577616\n",
      "_TableStyle('Dark List Accent 4') id: 1724716050208\n",
      "_TableStyle('Dark List Accent 5') id: 1724716577616\n",
      "_TableStyle('Dark List Accent 6') id: 1724716575840\n",
      "_TableStyle('Colorful Shading') id: 1724716577616\n",
      "_TableStyle('Colorful Shading Accent 1') id: 1724716050208\n",
      "_TableStyle('Colorful Shading Accent 2') id: 1724716577616\n",
      "_TableStyle('Colorful Shading Accent 3') id: 1724716575840\n",
      "_TableStyle('Colorful Shading Accent 4') id: 1724716577616\n",
      "_TableStyle('Colorful Shading Accent 5') id: 1724716050208\n",
      "_TableStyle('Colorful Shading Accent 6') id: 1724716577616\n",
      "_TableStyle('Colorful List') id: 1724716575840\n",
      "_TableStyle('Colorful List Accent 1') id: 1724716577616\n",
      "_TableStyle('Colorful List Accent 2') id: 1724716050208\n",
      "_TableStyle('Colorful List Accent 3') id: 1724716577616\n",
      "_TableStyle('Colorful List Accent 4') id: 1724716575840\n",
      "_TableStyle('Colorful List Accent 5') id: 1724716577616\n",
      "_TableStyle('Colorful List Accent 6') id: 1724716050208\n",
      "_TableStyle('Colorful Grid') id: 1724716577616\n",
      "_TableStyle('Colorful Grid Accent 1') id: 1724716575840\n",
      "_TableStyle('Colorful Grid Accent 2') id: 1724716577616\n",
      "_TableStyle('Colorful Grid Accent 3') id: 1724716050208\n",
      "_TableStyle('Colorful Grid Accent 4') id: 1724716577616\n",
      "_TableStyle('Colorful Grid Accent 5') id: 1724716575840\n",
      "_TableStyle('Colorful Grid Accent 6') id: 1724716577616\n"
     ]
    }
   ],
   "source": [
    "for estilo in documento.styles:\n",
    "    print(estilo)"
   ]
  },
  {
   "cell_type": "markdown",
   "id": "515bc559",
   "metadata": {},
   "source": [
    "### Adaptar um documento"
   ]
  },
  {
   "cell_type": "code",
   "execution_count": 20,
   "id": "a17586bb",
   "metadata": {},
   "outputs": [],
   "source": [
    "from datetime import datetime\n",
    "\n",
    "contrato = Document(\"Contrato.docx\")\n",
    "\n",
    "nome = \"Lira da Hashtag\"\n",
    "item1 = \"Serviço de Treinamento em Excel\"\n",
    "item2 = \"Apostila Completa de Excel\"\n",
    "item3 = \"Serviço de Treinamentos de Python\"\n",
    "\n",
    "dicionario_valores = {\n",
    "    \"XXXX\": nome,\n",
    "    \"YYYY\": item1,\n",
    "    \"ZZZZ\": item2,\n",
    "    \"WWWW\": item3,\n",
    "    \"DD\": str(datetime.now().day),\n",
    "    \"MM\": str(datetime.now().month),\n",
    "    \"AAAA\": str(datetime.now().year),\n",
    "}\n",
    "\n",
    "# tem alguma função replace? -> é executada por parágrafo\n",
    "# percorrer as linhas\n",
    "    # se a linha tiver o texto xxxx substitui pelo nome\n",
    "for paragrafo in contrato.paragraphs: #para cada paragrafo no doc\n",
    "\n",
    "    for codigo in dicionario_valores: #para cada cod/chave no dicionario\n",
    "        if codigo in paragrafo.text: #se o cod/chave estiver no paragrafo\n",
    "            paragrafo.text = paragrafo.text.replace(codigo, dicionario_valores[codigo]) #troca a chave do dicionario e pelo valor dessa chave\n",
    "\n",
    "contrato.save(f\"Contrato Atualizado - {nome}.docx\")"
   ]
  },
  {
   "cell_type": "code",
   "execution_count": null,
   "id": "a97d49ce",
   "metadata": {},
   "outputs": [],
   "source": []
  }
 ],
 "metadata": {
  "kernelspec": {
   "display_name": "Python 3",
   "language": "python",
   "name": "python3"
  },
  "language_info": {
   "codemirror_mode": {
    "name": "ipython",
    "version": 3
   },
   "file_extension": ".py",
   "mimetype": "text/x-python",
   "name": "python",
   "nbconvert_exporter": "python",
   "pygments_lexer": "ipython3",
   "version": "3.12.3"
  }
 },
 "nbformat": 4,
 "nbformat_minor": 5
}
