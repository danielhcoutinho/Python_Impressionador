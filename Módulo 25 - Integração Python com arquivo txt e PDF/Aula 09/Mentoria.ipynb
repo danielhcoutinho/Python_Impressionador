{
 "cells": [
  {
   "cell_type": "code",
   "execution_count": 2,
   "id": "ccaf6ca7",
   "metadata": {},
   "outputs": [
    {
     "name": "stdout",
     "output_type": "stream",
     "text": [
      "Requirement already satisfied: python-docx in c:\\users\\danih\\appdata\\local\\programs\\python\\python312\\lib\\site-packages (1.2.0)\n",
      "Requirement already satisfied: lxml>=3.1.0 in c:\\users\\danih\\appdata\\local\\programs\\python\\python312\\lib\\site-packages (from python-docx) (6.0.0)\n",
      "Requirement already satisfied: typing_extensions>=4.9.0 in c:\\users\\danih\\appdata\\local\\programs\\python\\python312\\lib\\site-packages (from python-docx) (4.14.1)\n"
     ]
    },
    {
     "name": "stderr",
     "output_type": "stream",
     "text": [
      "\n",
      "[notice] A new release of pip is available: 24.0 -> 25.1.1\n",
      "[notice] To update, run: python.exe -m pip install --upgrade pip\n"
     ]
    }
   ],
   "source": [
    "!pip install python-docx"
   ]
  },
  {
   "cell_type": "code",
   "execution_count": 3,
   "id": "bf67c636",
   "metadata": {},
   "outputs": [],
   "source": [
    "from docx import Document #importa o modulo Document da biblioteca docx\n",
    "\n",
    "# criando o documento no Python\n",
    "documento = Document()\n",
    "\n",
    "faturamento = 1000\n",
    "\n",
    "# aqui você edita tudo o que você quer\n",
    "texto = f\"\"\"Fala Lira,\n",
    "\n",
    "O faturamento da empresa ontem foi de R${faturamento}\n",
    "\n",
    "Tamo junto, abs.\n",
    "\"\"\"\n",
    "\n",
    "paragrafo = documento.add_paragraph(texto) #adiciona o texto/paragrafo no documento/word"
   ]
  },
  {
   "cell_type": "markdown",
   "id": "1a5b69f8",
   "metadata": {},
   "source": [
    "### formatação"
   ]
  },
  {
   "cell_type": "code",
   "execution_count": 4,
   "id": "8e3207de",
   "metadata": {},
   "outputs": [],
   "source": [
    "from docx.shared import Pt, RGBColor, Cm # valores de formatação\n",
    "from docx.enum.style import WD_STYLE_TYPE #permite criar estilo/valores de formatação\n",
    "\n",
    "paragrafo.style = documento.styles.add_style(\"EstiloLira\", WD_STYLE_TYPE.PARAGRAPH) #add um estilo ao doc, nesse caso estilo de paragrafo\n",
    "\n",
    "paragrafo.style.font.name = \"Algerian\" #edita a fonte do texto\n",
    "paragrafo.style.font.size = Pt(15) #edita o tamanho da fonte\n",
    "paragrafo.style.font.bold = True #edita a fonte em negrito\n",
    "paragrafo.style.font.italic = True #edita a fonte em italico\n",
    "paragrafo.style.font.underline = True #edita a fonte em sublinado\n",
    "paragrafo.style.font.color.rgb = RGBColor(255, 0, 0)"
   ]
  },
  {
   "cell_type": "code",
   "execution_count": 5,
   "id": "5a150cf0",
   "metadata": {},
   "outputs": [],
   "source": [
    "paragrafo = documento.add_paragraph(\"PS: A quantidade de produtos vendidos foi de 10\", \"Heading 5\") #add um novo paragrafo, com outro estilo"
   ]
  },
  {
   "cell_type": "code",
   "execution_count": 6,
   "id": "687d2e5d",
   "metadata": {},
   "outputs": [],
   "source": [
    "# implementando tudo que fizemos no Python no Texto.docx\n",
    "documento.save(\"Texto.docx\")"
   ]
  },
  {
   "cell_type": "markdown",
   "id": "f0594908",
   "metadata": {},
   "source": [
    "### Aproveitando um template do word"
   ]
  },
  {
   "cell_type": "code",
   "execution_count": 7,
   "id": "d8eb8f3c",
   "metadata": {},
   "outputs": [
    {
     "ename": "PackageNotFoundError",
     "evalue": "Package not found at 'template.docx'",
     "output_type": "error",
     "traceback": [
      "\u001b[1;31m---------------------------------------------------------------------------\u001b[0m",
      "\u001b[1;31mPackageNotFoundError\u001b[0m                      Traceback (most recent call last)",
      "Cell \u001b[1;32mIn[7], line 1\u001b[0m\n\u001b[1;32m----> 1\u001b[0m template \u001b[38;5;241m=\u001b[39m \u001b[43mDocument\u001b[49m\u001b[43m(\u001b[49m\u001b[38;5;124;43m\"\u001b[39;49m\u001b[38;5;124;43mtemplate.docx\u001b[39;49m\u001b[38;5;124;43m\"\u001b[39;49m\u001b[43m)\u001b[49m \u001b[38;5;66;03m#template criado a partir do word\u001b[39;00m\n",
      "File \u001b[1;32mc:\\Users\\Danih\\AppData\\Local\\Programs\\Python\\Python312\\Lib\\site-packages\\docx\\api.py:27\u001b[0m, in \u001b[0;36mDocument\u001b[1;34m(docx)\u001b[0m\n\u001b[0;32m     20\u001b[0m \u001b[38;5;250m\u001b[39m\u001b[38;5;124;03m\"\"\"Return a |Document| object loaded from `docx`, where `docx` can be either a path\u001b[39;00m\n\u001b[0;32m     21\u001b[0m \u001b[38;5;124;03mto a ``.docx`` file (a string) or a file-like object.\u001b[39;00m\n\u001b[0;32m     22\u001b[0m \n\u001b[0;32m     23\u001b[0m \u001b[38;5;124;03mIf `docx` is missing or ``None``, the built-in default document \"template\" is\u001b[39;00m\n\u001b[0;32m     24\u001b[0m \u001b[38;5;124;03mloaded.\u001b[39;00m\n\u001b[0;32m     25\u001b[0m \u001b[38;5;124;03m\"\"\"\u001b[39;00m\n\u001b[0;32m     26\u001b[0m docx \u001b[38;5;241m=\u001b[39m _default_docx_path() \u001b[38;5;28;01mif\u001b[39;00m docx \u001b[38;5;129;01mis\u001b[39;00m \u001b[38;5;28;01mNone\u001b[39;00m \u001b[38;5;28;01melse\u001b[39;00m docx\n\u001b[1;32m---> 27\u001b[0m document_part \u001b[38;5;241m=\u001b[39m cast(\u001b[38;5;124m\"\u001b[39m\u001b[38;5;124mDocumentPart\u001b[39m\u001b[38;5;124m\"\u001b[39m, \u001b[43mPackage\u001b[49m\u001b[38;5;241;43m.\u001b[39;49m\u001b[43mopen\u001b[49m\u001b[43m(\u001b[49m\u001b[43mdocx\u001b[49m\u001b[43m)\u001b[49m\u001b[38;5;241m.\u001b[39mmain_document_part)\n\u001b[0;32m     28\u001b[0m \u001b[38;5;28;01mif\u001b[39;00m document_part\u001b[38;5;241m.\u001b[39mcontent_type \u001b[38;5;241m!=\u001b[39m CT\u001b[38;5;241m.\u001b[39mWML_DOCUMENT_MAIN:\n\u001b[0;32m     29\u001b[0m     tmpl \u001b[38;5;241m=\u001b[39m \u001b[38;5;124m\"\u001b[39m\u001b[38;5;124mfile \u001b[39m\u001b[38;5;124m'\u001b[39m\u001b[38;5;132;01m%s\u001b[39;00m\u001b[38;5;124m'\u001b[39m\u001b[38;5;124m is not a Word file, content type is \u001b[39m\u001b[38;5;124m'\u001b[39m\u001b[38;5;132;01m%s\u001b[39;00m\u001b[38;5;124m'\u001b[39m\u001b[38;5;124m\"\u001b[39m\n",
      "File \u001b[1;32mc:\\Users\\Danih\\AppData\\Local\\Programs\\Python\\Python312\\Lib\\site-packages\\docx\\opc\\package.py:126\u001b[0m, in \u001b[0;36mOpcPackage.open\u001b[1;34m(cls, pkg_file)\u001b[0m\n\u001b[0;32m    123\u001b[0m \u001b[38;5;129m@classmethod\u001b[39m\n\u001b[0;32m    124\u001b[0m \u001b[38;5;28;01mdef\u001b[39;00m \u001b[38;5;21mopen\u001b[39m(\u001b[38;5;28mcls\u001b[39m, pkg_file: \u001b[38;5;28mstr\u001b[39m \u001b[38;5;241m|\u001b[39m IO[\u001b[38;5;28mbytes\u001b[39m]) \u001b[38;5;241m-\u001b[39m\u001b[38;5;241m>\u001b[39m Self:\n\u001b[0;32m    125\u001b[0m \u001b[38;5;250m    \u001b[39m\u001b[38;5;124;03m\"\"\"Return an |OpcPackage| instance loaded with the contents of `pkg_file`.\"\"\"\u001b[39;00m\n\u001b[1;32m--> 126\u001b[0m     pkg_reader \u001b[38;5;241m=\u001b[39m \u001b[43mPackageReader\u001b[49m\u001b[38;5;241;43m.\u001b[39;49m\u001b[43mfrom_file\u001b[49m\u001b[43m(\u001b[49m\u001b[43mpkg_file\u001b[49m\u001b[43m)\u001b[49m\n\u001b[0;32m    127\u001b[0m     package \u001b[38;5;241m=\u001b[39m \u001b[38;5;28mcls\u001b[39m()\n\u001b[0;32m    128\u001b[0m     Unmarshaller\u001b[38;5;241m.\u001b[39munmarshal(pkg_reader, package, PartFactory)\n",
      "File \u001b[1;32mc:\\Users\\Danih\\AppData\\Local\\Programs\\Python\\Python312\\Lib\\site-packages\\docx\\opc\\pkgreader.py:22\u001b[0m, in \u001b[0;36mPackageReader.from_file\u001b[1;34m(pkg_file)\u001b[0m\n\u001b[0;32m     19\u001b[0m \u001b[38;5;129m@staticmethod\u001b[39m\n\u001b[0;32m     20\u001b[0m \u001b[38;5;28;01mdef\u001b[39;00m \u001b[38;5;21mfrom_file\u001b[39m(pkg_file):\n\u001b[0;32m     21\u001b[0m \u001b[38;5;250m    \u001b[39m\u001b[38;5;124;03m\"\"\"Return a |PackageReader| instance loaded with contents of `pkg_file`.\"\"\"\u001b[39;00m\n\u001b[1;32m---> 22\u001b[0m     phys_reader \u001b[38;5;241m=\u001b[39m \u001b[43mPhysPkgReader\u001b[49m\u001b[43m(\u001b[49m\u001b[43mpkg_file\u001b[49m\u001b[43m)\u001b[49m\n\u001b[0;32m     23\u001b[0m     content_types \u001b[38;5;241m=\u001b[39m _ContentTypeMap\u001b[38;5;241m.\u001b[39mfrom_xml(phys_reader\u001b[38;5;241m.\u001b[39mcontent_types_xml)\n\u001b[0;32m     24\u001b[0m     pkg_srels \u001b[38;5;241m=\u001b[39m PackageReader\u001b[38;5;241m.\u001b[39m_srels_for(phys_reader, PACKAGE_URI)\n",
      "File \u001b[1;32mc:\\Users\\Danih\\AppData\\Local\\Programs\\Python\\Python312\\Lib\\site-packages\\docx\\opc\\phys_pkg.py:21\u001b[0m, in \u001b[0;36mPhysPkgReader.__new__\u001b[1;34m(cls, pkg_file)\u001b[0m\n\u001b[0;32m     19\u001b[0m         reader_cls \u001b[38;5;241m=\u001b[39m _ZipPkgReader\n\u001b[0;32m     20\u001b[0m     \u001b[38;5;28;01melse\u001b[39;00m:\n\u001b[1;32m---> 21\u001b[0m         \u001b[38;5;28;01mraise\u001b[39;00m PackageNotFoundError(\u001b[38;5;124m\"\u001b[39m\u001b[38;5;124mPackage not found at \u001b[39m\u001b[38;5;124m'\u001b[39m\u001b[38;5;132;01m%s\u001b[39;00m\u001b[38;5;124m'\u001b[39m\u001b[38;5;124m\"\u001b[39m \u001b[38;5;241m%\u001b[39m pkg_file)\n\u001b[0;32m     22\u001b[0m \u001b[38;5;28;01melse\u001b[39;00m:  \u001b[38;5;66;03m# assume it's a stream and pass it to Zip reader to sort out\u001b[39;00m\n\u001b[0;32m     23\u001b[0m     reader_cls \u001b[38;5;241m=\u001b[39m _ZipPkgReader\n",
      "\u001b[1;31mPackageNotFoundError\u001b[0m: Package not found at 'template.docx'"
     ]
    }
   ],
   "source": [
    "template = Document(\"template.docx\") #template criado a partir do word\n"
   ]
  },
  {
   "cell_type": "code",
   "execution_count": 8,
   "id": "3585dc30",
   "metadata": {},
   "outputs": [
    {
     "ename": "NameError",
     "evalue": "name 'template' is not defined",
     "output_type": "error",
     "traceback": [
      "\u001b[1;31m---------------------------------------------------------------------------\u001b[0m",
      "\u001b[1;31mNameError\u001b[0m                                 Traceback (most recent call last)",
      "Cell \u001b[1;32mIn[8], line 1\u001b[0m\n\u001b[1;32m----> 1\u001b[0m paragrafo \u001b[38;5;241m=\u001b[39m \u001b[43mtemplate\u001b[49m\u001b[38;5;241m.\u001b[39madd_paragraph(\u001b[38;5;124m\"\u001b[39m\u001b[38;5;124mContrato de Prestação de Serviço\u001b[39m\u001b[38;5;124m\"\u001b[39m, \u001b[38;5;124m\"\u001b[39m\u001b[38;5;124mNovoEstiloABNT\u001b[39m\u001b[38;5;124m\"\u001b[39m) \u001b[38;5;66;03m#add paragrafo novo com estilo que está dentro do doc do template\u001b[39;00m\n\u001b[0;32m      2\u001b[0m template\u001b[38;5;241m.\u001b[39msave(\u001b[38;5;124m\"\u001b[39m\u001b[38;5;124mNovoArquivo.docx\u001b[39m\u001b[38;5;124m\"\u001b[39m) \u001b[38;5;66;03m#salvando template com um novo nome de doc\u001b[39;00m\n",
      "\u001b[1;31mNameError\u001b[0m: name 'template' is not defined"
     ]
    }
   ],
   "source": [
    "paragrafo = template.add_paragraph(\"Contrato de Prestação de Serviço\", \"NovoEstiloABNT\") #add paragrafo novo com estilo que está dentro do doc do template\n",
    "template.save(\"NovoArquivo.docx\") #salvando template com um novo nome de doc"
   ]
  },
  {
   "cell_type": "markdown",
   "id": "c8882757",
   "metadata": {},
   "source": [
    "### Adicionar texto com edição dentro do texto"
   ]
  },
  {
   "cell_type": "code",
   "execution_count": 9,
   "id": "6d4df1c6",
   "metadata": {},
   "outputs": [],
   "source": [
    "from docx import Document\n",
    "\n",
    "# criando o documento no Python\n",
    "documento = Document()\n",
    "\n",
    "faturamento = 1000\n",
    "\n",
    "# aqui você edita tudo o que você quer\n",
    "texto = f\"\"\"Fala Lira,\n",
    "\n",
    "O faturamento da empresa ontem foi de \"\"\"\n",
    "\n",
    "texto_final = \"Tamo junto, abs.\"\n",
    "\n",
    "\n",
    "paragrafo = documento.add_paragraph(texto) \n",
    "\n",
    "paragrafo.add_run(f\"R${faturamento}\").bold = True #adiciona uma  nova informação no paragrafo que é o que queremos e edita em negrito\n",
    "\n",
    "paragrafo = documento.add_paragraph(texto_final)\n",
    "\n",
    "documento.save(\"Texto.docx\")"
   ]
  },
  {
   "cell_type": "markdown",
   "id": "cf765499",
   "metadata": {},
   "source": [
    "### Controle de Margem e Seções"
   ]
  },
  {
   "cell_type": "code",
   "execution_count": 10,
   "id": "9021d67a",
   "metadata": {},
   "outputs": [],
   "source": [
    "from docx.enum.text import WD_PARAGRAPH_ALIGNMENT\n",
    "\n",
    "# criando o documento no Python\n",
    "documento = Document()\n",
    "\n",
    "for secao in documento.sections:\n",
    "    secao.top_margin = Cm(0.5)\n",
    "    secao.bottom_margin = Cm(1)\n",
    "    secao.left_margin = Cm(1)\n",
    "    secao.right_margin = Cm(1)\n",
    "\n",
    "\n",
    "faturamento = 1000\n",
    "\n",
    "# aqui você edita tudo o que você quer\n",
    "texto = f\"\"\"Fala Lira,\n",
    "\n",
    "O faturamento da empresa ontem foi de R${faturamento}\n",
    "\n",
    "Tamo junto, abs.\n",
    "\"\"\"\n",
    "\n",
    "paragrafo = documento.add_paragraph(texto) \n",
    "paragrafo.alignment = WD_PARAGRAPH_ALIGNMENT.CENTER\n",
    "\n",
    "documento.save(\"Texto.docx\")"
   ]
  },
  {
   "cell_type": "markdown",
   "id": "aeea7253",
   "metadata": {},
   "source": [
    "### Inserir Imagem"
   ]
  },
  {
   "cell_type": "code",
   "execution_count": null,
   "id": "5598ac32",
   "metadata": {},
   "outputs": [],
   "source": [
    "# criando o documento no Python\n",
    "documento = Document()\n",
    "\n",
    "for secao in documento.sections:\n",
    "    secao.top_margin = Cm(0.5)\n",
    "    secao.bottom_margin = Cm(1)\n",
    "    secao.left_margin = Cm(1)\n",
    "    secao.right_margin = Cm(1)\n",
    "\n",
    "\n",
    "faturamento = 1000\n",
    "\n",
    "# aqui você edita tudo o que você quer\n",
    "texto = f\"\"\"Fala Lira,\n",
    "\n",
    "O faturamento da empresa ontem foi de R${faturamento}\n",
    "\n",
    "Tamo junto, abs.\n",
    "\"\"\"\n",
    "\n",
    "paragrafo = documento.add_paragraph(texto)\n",
    "\n",
    "imagem = documento.add_picture(\"imagem.png\", width=Cm(4), height=Cm(4))\n",
    "\n",
    "documento.save(\"Texto.docx\")"
   ]
  },
  {
   "cell_type": "markdown",
   "id": "661c1e80",
   "metadata": {},
   "source": [
    "### Inserir Tabela"
   ]
  },
  {
   "cell_type": "code",
   "execution_count": null,
   "id": "a4b402fc",
   "metadata": {},
   "outputs": [],
   "source": [
    "documento = Document()\n",
    "\n",
    "records = (\n",
    "    (3, '101', 'Spam'),\n",
    "    (7, '422', 'Eggs'),\n",
    "    (4, '631', 'Spam, spam, eggs, and spam')\n",
    ")\n",
    "\n",
    "table = documento.add_table(rows=1, cols=3, style=\"Light Grid Accent 1\")\n",
    "hdr_cells = table.rows[0].cells\n",
    "hdr_cells[0].text = 'Qty'\n",
    "hdr_cells[1].text = 'Id'\n",
    "hdr_cells[2].text = 'Desc'\n",
    "for qty, id, desc in records:\n",
    "    row_cells = table.add_row().cells\n",
    "    row_cells[0].text = str(qty)\n",
    "    row_cells[1].text = id\n",
    "    row_cells[2].text = desc\n",
    "    \n",
    "    \n",
    "documento.save(\"Texto.docx\")"
   ]
  },
  {
   "cell_type": "markdown",
   "id": "b4a01b8b",
   "metadata": {},
   "source": [
    "### Para verificar todos os estilos de um arquivo:"
   ]
  },
  {
   "cell_type": "code",
   "execution_count": 11,
   "id": "1a4bb04f",
   "metadata": {},
   "outputs": [
    {
     "name": "stdout",
     "output_type": "stream",
     "text": [
      "_ParagraphStyle('Normal') id: 2395150315072\n",
      "_ParagraphStyle('Header') id: 2395151902592\n",
      "<docx.styles.style.CharacterStyle object at 0x0000022DAA2DA3C0>\n",
      "_ParagraphStyle('Footer') id: 2395151902592\n",
      "<docx.styles.style.CharacterStyle object at 0x0000022DAA156E40>\n",
      "_ParagraphStyle('Heading 1') id: 2395151902592\n",
      "_ParagraphStyle('Heading 2') id: 2395150315072\n",
      "_ParagraphStyle('Heading 3') id: 2395151902592\n",
      "_ParagraphStyle('Heading 4') id: 2395150315072\n",
      "_ParagraphStyle('Heading 5') id: 2395151902592\n",
      "_ParagraphStyle('Heading 6') id: 2395150315072\n",
      "_ParagraphStyle('Heading 7') id: 2395151902592\n",
      "_ParagraphStyle('Heading 8') id: 2395150315072\n",
      "_ParagraphStyle('Heading 9') id: 2395151902592\n",
      "<docx.styles.style.CharacterStyle object at 0x0000022DAA156E40>\n",
      "_TableStyle('Normal Table') id: 2395151901632\n",
      "<docx.styles.style._NumberingStyle object at 0x0000022DAA156E40>\n",
      "_ParagraphStyle('No Spacing') id: 2395151901632\n",
      "<docx.styles.style.CharacterStyle object at 0x0000022DAA156E40>\n",
      "<docx.styles.style.CharacterStyle object at 0x0000022DAA2DA3C0>\n",
      "<docx.styles.style.CharacterStyle object at 0x0000022DAA156E40>\n",
      "_ParagraphStyle('Title') id: 2395151901632\n",
      "<docx.styles.style.CharacterStyle object at 0x0000022DAA2DA780>\n",
      "_ParagraphStyle('Subtitle') id: 2395151901632\n",
      "<docx.styles.style.CharacterStyle object at 0x0000022DAA2DA780>\n",
      "_ParagraphStyle('List Paragraph') id: 2395151901632\n",
      "_ParagraphStyle('Body Text') id: 2395151902592\n",
      "<docx.styles.style.CharacterStyle object at 0x0000022DAA2DA3C0>\n",
      "_ParagraphStyle('Body Text 2') id: 2395151902592\n",
      "<docx.styles.style.CharacterStyle object at 0x0000022DAA2DA3C0>\n",
      "_ParagraphStyle('Body Text 3') id: 2395151902592\n",
      "<docx.styles.style.CharacterStyle object at 0x0000022DAA2DA3C0>\n",
      "_ParagraphStyle('List') id: 2395151902592\n",
      "_ParagraphStyle('List 2') id: 2395150315072\n",
      "_ParagraphStyle('List 3') id: 2395150842624\n",
      "_ParagraphStyle('List Bullet') id: 2395151901632\n",
      "_ParagraphStyle('List Bullet 2') id: 2395150842624\n",
      "_ParagraphStyle('List Bullet 3') id: 2395151901632\n",
      "_ParagraphStyle('List Number') id: 2395150842624\n",
      "_ParagraphStyle('List Number 2') id: 2395151901632\n",
      "_ParagraphStyle('List Number 3') id: 2395150842624\n",
      "_ParagraphStyle('List Continue') id: 2395151901632\n",
      "_ParagraphStyle('List Continue 2') id: 2395150842624\n",
      "_ParagraphStyle('List Continue 3') id: 2395151901632\n",
      "_ParagraphStyle('macro') id: 2395150842624\n",
      "<docx.styles.style.CharacterStyle object at 0x0000022DAA156E40>\n",
      "_ParagraphStyle('Quote') id: 2395150842624\n",
      "<docx.styles.style.CharacterStyle object at 0x0000022DAA2DA3C0>\n",
      "<docx.styles.style.CharacterStyle object at 0x0000022DAA1D7B00>\n",
      "<docx.styles.style.CharacterStyle object at 0x0000022DAA2DA3C0>\n",
      "<docx.styles.style.CharacterStyle object at 0x0000022DAA1D7B00>\n",
      "<docx.styles.style.CharacterStyle object at 0x0000022DAA2DA3C0>\n",
      "<docx.styles.style.CharacterStyle object at 0x0000022DAA1D7B00>\n",
      "<docx.styles.style.CharacterStyle object at 0x0000022DAA2DA3C0>\n",
      "_ParagraphStyle('Caption') id: 2395150842624\n",
      "<docx.styles.style.CharacterStyle object at 0x0000022DAA156E40>\n",
      "<docx.styles.style.CharacterStyle object at 0x0000022DAA1D7B00>\n",
      "_ParagraphStyle('Intense Quote') id: 2395150315072\n",
      "<docx.styles.style.CharacterStyle object at 0x0000022DAA1D7B00>\n",
      "<docx.styles.style.CharacterStyle object at 0x0000022DAA156E40>\n",
      "<docx.styles.style.CharacterStyle object at 0x0000022DAA1D7B00>\n",
      "<docx.styles.style.CharacterStyle object at 0x0000022DAA156E40>\n",
      "<docx.styles.style.CharacterStyle object at 0x0000022DAA1D7B00>\n",
      "<docx.styles.style.CharacterStyle object at 0x0000022DAA156E40>\n",
      "_ParagraphStyle('TOC Heading') id: 2395150842624\n",
      "_TableStyle('Table Grid') id: 2395151902592\n",
      "_TableStyle('Light Shading') id: 2395151901632\n",
      "_TableStyle('Light Shading Accent 1') id: 2395150842624\n",
      "_TableStyle('Light Shading Accent 2') id: 2395151902592\n",
      "_TableStyle('Light Shading Accent 3') id: 2395151901632\n",
      "_TableStyle('Light Shading Accent 4') id: 2395150842624\n",
      "_TableStyle('Light Shading Accent 5') id: 2395151902592\n",
      "_TableStyle('Light Shading Accent 6') id: 2395151901632\n",
      "_TableStyle('Light List') id: 2395150842624\n",
      "_TableStyle('Light List Accent 1') id: 2395151902592\n",
      "_TableStyle('Light List Accent 2') id: 2395151901632\n",
      "_TableStyle('Light List Accent 3') id: 2395150842624\n",
      "_TableStyle('Light List Accent 4') id: 2395151902592\n",
      "_TableStyle('Light List Accent 5') id: 2395151901632\n",
      "_TableStyle('Light List Accent 6') id: 2395150842624\n",
      "_TableStyle('Light Grid') id: 2395151902592\n",
      "_TableStyle('Light Grid Accent 1') id: 2395151901632\n",
      "_TableStyle('Light Grid Accent 2') id: 2395150842624\n",
      "_TableStyle('Light Grid Accent 3') id: 2395151902592\n",
      "_TableStyle('Light Grid Accent 4') id: 2395151901632\n",
      "_TableStyle('Light Grid Accent 5') id: 2395150842624\n",
      "_TableStyle('Light Grid Accent 6') id: 2395151902592\n",
      "_TableStyle('Medium Shading 1') id: 2395151901632\n",
      "_TableStyle('Medium Shading 1 Accent 1') id: 2395150842624\n",
      "_TableStyle('Medium Shading 1 Accent 2') id: 2395150315072\n",
      "_TableStyle('Medium Shading 1 Accent 3') id: 2395151902592\n",
      "_TableStyle('Medium Shading 1 Accent 4') id: 2395151901632\n",
      "_TableStyle('Medium Shading 1 Accent 5') id: 2395150842624\n",
      "_TableStyle('Medium Shading 1 Accent 6') id: 2395150315072\n",
      "_TableStyle('Medium Shading 2') id: 2395151902592\n",
      "_TableStyle('Medium Shading 2 Accent 1') id: 2395151901632\n",
      "_TableStyle('Medium Shading 2 Accent 2') id: 2395150842624\n",
      "_TableStyle('Medium Shading 2 Accent 3') id: 2395150315072\n",
      "_TableStyle('Medium Shading 2 Accent 4') id: 2395151902592\n",
      "_TableStyle('Medium Shading 2 Accent 5') id: 2395151901632\n",
      "_TableStyle('Medium Shading 2 Accent 6') id: 2395150842624\n",
      "_TableStyle('Medium List 1') id: 2395150315072\n",
      "_TableStyle('Medium List 1 Accent 1') id: 2395151902592\n",
      "_TableStyle('Medium List 1 Accent 2') id: 2395151901632\n",
      "_TableStyle('Medium List 1 Accent 3') id: 2395150842624\n",
      "_TableStyle('Medium List 1 Accent 4') id: 2395150315072\n",
      "_TableStyle('Medium List 1 Accent 5') id: 2395151902592\n",
      "_TableStyle('Medium List 1 Accent 6') id: 2395151901632\n",
      "_TableStyle('Medium List 2') id: 2395150842624\n",
      "_TableStyle('Medium List 2 Accent 1') id: 2395150315072\n",
      "_TableStyle('Medium List 2 Accent 2') id: 2395151902592\n",
      "_TableStyle('Medium List 2 Accent 3') id: 2395151901632\n",
      "_TableStyle('Medium List 2 Accent 4') id: 2395150842624\n",
      "_TableStyle('Medium List 2 Accent 5') id: 2395150315072\n",
      "_TableStyle('Medium List 2 Accent 6') id: 2395151902592\n",
      "_TableStyle('Medium Grid 1') id: 2395151901632\n",
      "_TableStyle('Medium Grid 1 Accent 1') id: 2395150842624\n",
      "_TableStyle('Medium Grid 1 Accent 2') id: 2395150315072\n",
      "_TableStyle('Medium Grid 1 Accent 3') id: 2395151902592\n",
      "_TableStyle('Medium Grid 1 Accent 4') id: 2395151901632\n",
      "_TableStyle('Medium Grid 1 Accent 5') id: 2395150842624\n",
      "_TableStyle('Medium Grid 1 Accent 6') id: 2395150315072\n",
      "_TableStyle('Medium Grid 2') id: 2395151902592\n",
      "_TableStyle('Medium Grid 2 Accent 1') id: 2395151901632\n",
      "_TableStyle('Medium Grid 2 Accent 2') id: 2395150842624\n",
      "_TableStyle('Medium Grid 2 Accent 3') id: 2395150315072\n",
      "_TableStyle('Medium Grid 2 Accent 4') id: 2395151902592\n",
      "_TableStyle('Medium Grid 2 Accent 5') id: 2395151901632\n",
      "_TableStyle('Medium Grid 2 Accent 6') id: 2395150842624\n",
      "_TableStyle('Medium Grid 3') id: 2395150315072\n",
      "_TableStyle('Medium Grid 3 Accent 1') id: 2395151902592\n",
      "_TableStyle('Medium Grid 3 Accent 2') id: 2395151901632\n",
      "_TableStyle('Medium Grid 3 Accent 3') id: 2395150842624\n",
      "_TableStyle('Medium Grid 3 Accent 4') id: 2395150315072\n",
      "_TableStyle('Medium Grid 3 Accent 5') id: 2395151902592\n",
      "_TableStyle('Medium Grid 3 Accent 6') id: 2395151901632\n",
      "_TableStyle('Dark List') id: 2395150842624\n",
      "_TableStyle('Dark List Accent 1') id: 2395150315072\n",
      "_TableStyle('Dark List Accent 2') id: 2395151902592\n",
      "_TableStyle('Dark List Accent 3') id: 2395151901632\n",
      "_TableStyle('Dark List Accent 4') id: 2395150842624\n",
      "_TableStyle('Dark List Accent 5') id: 2395150315072\n",
      "_TableStyle('Dark List Accent 6') id: 2395151902592\n",
      "_TableStyle('Colorful Shading') id: 2395151901632\n",
      "_TableStyle('Colorful Shading Accent 1') id: 2395150842624\n",
      "_TableStyle('Colorful Shading Accent 2') id: 2395150315072\n",
      "_TableStyle('Colorful Shading Accent 3') id: 2395151902592\n",
      "_TableStyle('Colorful Shading Accent 4') id: 2395151901632\n",
      "_TableStyle('Colorful Shading Accent 5') id: 2395150842624\n",
      "_TableStyle('Colorful Shading Accent 6') id: 2395150315072\n",
      "_TableStyle('Colorful List') id: 2395151902592\n",
      "_TableStyle('Colorful List Accent 1') id: 2395151901632\n",
      "_TableStyle('Colorful List Accent 2') id: 2395150842624\n",
      "_TableStyle('Colorful List Accent 3') id: 2395150315072\n",
      "_TableStyle('Colorful List Accent 4') id: 2395151902592\n",
      "_TableStyle('Colorful List Accent 5') id: 2395151901632\n",
      "_TableStyle('Colorful List Accent 6') id: 2395150842624\n",
      "_TableStyle('Colorful Grid') id: 2395150315072\n",
      "_TableStyle('Colorful Grid Accent 1') id: 2395151902592\n",
      "_TableStyle('Colorful Grid Accent 2') id: 2395151901632\n",
      "_TableStyle('Colorful Grid Accent 3') id: 2395150842624\n",
      "_TableStyle('Colorful Grid Accent 4') id: 2395150315072\n",
      "_TableStyle('Colorful Grid Accent 5') id: 2395151902592\n",
      "_TableStyle('Colorful Grid Accent 6') id: 2395151901632\n"
     ]
    }
   ],
   "source": [
    "for estilo in documento.styles:\n",
    "    print(estilo)"
   ]
  },
  {
   "cell_type": "markdown",
   "id": "515bc559",
   "metadata": {},
   "source": [
    "### Adaptar um documento"
   ]
  },
  {
   "cell_type": "code",
   "execution_count": null,
   "id": "a17586bb",
   "metadata": {},
   "outputs": [],
   "source": [
    "from datetime import datetime\n",
    "\n",
    "contrato = Document(\"Contrato.docx\")\n",
    "\n",
    "nome = \"Lira da Hashtag\"\n",
    "item1 = \"Serviço de Treinamento em Excel\"\n",
    "item2 = \"Apostila Completa de Excel\"\n",
    "item3 = \"Serviço de Treinamentos de Python\"\n",
    "\n",
    "dicionario_valores = {\n",
    "    \"XXXX\": nome,\n",
    "    \"YYYY\": item1,\n",
    "    \"ZZZZ\": item2,\n",
    "    \"WWWW\": item3,\n",
    "    \"DD\": str(datetime.now().day),\n",
    "    \"MM\": str(datetime.now().month),\n",
    "    \"AAAA\": str(datetime.now().year),\n",
    "}\n",
    "\n",
    "# tem alguma função replace? -> é executada por parágrafo\n",
    "# percorrer as linhas\n",
    "    # se a linha tiver o texto xxxx substitui pelo nome\n",
    "for paragrafo in contrato.paragraphs:\n",
    "    # para cada placeholder do dicionario\n",
    "    for codigo in dicionario_valores:\n",
    "        if codigo in paragrafo.text:\n",
    "            paragrafo.text = paragrafo.text.replace(codigo, dicionario_valores[codigo])\n",
    "\n",
    "contrato.save(f\"Contrato Atualizado - {nome}.docx\")"
   ]
  },
  {
   "cell_type": "code",
   "execution_count": null,
   "id": "a97d49ce",
   "metadata": {},
   "outputs": [],
   "source": []
  }
 ],
 "metadata": {
  "kernelspec": {
   "display_name": "Python 3",
   "language": "python",
   "name": "python3"
  },
  "language_info": {
   "codemirror_mode": {
    "name": "ipython",
    "version": 3
   },
   "file_extension": ".py",
   "mimetype": "text/x-python",
   "name": "python",
   "nbconvert_exporter": "python",
   "pygments_lexer": "ipython3",
   "version": "3.12.3"
  }
 },
 "nbformat": 4,
 "nbformat_minor": 5
}
