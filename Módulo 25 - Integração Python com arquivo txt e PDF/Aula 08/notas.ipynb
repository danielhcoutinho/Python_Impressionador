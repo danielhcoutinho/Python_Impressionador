{
 "cells": [
  {
   "cell_type": "code",
   "execution_count": 12,
   "id": "6357ae30",
   "metadata": {},
   "outputs": [],
   "source": [
    "import xmltodict\n",
    "\n",
    "# abrir e ler o arquivo\n",
    "\n",
    "#def ler_xml_danfe(nota):\n",
    "with open('NFs Finais/DANFEBrota.xml', 'rb') as arquivo:\n",
    "    documento = xmltodict.parse(arquivo)\n",
    "#print(documento)\n",
    "dic_notafiscal = documento['nfeProc']['NFe']['infNFe']\n",
    "\n",
    "valor_total = dic_notafiscal['total']['ICMSTot']['vNF']\n",
    "cnpj_vendeu = dic_notafiscal['emit']['CNPJ']\n",
    "nome_vendeu = dic_notafiscal['emit']['xNome']\n",
    "cpf_comprou = dic_notafiscal['dest']['CPF']\n",
    "nome_comprou = dic_notafiscal['dest']['xNome']\n",
    "produtos = dic_notafiscal['det']\n",
    "lista_produtos = []\n",
    "for produto in produtos:\n",
    "    valor_produto = produto['prod']['vProd']\n",
    "    nome_produto = produto['prod']['xProd']\n",
    "    lista_produtos.append((nome_produto, valor_produto))\n",
    "resposta = {\n",
    "    'valor_total': [valor_total],\n",
    "    'cnpj_vendeu': [cnpj_vendeu],\n",
    "    'nome_vendeu': [nome_vendeu],\n",
    "    'cpf_comprou': [cpf_comprou],\n",
    "    'nome_comprou': [nome_comprou],\n",
    "    'lista_produtos': [lista_produtos],\n",
    "}\n",
    "    \n",
    "\n",
    "\n",
    "\n",
    "import pandas as pd\n",
    "\n",
    "tabela = pd.DataFrame.from_dict(resposta)\n",
    "tabela.to_excel('NFs.xlsx')"
   ]
  }
 ],
 "metadata": {
  "kernelspec": {
   "display_name": "Python 3",
   "language": "python",
   "name": "python3"
  },
  "language_info": {
   "codemirror_mode": {
    "name": "ipython",
    "version": 3
   },
   "file_extension": ".py",
   "mimetype": "text/x-python",
   "name": "python",
   "nbconvert_exporter": "python",
   "pygments_lexer": "ipython3",
   "version": "3.12.3"
  }
 },
 "nbformat": 4,
 "nbformat_minor": 5
}
