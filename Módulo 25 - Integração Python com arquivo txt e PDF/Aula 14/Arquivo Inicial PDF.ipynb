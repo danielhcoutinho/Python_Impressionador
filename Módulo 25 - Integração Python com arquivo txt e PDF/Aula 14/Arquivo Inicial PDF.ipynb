{
 "cells": [
  {
   "cell_type": "code",
   "execution_count": 6,
   "metadata": {},
   "outputs": [
    {
     "name": "stdout",
     "output_type": "stream",
     "text": [
      "Requirement already satisfied: pypdf2 in c:\\users\\danih\\appdata\\local\\programs\\python\\python312\\lib\\site-packages (3.0.1)\n"
     ]
    },
    {
     "name": "stderr",
     "output_type": "stream",
     "text": [
      "\n",
      "[notice] A new release of pip is available: 24.0 -> 25.1.1\n",
      "[notice] To update, run: python.exe -m pip install --upgrade pip\n"
     ]
    },
    {
     "name": "stdout",
     "output_type": "stream",
     "text": [
      "Requirement already satisfied: tabula-py in c:\\users\\danih\\appdata\\local\\programs\\python\\python312\\lib\\site-packages (2.10.0)\n",
      "Requirement already satisfied: pandas>=0.25.3 in c:\\users\\danih\\appdata\\local\\programs\\python\\python312\\lib\\site-packages (from tabula-py) (2.2.3)\n",
      "Requirement already satisfied: numpy>1.24.4 in c:\\users\\danih\\appdata\\local\\programs\\python\\python312\\lib\\site-packages (from tabula-py) (2.2.0)\n",
      "Requirement already satisfied: distro in c:\\users\\danih\\appdata\\local\\programs\\python\\python312\\lib\\site-packages (from tabula-py) (1.9.0)\n",
      "Requirement already satisfied: python-dateutil>=2.8.2 in c:\\users\\danih\\appdata\\roaming\\python\\python312\\site-packages (from pandas>=0.25.3->tabula-py) (2.9.0.post0)\n",
      "Requirement already satisfied: pytz>=2020.1 in c:\\users\\danih\\appdata\\local\\programs\\python\\python312\\lib\\site-packages (from pandas>=0.25.3->tabula-py) (2024.2)\n",
      "Requirement already satisfied: tzdata>=2022.7 in c:\\users\\danih\\appdata\\local\\programs\\python\\python312\\lib\\site-packages (from pandas>=0.25.3->tabula-py) (2025.1)\n",
      "Requirement already satisfied: six>=1.5 in c:\\users\\danih\\appdata\\roaming\\python\\python312\\site-packages (from python-dateutil>=2.8.2->pandas>=0.25.3->tabula-py) (1.16.0)\n"
     ]
    },
    {
     "name": "stderr",
     "output_type": "stream",
     "text": [
      "\n",
      "[notice] A new release of pip is available: 24.0 -> 25.1.1\n",
      "[notice] To update, run: python.exe -m pip install --upgrade pip\n"
     ]
    }
   ],
   "source": [
    "!pip install pypdf2\n",
    "!pip install  tabula-py"
   ]
  },
  {
   "cell_type": "markdown",
   "metadata": {},
   "source": [
    "# Vamos aprender a trabalhar com PDF usando o Python\n",
    "\n",
    "- Regra geral: PDF foi feito justamente para bloquear muita coisa, então não é fácil \"brincar\" com um pdf\n",
    "- Mesmo assim, Python tem várias bibliotecas que vão nos ajudar, vamos focar em 2:\n",
    "    - PyPDF2\n",
    "    - Tabula\n",
    "- Ler e extrair informações de um PDF a gente consegue fazer.\n",
    "- Escrever e Editar, aí já é outra história\n",
    "\n",
    "### Para os nossos exemplos, vamos avaliar o Release de Resultados do 3º e 4º Trimestre de 2020 da Magazine Luiza"
   ]
  },
  {
   "cell_type": "markdown",
   "metadata": {},
   "source": [
    "#### 1º Objetivo: Queremos conseguir separar apenas o DRE do Release de Resultados (Página 14) para enviar para a Diretoria, como fazemos?\n",
    "    - Separar as páginas de um pdf"
   ]
  },
  {
   "cell_type": "code",
   "execution_count": 7,
   "metadata": {},
   "outputs": [],
   "source": [
    "import PyPDF2 as pyf\n",
    "\n",
    "from pathlib import Path\n",
    "\n",
    "nome = \"MGLU_ER_3T20_POR.pdf\"\n",
    "arquivo_pdf = pyf.PdfReader(nome) #vai abrir e ler o arquivo PDF\n",
    "\n",
    "for i, pagina in enumerate(arquivo_pdf.pages): #para cada indice e pagina no PDF\n",
    "    num_pagina = i + 1 #pega o nmr da pag/indice do PDF e soma mais um ao percorrer\n",
    "    novo_pdf = pyf.PdfWriter() #cria um PDF e que pode ser escrito com esse metodo\n",
    "    novo_pdf.add_page(pagina) #add a pagina do PDF que percorrerá no for\n",
    "\n",
    "    with Path(f'paginas/Arquivo Pag {num_pagina}.pdf').open(mode='wb') as arquivo: #salva os arquivos na pasta \"paginas\" e abre o arquivo em modo de escrita\n",
    "        novo_pdf.write(arquivo) #roda um novo PDF que é o que criamos\n",
    "\n",
    "\n"
   ]
  },
  {
   "cell_type": "markdown",
   "metadata": {},
   "source": [
    "#### 2º Objetivo: Com o Release de Resultados já separado página por página, queremos incluir apenas as Páginas de Destaque (Página 1), DRE (Página 14) e Balanço (Página 16).\n",
    "    - Juntar vários pdfs em 1"
   ]
  },
  {
   "cell_type": "code",
   "execution_count": 8,
   "metadata": {},
   "outputs": [],
   "source": [
    "import PyPDF2 as pyf  # Importa a biblioteca PyPDF2 e dá o apelido \"pyf\" para facilitar o uso\n",
    "\n",
    "from pathlib import Path  # Importa o Path, que serve para trabalhar com arquivos e caminhos de forma moderna\n",
    "\n",
    "num_paginas = [1, 14, 16]  # Lista com os números das páginas/arquivos PDF que queremos juntar\n",
    "\n",
    "novo_arquivo = pyf.PdfWriter()  # Cria um novo PDF vazio, pronto para receber páginas\n",
    "\n",
    "for num in num_paginas:  # Para cada número na lista de páginas\n",
    "    pagina_pdf = pyf.PdfReader(f'paginas/Arquivo Pag {num}.pdf')  # Abre e lê o PDF da pasta 'paginas' com o número atual\n",
    "    novo_arquivo.add_page(pagina_pdf.pages[0])  # Adiciona a primeira (e única) página do PDF lido ao novo PDF\n",
    "\n",
    "with Path(f'Consolidado.pdf').open(mode='wb') as arquivo:  # Abre (ou cria) o arquivo Consolidado.pdf para escrita binária\n",
    "    novo_arquivo.write(arquivo)  # Escreve o conteúdo do novo PDF (com as páginas adicionadas) dentro do arquivo\n"
   ]
  },
  {
   "cell_type": "markdown",
   "metadata": {},
   "source": [
    "### Extra: Para adicionar todas as páginas de 2 pdfs"
   ]
  },
  {
   "cell_type": "code",
   "execution_count": 9,
   "metadata": {},
   "outputs": [],
   "source": [
    "pdf_mesclado = pyf.PdfMerger()\n",
    "\n",
    "pdf_mesclado.append('MGLU_ER_3T20_POR.pdf')\n",
    "pdf_mesclado.append('MGLU_ER_4T20_POR.pdf')\n",
    "\n",
    "with Path(f'Mesclado.pdf').open(mode='wb') as arquivo:\n",
    "    pdf_mesclado.write(arquivo)"
   ]
  },
  {
   "cell_type": "markdown",
   "metadata": {},
   "source": [
    "# Funcionalidades que podem ser úteis:\n",
    "\n",
    "- Inserir arquivo no meio do outro\n",
    "- Quero colocar dentro do Resultado do 4T20 os destaques do 3T20 para poder comparar os 2 dentro do mesmo relatório"
   ]
  },
  {
   "cell_type": "code",
   "execution_count": 10,
   "metadata": {},
   "outputs": [],
   "source": [
    "pdf_mesclado = pyf.PdfMerger() #CRIA UM PDF VAZIO\n",
    "\n",
    "pdf_mesclado.append('MGLU_ER_4T20_POR.pdf') #add todo o pdf dentro do ()\n",
    "\n",
    "pdf_mesclado.merge(1,'paginas/Arquivo Pag 1.pdf') #add um novo pdf, o primeiro parametro nos passamos a posição e depois qual pdf vamos add\n",
    "\n",
    "with Path(f'relatorio 2 trimestre.pdf').open(mode='wb') as arquivo: #cria o arquivo e salva ele com o nome em ()\n",
    "    pdf_mesclado.write(arquivo) #add todo conteudo do pdf mesclado dentro do arquivo criado"
   ]
  },
  {
   "cell_type": "markdown",
   "metadata": {},
   "source": [
    "- Rodar Página"
   ]
  },
  {
   "cell_type": "code",
   "execution_count": 11,
   "metadata": {},
   "outputs": [],
   "source": [
    "arquivo_pdf_original = pyf.PdfReader('MGLU_ER_3T20_POR.pdf') #abre e le o pdf\n",
    "\n",
    "novo_arquivo = pyf.PdfWriter()\n",
    "\n",
    "for pagina in arquivo_pdf_original.pages: #para cada pagina no arquivo original\n",
    "    pagina.rotate(90) #gire as paginas em 90 graus\n",
    "    novo_arquivo.add_page(pagina) #add a pagina girada ao novo arquivo\n",
    "\n",
    "with Path(f'paginas rotacionadas.pdf').open(mode='wb') as arquivo: #cria o arquivo e salva ele com o nome em ()\n",
    "    novo_arquivo.write(arquivo)"
   ]
  },
  {
   "cell_type": "markdown",
   "metadata": {},
   "source": [
    "# Trabalhando com Textos e Informações Dentro do PDF\n",
    "\n",
    "#### 1º Objetivo: Quero identificar como foram as Despesas com Vendas da MGLU\n",
    "    - Pegar texto da página e identificar onde está essa informação"
   ]
  },
  {
   "cell_type": "code",
   "execution_count": 14,
   "metadata": {},
   "outputs": [
    {
     "name": "stdout",
     "output_type": "stream",
     "text": [
      "{'/Title': 'DESEMPENHO FINANCEIRO CONSOLIDADO', '/Author': 'an_rezende', '/Subject': 'Receita Bruta', '/Creator': 'Microsoft® Office Word 2007', '/CreationDate': \"D:20201109183121-03'00'\", '/ModDate': \"D:20201109183121-03'00'\", '/Producer': 'Microsoft® Office Word 2007'}\n"
     ]
    }
   ],
   "source": [
    "arquivo = pyf.PdfReader('MGLU_ER_3T20_POR.pdf')\n",
    "\n",
    "metadados_arquivo = arquivo.metadata\n",
    "print(metadados_arquivo)"
   ]
  },
  {
   "cell_type": "code",
   "execution_count": null,
   "metadata": {},
   "outputs": [
    {
     "name": "stdout",
     "output_type": "stream",
     "text": [
      "numero pag: 10\n"
     ]
    }
   ],
   "source": [
    "texto_referencia = '| Despesas com Vendas' #texto referencia para localizar de onde queremos a info\n",
    "\n",
    "for i, pagina in enumerate(arquivo.pages): #para cada indice e pagina do arquivo\n",
    "    texto_pagina = pagina.extract_text() #extrair o texto da pagina\n",
    "    if texto_referencia in texto_pagina: #se o texto referencia estiver no texto da pagina\n",
    "        print(f'numero pag: {i+1}') #printa o nmr da pagina\n",
    "        texto_analisar = texto_pagina"
   ]
  },
  {
   "cell_type": "code",
   "execution_count": 19,
   "metadata": {},
   "outputs": [
    {
     "name": "stdout",
     "output_type": "stream",
     "text": [
      "Divulgação de Resultados  \n",
      "3T20 \n",
      "10 \n",
      " \n",
      "  \n",
      " \n",
      "| Despesas Operacionais  \n",
      " \n",
      "R$ milhões  3T20  \n",
      "Ajustado   % RL  3T19  \n",
      "Ajustado   % RL   Var(%)  9M20  \n",
      "Ajustado   % RL  9M19  \n",
      "Ajustado   % RL   Var(%)  \n",
      "  Despesas com Vendas   (1.432,6)  -17,2%  (890,0)  -18,3%  61,0%  (3.487,2)  -18,2%  (2.309,1)  -17,1%  51,0%  \n",
      "  Despesas Gerais e Administrativas   (240,7)  -2,9%  (207,1)  -4,3%  16,2%  (617,3)  -3,2%  (498,2)  -3,7%  23,9%  \n",
      " Subtotal      (1.673,3)  -20,1%      (1.097,1)  -22,6%  52,5%      (4.104,5)  -21,5%      (2.807,4)  -20,8%  46,2%  \n",
      "  Perdas em Liquidação Duvidosa   (25,4)  -0,3%  (20,2)  -0,4%  25,4%  (84,5)  -0,4%  (45,8)  -0,3%  84,3%  \n",
      "  Outras Receitas Operacionais, Líquidas   15,2  0,2%  15,3  0,3%  -0,6%  41,0  0,2%  44,0  0,3%  -6,8%  \n",
      "  Total de Despesas Operacionais       (1.683,5)  -20,3%      (1.102,0)  -22,7%  52,8%      (4.148,0)  -21,7%      (2.809,2)  -20,8%  47,7%  \n",
      " \n",
      "| Despesas com Vendas  \n",
      " \n",
      "No 3T20, as despesas com vendas totalizaram R$1.432,6 milhões, equivalentes a 17,2% da receita líquida, 1,1 p.p. menor que no \n",
      "3T19 , principalmente devido ao forte crescimento das vendas . Vale ressaltar que a Companhia conseguiu diluir as despesas com \n",
      "vendas m esmo investi ndo em maior nível de serviço,  especialmente em  atendimento e logística.  \n",
      " \n",
      "Nos 9M20, as despesas com vendas totalizaram R$3.487,2 milhões, equivalentes a 18,2% da receita líquida (+1,1 p.p. versus  os \n",
      "9M19).  \n",
      " \n",
      "| Despesas Gerais e Administrativas   \n",
      " \n",
      "No 3T20, as despesas gerais e administrativas totalizaram R$240,7 milhões, equivalentes a 2,9% da receita líquida, uma reduçã o \n",
      "de 1,4 p.p. em relação ao 3T19 devido, principalm ente, ao forte crescimento das vendas.   \n",
      " \n",
      "Nos 9M20, as despesas gerais e admini strativas totalizaram R$617,3 milhões, equivalentes a 3,2% da receita líquida.  \n",
      " \n",
      "| Perdas em Créditos de Liquidação Duvidosa  \n",
      " \n",
      "As provisões para perdas em crédito de liquidação duvidosa totalizaram R$25,4 milhões no 3T20 e R$84,5 nos 9M20.  \n",
      " \n",
      "| Outras Receitas e Despesas Operacionais, Líquidas  \n",
      " \n",
      "R$ milhões  3T20  % RL  3T19  % RL  Var(%)  9M20  % RL  9M19  % RL  Var(%)  \n",
      " Ganho (Perda) na Venda de Ativo Imobilizado               (0,0)  0,0%                1,5  0,0%  -102,0%              (1,9)  0,0%                4,4  0,0%  -143,2%  \n",
      " Apropriação de Receita Diferida               15,2  0,2%               13,8  0,3%  10,3%               42,9  0,2%               39,5  0,3%  8,6%  \n",
      " Subtotal - Ajustado               15,2  0,2%               15,3  0,3%  -0,6%               41,0  0,2%               44,0  0,3%  -6,8%  \n",
      " Créditos tributários                  0,3  0,0%            240,8  5,0%  -99,9%               56,6  0,3%            812,0  6,0%  -93,0%  \n",
      " Provisão para riscos tributários               (0,2)  0,0%            (16,7)  -0,3%  -98,8%               33,6  0,2%          (246,7)  -1,8%  -113,6%  \n",
      " Honorários especialistas                (4,3)  -0,1%            (28,8)  -0,6%  -85,0%            (19,8)  -0,1%          (144,0)  -1,1%  -86,3%  \n",
      " Despesas pré -operacionais de lojas               (3,2)  0,0%            (12,1)  -0,2%  -73,8%              (7,1)  0,0%            (20,3)  -0,2%  -65,0%  \n",
      " Outras despesas não -recorrentes                (7,8)  -0,1%            (15,6)  -0,3%  -50,3%            (23,2)  -0,1%            (52,1)  -0,4%  -55,5%  \n",
      " Subtotal - Não Recorrente             (15,1)  -0,2%            167,7  3,4%  -109,0%               40,2  0,2%            348,9  2,6%  -88,5%  \n",
      " Total                  0,1  0,0%            183,0  3,8%  -100,0%               81,2  0,4%            392,9  2,9%  -79,3%  \n",
      " \n",
      "No 3T20, as outras receitas operacionais líquidas ajustadas totalizaram R$15,2 milhões, influenciadas principalmente pela \n",
      "apropriação de receitas diferidas no montante de R$15,2 milhões. Nos 9M20, as outras receitas operacionais líquidas ajustadas \n",
      "totalizaram R$41,0 milhões.  \n",
      " \n",
      "| Equivalência Patrimonial  \n",
      " \n",
      "No 3T20, o resultado da equivalência patrimonial foi R$65,9 milhões, composto da seguinte forma: (i) o desempenho da \n",
      "Luizacred, responsável pela equivalência de R$58,8  milhões e (ii) a Luizaseg, responsável pela equivalência de R$7,1 milhões. Nos \n",
      "9M20, o resultado da equivalência patrimonial foi R$95,8 milhões.  \n",
      " \n",
      " \n"
     ]
    }
   ],
   "source": [
    "print(texto_analisar)"
   ]
  },
  {
   "cell_type": "code",
   "execution_count": 26,
   "metadata": {},
   "outputs": [
    {
     "name": "stdout",
     "output_type": "stream",
     "text": [
      "| Despesas com Vendas  \n",
      " \n",
      "No 3T20, as despesas com vendas totalizaram R$1.432,6 milhões, equivalentes a 17,2% da receita líquida, 1,1 p.p. menor que no \n",
      "3T19 , principalmente devido ao forte crescimento das vendas . Vale ressaltar que a Companhia conseguiu diluir as despesas com \n",
      "vendas m esmo investi ndo em maior nível de serviço,  especialmente em  atendimento e logística.  \n",
      " \n",
      "Nos 9M20, as despesas com vendas totalizaram R$3.487,2 milhões, equivalentes a 18,2% da receita líquida (+1,1 p.p. versus  os \n",
      "9M19).  \n",
      " \n",
      "\n"
     ]
    }
   ],
   "source": [
    "posicao_inicial = texto_analisar.find(texto_referencia) #da a posição do primeiro caracter do texto passado\n",
    "\n",
    "posicao_final = texto_analisar.find('|', posicao_inicial + 1) #da a posicao do primeiro caracter do texto passado, o segundo parametro diz a partir de qual posicao busca o caracter\n",
    "\n",
    "texto_final = texto_analisar[posicao_inicial:posicao_final] # pega do nosso texto analisado a partir da posicao incial passada e até a posicao final tbm ja passada\n",
    "\n",
    "print(texto_final)"
   ]
  },
  {
   "cell_type": "markdown",
   "metadata": {},
   "source": [
    "#### 2º Objetivo: Quero analisar o DRE (sem ajuste - Página 5)\n",
    "    - Para ler tabelas em pdf, use o tabula (é ninja)\n",
    "    \n",
    "    - Cuidado 1: Instale o tabula-py (não instale o tabula). Se instalar o tabula errado, desinstale ele, instale o tabula-py, desinstale o tabula-py e instale novamente o tabula-py. Reinicie o kernel do Jupyter após isso\n",
    "    \n",
    "    - Cuidado 2: Tem que ter o java instalado no seu computador (depois de instalar, reinicie o computador)"
   ]
  },
  {
   "cell_type": "code",
   "execution_count": null,
   "metadata": {},
   "outputs": [],
   "source": []
  },
  {
   "cell_type": "markdown",
   "metadata": {},
   "source": [
    "#### 3º Objetivo: Quero analisar o Capital de Giro e os Investimentos (ambas as tabelas na página 12)\n",
    "    - Páginas com mais de 1 tabela"
   ]
  },
  {
   "cell_type": "code",
   "execution_count": null,
   "metadata": {},
   "outputs": [],
   "source": []
  },
  {
   "cell_type": "markdown",
   "metadata": {},
   "source": [
    "#### O que fazer quando o tabula não consegue ler alguma linha da tabela? Como o cabeçalho, no nosso caso?"
   ]
  },
  {
   "cell_type": "code",
   "execution_count": null,
   "metadata": {},
   "outputs": [],
   "source": []
  },
  {
   "cell_type": "markdown",
   "metadata": {},
   "source": [
    "# Outro método que pode ser útil algum dia: Captar Imagem em um pdf\n",
    "    - biblioteca pikepdf"
   ]
  },
  {
   "cell_type": "code",
   "execution_count": null,
   "metadata": {},
   "outputs": [],
   "source": []
  },
  {
   "cell_type": "markdown",
   "metadata": {},
   "source": [
    "# Substituir texto no pdf tipo contrato\n",
    "\n",
    "- Não recomendo fazer diretamente pelo Python. Realmente do que vi a melhor opção me parece o Word fazer isso\n",
    "- Caso precise automatizar, automatize o processo fazendo ele pelo Word\n",
    "- Quem quiser MUITO fazer isso pelo Python, tem um link aqui que vai te ajudar de uma solução que achei que funciona. Tem seus bugs/cuidados especiais, mas funciona: https://pdf.co/samples/pdf-co-web-api-replace-text-from-pdf-python-replace-text-from-url"
   ]
  }
 ],
 "metadata": {
  "kernelspec": {
   "display_name": "Python 3",
   "language": "python",
   "name": "python3"
  },
  "language_info": {
   "codemirror_mode": {
    "name": "ipython",
    "version": 3
   },
   "file_extension": ".py",
   "mimetype": "text/x-python",
   "name": "python",
   "nbconvert_exporter": "python",
   "pygments_lexer": "ipython3",
   "version": "3.12.3"
  }
 },
 "nbformat": 4,
 "nbformat_minor": 4
}
