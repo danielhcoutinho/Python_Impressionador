{
 "cells": [
  {
   "cell_type": "markdown",
   "metadata": {},
   "source": [
    "### Exercício 1\n",
    "### Crie um sistema de cadastro de produtos em uma lista de produtos\n",
    "Seu sistema deve:\n",
    "- Pegar o usuário qual produto vai ser cadastrado por meio de um input\n",
    "- Garantir que se o usuário escrever com letra maiúscula ou minúscula, o produto continua sendo o mesmo produto\n",
    "- Se o usuário inserir um produto que já existe na lista, o programa deve printar a mensagem \"Produto já existente, tente novamente\"\n",
    "- Se o usuário inserir um produto que não existe na lista, o programa deve inserir na lista, printar a mensagem Produto X cadastrado com sucesso e em seguida printar a lista completa"
   ]
  },
  {
   "cell_type": "code",
   "execution_count": 5,
   "metadata": {},
   "outputs": [
    {
     "name": "stdout",
     "output_type": "stream",
     "text": [
      "O produto pc foi cadastrado com sucesso\n",
      "['celular', 'camera', 'fone de ouvido', 'monitor', 'pc']\n"
     ]
    }
   ],
   "source": [
    "produtos = [\"celular\", \"camera\", \"fone de ouvido\", \"monitor\"]\n",
    "\n",
    "#pergunta\n",
    "novo_produto = input('Qual produto será cadastrado?')\n",
    "\n",
    "#maisuculo == minusculo\n",
    "novo_produto = novo_produto.casefold()\n",
    "\n",
    "#se ja existe\n",
    "if novo_produto in produtos:\n",
    "    print('Produto já existente, tente novamente')\n",
    "else:\n",
    "    produtos.append(novo_produto)\n",
    "    print(f'O produto {novo_produto} foi cadastrado com sucesso')\n",
    "    print(produtos)\n"
   ]
  },
  {
   "cell_type": "markdown",
   "metadata": {},
   "source": [
    "### Exercício 2\n",
    "#### Crie um sistema de consulta de preços\n",
    "Seu sistema deve:\n",
    "- Pedir para o usuário o nome de um produto\n",
    "- Caso o produto exista na lista de produtos, o programa deve retornar o preço do produto como resposta\n",
    "       - Ex: O produto celular custa R$1500\n",
    "- Caso o produto não exista na lista de produtos, o programa deve printar uma mensagem para o usuário tentar novamente\n"
   ]
  },
  {
   "cell_type": "code",
   "execution_count": 15,
   "metadata": {},
   "outputs": [
    {
     "name": "stdout",
     "output_type": "stream",
     "text": [
      "O produto dem não existe. Tente novamente\n"
     ]
    }
   ],
   "source": [
    "produtos = [\"celular\", \"camera\", \"fone de ouvido\", \"monitor\"]\n",
    "precos = [1500, 1000, 800, 2000]\n",
    "\n",
    "#pedir ao usuario\n",
    "consulta_produto = input('Qual nome do produto?')\n",
    "#se ja existe informa modelo e valor\n",
    "if consulta_produto in produtos:\n",
    "    i = produtos.index(consulta_produto)\n",
    "    print('O produto {} custa R${}'.format(produtos[i], precos[i]))\n",
    "#se nao existe msg de tentar novamente\n",
    "else:\n",
    "    print('O produto {} não existe. Tente novamente'.format(consulta_produto))"
   ]
  },
  {
   "cell_type": "markdown",
   "metadata": {},
   "source": [
    "### Exercício 3\n",
    "#### Crie um sistema de consulta de bônus dos funcionários\n",
    "Seu sistema deve:\n",
    "- Pegar o valor de vendas do funcinoário por meio de um input\n",
    "- Calcular o bônus do funcionário de acordo com a seguinte regra:\n",
    "      - Se o funcionário vendeu mais de 1000 unidades, ele ganha R$2 de bonus para cada unidade vendida\n",
    "      - Se o funcionário vendeu mais de 5000 unidades, ele ganha R$2 de bônus para cada unidade + um valor fixo de R$1000\n",
    "      - Se o funcionário vendeu menos de 1000 unidades, ele não ganha bônus\n",
    "- Printar no final o valor do bônus do funcionário\n"
   ]
  },
  {
   "cell_type": "code",
   "execution_count": 2,
   "metadata": {},
   "outputs": [
    {
     "name": "stdout",
     "output_type": "stream",
     "text": [
      "7000.0\n",
      "O valor do bonus é de 15,000.00\n"
     ]
    }
   ],
   "source": [
    "vendas = float(input('Informe as vendas em unidade:'))\n",
    "print(vendas)\n",
    "if vendas > 1000 and vendas < 5000:\n",
    "    bonus = vendas * 2\n",
    "    print('O valor do bonus é de {:,.2f}'.format(bonus))\n",
    "elif vendas > 5000:\n",
    "    bonus = vendas * 2 + 1000\n",
    "    print('O valor do bonus é de {:,.2f}'.format(bonus))\n",
    "else:\n",
    "    print('Não ganhou bonus')"
   ]
  },
  {
   "cell_type": "markdown",
   "metadata": {},
   "source": [
    "### Exercício 4\n",
    "Crie um programa que consiga descobrir qual dos vendedores vendeu mais\n",
    "<br>As vendas dos vendedores são listas com a quantidade vendida por cada vendedor"
   ]
  },
  {
   "cell_type": "code",
   "execution_count": 26,
   "metadata": {},
   "outputs": [
    {
     "name": "stdout",
     "output_type": "stream",
     "text": [
      "1599\n",
      "1714\n",
      "O vendedor 2 vender mais, pois fez 1714 vendas\n"
     ]
    }
   ],
   "source": [
    "vendas = [\n",
    "    [10, 20, 100, 80, 90, 100, 20, 30, 44, 55, 33, 34, 100, 90, 80, 39, 87, 45, 50, 50, 50, 50, 40, 30, 3, 93, 39, 49, 88],    \n",
    "    [100, 1, 1, 4, 5, 90, 100, 20, 4, 5, 100, 100, 100, 100, 100, 93, 20, 15, 40, 90, 90, 90, 90, 90, 90, 33, 22, 44, 43, 34],\n",
    "]\n",
    "\n",
    "vendedor_1 = sum(vendas[0])\n",
    "vendedor_2 = sum(vendas[1])\n",
    "print(vendedor_1)\n",
    "print(vendedor_2)\n",
    "\n",
    "if vendedor_1 > vendedor_2:\n",
    "    print(f'O vendedor 1 vender mais, pois fez {vendedor_1} vendas')\n",
    "else:\n",
    "    print(f'O vendedor 2 vender mais, pois fez {vendedor_2} vendas')"
   ]
  }
 ],
 "metadata": {
  "kernelspec": {
   "display_name": "Python 3",
   "language": "python",
   "name": "python3"
  },
  "language_info": {
   "codemirror_mode": {
    "name": "ipython",
    "version": 3
   },
   "file_extension": ".py",
   "mimetype": "text/x-python",
   "name": "python",
   "nbconvert_exporter": "python",
   "pygments_lexer": "ipython3",
   "version": "3.12.3"
  }
 },
 "nbformat": 4,
 "nbformat_minor": 2
}
