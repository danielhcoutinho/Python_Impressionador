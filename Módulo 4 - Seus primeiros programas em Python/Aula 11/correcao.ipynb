{
 "cells": [
  {
   "cell_type": "markdown",
   "metadata": {},
   "source": [
    "Nessa aula fizemos a correção do exercício anterior na qual já anotei no caderno onde eu errei"
   ]
  }
 ],
 "metadata": {
  "language_info": {
   "name": "python"
  }
 },
 "nbformat": 4,
 "nbformat_minor": 2
}
